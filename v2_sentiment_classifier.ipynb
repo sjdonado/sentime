{
  "nbformat": 4,
  "nbformat_minor": 0,
  "metadata": {
    "colab": {
      "name": "v2_sentiment_classifier.ipynb",
      "provenance": [],
      "collapsed_sections": []
    },
    "kernelspec": {
      "name": "python3",
      "display_name": "Python 3"
    },
    "accelerator": "GPU"
  },
  "cells": [
    {
      "cell_type": "markdown",
      "metadata": {
        "id": "RAA--i94zPfF",
        "colab_type": "text"
      },
      "source": [
        "# Installing dependencies"
      ]
    },
    {
      "cell_type": "code",
      "metadata": {
        "id": "tlVZZS_TyqpR",
        "colab_type": "code",
        "colab": {
          "base_uri": "https://localhost:8080/",
          "height": 391
        },
        "outputId": "dc4f1144-5f4b-40f5-9c1a-5e0031520b75"
      },
      "source": [
        "!pip install -q -U tqdm\n",
        "!pip install -q -U spacy\n",
        "!pip install -q -U gensim\n",
        "!pip install -q -U nltk\n",
        "!pip install -q -U bs4\n",
        "!pip install -q -U spacymoji\n",
        "!pip install -q -U transformers\n",
        "!pip install -q -U pytorch-pretrained-bert\n",
        "!pip install -q -U fse\n",
        "!pip install -q -U skorch\n",
        "!pip install -q -U Unidecode\n"
      ],
      "execution_count": 2,
      "outputs": [
        {
          "output_type": "stream",
          "text": [
            "\u001b[K     |████████████████████████████████| 71kB 5.1MB/s \n",
            "\u001b[K     |████████████████████████████████| 24.2MB 1.3MB/s \n",
            "\u001b[K     |████████████████████████████████| 1.4MB 8.6MB/s \n",
            "\u001b[?25h  Building wheel for nltk (setup.py) ... \u001b[?25l\u001b[?25hdone\n",
            "\u001b[K     |████████████████████████████████| 51kB 5.4MB/s \n",
            "\u001b[?25h  Building wheel for emoji (setup.py) ... \u001b[?25l\u001b[?25hdone\n",
            "\u001b[K     |████████████████████████████████| 665kB 6.3MB/s \n",
            "\u001b[K     |████████████████████████████████| 3.8MB 17.5MB/s \n",
            "\u001b[K     |████████████████████████████████| 890kB 61.7MB/s \n",
            "\u001b[K     |████████████████████████████████| 1.1MB 54.5MB/s \n",
            "\u001b[?25h  Building wheel for sacremoses (setup.py) ... \u001b[?25l\u001b[?25hdone\n",
            "\u001b[K     |████████████████████████████████| 133kB 9.2MB/s \n",
            "\u001b[K     |████████████████████████████████| 112kB 9.0MB/s \n",
            "\u001b[K     |████████████████████████████████| 32.8MB 91kB/s \n",
            "\u001b[K     |████████████████████████████████| 4.9MB 59.3MB/s \n",
            "\u001b[K     |████████████████████████████████| 276kB 56.1MB/s \n",
            "\u001b[?25h  Building wheel for fse (setup.py) ... \u001b[?25l\u001b[?25hdone\n",
            "  Building wheel for wordfreq (setup.py) ... \u001b[?25l\u001b[?25hdone\n",
            "  Building wheel for langcodes (setup.py) ... \u001b[?25l\u001b[?25hdone\n",
            "  Building wheel for marisa-trie (setup.py) ... \u001b[?25l\u001b[?25hdone\n",
            "\u001b[K     |████████████████████████████████| 122kB 9.7MB/s \n",
            "\u001b[K     |████████████████████████████████| 245kB 9.8MB/s \n",
            "\u001b[?25h"
          ],
          "name": "stdout"
        }
      ]
    },
    {
      "cell_type": "code",
      "metadata": {
        "id": "l3-DGgbRZVox",
        "colab_type": "code",
        "colab": {}
      },
      "source": [
        "%%capture\n",
        "import spacy\n",
        "\n",
        "SPACY_CORE_MODEL = 'es_core_news_md'\n",
        "spacy.cli.download(SPACY_CORE_MODEL)"
      ],
      "execution_count": 0,
      "outputs": []
    },
    {
      "cell_type": "markdown",
      "metadata": {
        "id": "z-AQTxgly8qJ",
        "colab_type": "text"
      },
      "source": [
        "# Mounting drive"
      ]
    },
    {
      "cell_type": "code",
      "metadata": {
        "id": "jdw9gGaNyK6N",
        "colab_type": "code",
        "outputId": "370ad34c-4552-4bfe-aec6-033638d5f476",
        "colab": {
          "base_uri": "https://localhost:8080/",
          "height": 139
        }
      },
      "source": [
        "from google.colab import drive\n",
        "drive.mount('/content/gdrive')\n",
        "\n",
        "%cd /content/gdrive/My Drive/Sentime/data"
      ],
      "execution_count": 4,
      "outputs": [
        {
          "output_type": "stream",
          "text": [
            "Go to this URL in a browser: https://accounts.google.com/o/oauth2/auth?client_id=947318989803-6bn6qk8qdgf4n4g3pfee6491hc0brc4i.apps.googleusercontent.com&redirect_uri=urn%3aietf%3awg%3aoauth%3a2.0%3aoob&response_type=code&scope=email%20https%3a%2f%2fwww.googleapis.com%2fauth%2fdocs.test%20https%3a%2f%2fwww.googleapis.com%2fauth%2fdrive%20https%3a%2f%2fwww.googleapis.com%2fauth%2fdrive.photos.readonly%20https%3a%2f%2fwww.googleapis.com%2fauth%2fpeopleapi.readonly\n",
            "\n",
            "Enter your authorization code:\n",
            "··········\n",
            "Mounted at /content/gdrive\n",
            "/content/gdrive/My Drive/Sentime/data\n"
          ],
          "name": "stdout"
        }
      ]
    },
    {
      "cell_type": "markdown",
      "metadata": {
        "id": "vgkwCLvl0jxQ",
        "colab_type": "text"
      },
      "source": [
        "# Load datasets"
      ]
    },
    {
      "cell_type": "code",
      "metadata": {
        "id": "ROktOsOS03jD",
        "colab_type": "code",
        "colab": {}
      },
      "source": [
        "import os\n",
        "import pandas as pd\n",
        "import numpy as np\n",
        "\n",
        "from pathlib import Path\n",
        "\n",
        "DATA_PATH = \"/content/gdrive/My Drive/Sentime/data\"\n",
        "pretrained_w2v_path = Path(os.path.join(DATA_PATH, \"embeddings\", \"SBW-vectors-300-min5.bin.gz\"))\n",
        "train_data_path = Path(os.path.join(DATA_PATH, \"train\"))\n",
        "val_data_path = Path(os.path.join(DATA_PATH, \"validation\"))\n",
        "test_data_path = Path(os.path.join(DATA_PATH, \"test\"))\n",
        "model_dir = Path(os.path.join(DATA_PATH, \"model\"))\n",
        "\n",
        "def read_data(data_dir):\n",
        "    df = pd.read_csv(data_dir/'data.csv')\n",
        "    idx_mixed = df[df.sentiment == 'MIXED'].index\n",
        "    df.drop(idx_mixed, axis = 0, inplace=True)\n",
        "    df.reset_index(drop=True, inplace=True)\n",
        "    return df\n",
        "\n",
        "\n",
        "train_df = read_data(train_data_path)\n",
        "val_df = read_data(val_data_path)\n",
        "test_df = read_data(test_data_path)"
      ],
      "execution_count": 0,
      "outputs": []
    },
    {
      "cell_type": "code",
      "metadata": {
        "id": "SxyXfOCu2UeU",
        "colab_type": "code",
        "outputId": "b217683f-746a-4200-a5e7-a4890c9a07d3",
        "colab": {
          "base_uri": "https://localhost:8080/",
          "height": 204
        }
      },
      "source": [
        "train_df.head()"
      ],
      "execution_count": 6,
      "outputs": [
        {
          "output_type": "execute_result",
          "data": {
            "text/html": [
              "<div>\n",
              "<style scoped>\n",
              "    .dataframe tbody tr th:only-of-type {\n",
              "        vertical-align: middle;\n",
              "    }\n",
              "\n",
              "    .dataframe tbody tr th {\n",
              "        vertical-align: top;\n",
              "    }\n",
              "\n",
              "    .dataframe thead th {\n",
              "        text-align: right;\n",
              "    }\n",
              "</style>\n",
              "<table border=\"1\" class=\"dataframe\">\n",
              "  <thead>\n",
              "    <tr style=\"text-align: right;\">\n",
              "      <th></th>\n",
              "      <th>tweet</th>\n",
              "      <th>sentiment</th>\n",
              "    </tr>\n",
              "  </thead>\n",
              "  <tbody>\n",
              "    <tr>\n",
              "      <th>0</th>\n",
              "      <td>cuando tu lugar de trabajo también se conviert...</td>\n",
              "      <td>NEUTRAL</td>\n",
              "    </tr>\n",
              "    <tr>\n",
              "      <th>1</th>\n",
              "      <td>adivinen a quién me voy a llevar a pasear por ...</td>\n",
              "      <td>NEUTRAL</td>\n",
              "    </tr>\n",
              "    <tr>\n",
              "      <th>2</th>\n",
              "      <td>rap en huitoto lengua de la amazonía en letici...</td>\n",
              "      <td>NEUTRAL</td>\n",
              "    </tr>\n",
              "    <tr>\n",
              "      <th>3</th>\n",
              "      <td>extrañare esto</td>\n",
              "      <td>NEGATIVE</td>\n",
              "    </tr>\n",
              "    <tr>\n",
              "      <th>4</th>\n",
              "      <td>y la verdad es que no me quiero de casa :(</td>\n",
              "      <td>NEGATIVE</td>\n",
              "    </tr>\n",
              "  </tbody>\n",
              "</table>\n",
              "</div>"
            ],
            "text/plain": [
              "                                               tweet sentiment\n",
              "0  cuando tu lugar de trabajo también se conviert...   NEUTRAL\n",
              "1  adivinen a quién me voy a llevar a pasear por ...   NEUTRAL\n",
              "2  rap en huitoto lengua de la amazonía en letici...   NEUTRAL\n",
              "3                                     extrañare esto  NEGATIVE\n",
              "4         y la verdad es que no me quiero de casa :(  NEGATIVE"
            ]
          },
          "metadata": {
            "tags": []
          },
          "execution_count": 6
        }
      ]
    },
    {
      "cell_type": "code",
      "metadata": {
        "id": "-wFCTEw4cZBO",
        "colab_type": "code",
        "outputId": "d6cbb670-d532-4146-b9be-a10a05b7a73a",
        "colab": {
          "base_uri": "https://localhost:8080/",
          "height": 34
        }
      },
      "source": [
        "train_df.tweet.isna().sum()"
      ],
      "execution_count": 7,
      "outputs": [
        {
          "output_type": "execute_result",
          "data": {
            "text/plain": [
              "1"
            ]
          },
          "metadata": {
            "tags": []
          },
          "execution_count": 7
        }
      ]
    },
    {
      "cell_type": "code",
      "metadata": {
        "id": "rk7U1pV4Z8c9",
        "colab_type": "code",
        "colab": {}
      },
      "source": [
        "train_df.dropna(inplace=True) # drop nan"
      ],
      "execution_count": 0,
      "outputs": []
    },
    {
      "cell_type": "code",
      "metadata": {
        "id": "g9k-qfgt3hcU",
        "colab_type": "code",
        "outputId": "9a516f7a-fa07-4d2b-b24c-b578ea2c21c2",
        "colab": {
          "base_uri": "https://localhost:8080/",
          "height": 204
        }
      },
      "source": [
        "val_df.head()"
      ],
      "execution_count": 9,
      "outputs": [
        {
          "output_type": "execute_result",
          "data": {
            "text/html": [
              "<div>\n",
              "<style scoped>\n",
              "    .dataframe tbody tr th:only-of-type {\n",
              "        vertical-align: middle;\n",
              "    }\n",
              "\n",
              "    .dataframe tbody tr th {\n",
              "        vertical-align: top;\n",
              "    }\n",
              "\n",
              "    .dataframe thead th {\n",
              "        text-align: right;\n",
              "    }\n",
              "</style>\n",
              "<table border=\"1\" class=\"dataframe\">\n",
              "  <thead>\n",
              "    <tr style=\"text-align: right;\">\n",
              "      <th></th>\n",
              "      <th>tweet</th>\n",
              "      <th>sentiment</th>\n",
              "    </tr>\n",
              "  </thead>\n",
              "  <tbody>\n",
              "    <tr>\n",
              "      <th>0</th>\n",
              "      <td>disfruta de consejos útiles recetas y guías pa...</td>\n",
              "      <td>POSITIVE</td>\n",
              "    </tr>\n",
              "    <tr>\n",
              "      <th>1</th>\n",
              "      <td>when casper mágico said “tú me rompiste el cor...</td>\n",
              "      <td>POSITIVE</td>\n",
              "    </tr>\n",
              "    <tr>\n",
              "      <th>2</th>\n",
              "      <td>quinta llamada de 10 minutos esperamdo a q el ...</td>\n",
              "      <td>NEGATIVE</td>\n",
              "    </tr>\n",
              "    <tr>\n",
              "      <th>3</th>\n",
              "      <td>en san andrés propone al gobierno fortalecer e...</td>\n",
              "      <td>NEUTRAL</td>\n",
              "    </tr>\n",
              "    <tr>\n",
              "      <th>4</th>\n",
              "      <td>durante el periodo de aislamiento domiciliario...</td>\n",
              "      <td>NEUTRAL</td>\n",
              "    </tr>\n",
              "  </tbody>\n",
              "</table>\n",
              "</div>"
            ],
            "text/plain": [
              "                                               tweet sentiment\n",
              "0  disfruta de consejos útiles recetas y guías pa...  POSITIVE\n",
              "1  when casper mágico said “tú me rompiste el cor...  POSITIVE\n",
              "2  quinta llamada de 10 minutos esperamdo a q el ...  NEGATIVE\n",
              "3  en san andrés propone al gobierno fortalecer e...   NEUTRAL\n",
              "4  durante el periodo de aislamiento domiciliario...   NEUTRAL"
            ]
          },
          "metadata": {
            "tags": []
          },
          "execution_count": 9
        }
      ]
    },
    {
      "cell_type": "code",
      "metadata": {
        "id": "b27smd_CcfJ_",
        "colab_type": "code",
        "outputId": "64da6221-73d4-4153-be60-0c1be3d56ed3",
        "colab": {
          "base_uri": "https://localhost:8080/",
          "height": 34
        }
      },
      "source": [
        "val_df.tweet.isna().sum()"
      ],
      "execution_count": 10,
      "outputs": [
        {
          "output_type": "execute_result",
          "data": {
            "text/plain": [
              "1"
            ]
          },
          "metadata": {
            "tags": []
          },
          "execution_count": 10
        }
      ]
    },
    {
      "cell_type": "code",
      "metadata": {
        "id": "S9vm0XFxYCIB",
        "colab_type": "code",
        "colab": {}
      },
      "source": [
        "val_df.dropna(inplace=True) # drop nan"
      ],
      "execution_count": 0,
      "outputs": []
    },
    {
      "cell_type": "code",
      "metadata": {
        "id": "R_v1eQ4q4P1Z",
        "colab_type": "code",
        "outputId": "1d9347b3-b46b-41eb-f2c5-12f91a9fdd5f",
        "colab": {
          "base_uri": "https://localhost:8080/",
          "height": 204
        }
      },
      "source": [
        "test_df.head()"
      ],
      "execution_count": 12,
      "outputs": [
        {
          "output_type": "execute_result",
          "data": {
            "text/html": [
              "<div>\n",
              "<style scoped>\n",
              "    .dataframe tbody tr th:only-of-type {\n",
              "        vertical-align: middle;\n",
              "    }\n",
              "\n",
              "    .dataframe tbody tr th {\n",
              "        vertical-align: top;\n",
              "    }\n",
              "\n",
              "    .dataframe thead th {\n",
              "        text-align: right;\n",
              "    }\n",
              "</style>\n",
              "<table border=\"1\" class=\"dataframe\">\n",
              "  <thead>\n",
              "    <tr style=\"text-align: right;\">\n",
              "      <th></th>\n",
              "      <th>tweet</th>\n",
              "      <th>sentiment</th>\n",
              "    </tr>\n",
              "  </thead>\n",
              "  <tbody>\n",
              "    <tr>\n",
              "      <th>0</th>\n",
              "      <td>unidos acabarán con bogotá</td>\n",
              "      <td>NEUTRAL</td>\n",
              "    </tr>\n",
              "    <tr>\n",
              "      <th>1</th>\n",
              "      <td>claudia lópez será investigada por la fiscalía...</td>\n",
              "      <td>NEGATIVE</td>\n",
              "    </tr>\n",
              "    <tr>\n",
              "      <th>2</th>\n",
              "      <td>y después del festivo el a partir del lunes 4 ...</td>\n",
              "      <td>NEUTRAL</td>\n",
              "    </tr>\n",
              "    <tr>\n",
              "      <th>3</th>\n",
              "      <td>mas claro y real no puede ser he aprendido mas...</td>\n",
              "      <td>POSITIVE</td>\n",
              "    </tr>\n",
              "    <tr>\n",
              "      <th>4</th>\n",
              "      <td>lo que es pa uno es pa uno así hayan mil perso...</td>\n",
              "      <td>NEGATIVE</td>\n",
              "    </tr>\n",
              "  </tbody>\n",
              "</table>\n",
              "</div>"
            ],
            "text/plain": [
              "                                               tweet sentiment\n",
              "0                         unidos acabarán con bogotá   NEUTRAL\n",
              "1  claudia lópez será investigada por la fiscalía...  NEGATIVE\n",
              "2  y después del festivo el a partir del lunes 4 ...   NEUTRAL\n",
              "3  mas claro y real no puede ser he aprendido mas...  POSITIVE\n",
              "4  lo que es pa uno es pa uno así hayan mil perso...  NEGATIVE"
            ]
          },
          "metadata": {
            "tags": []
          },
          "execution_count": 12
        }
      ]
    },
    {
      "cell_type": "code",
      "metadata": {
        "id": "ZzS2hLybchl3",
        "colab_type": "code",
        "outputId": "510f2663-6550-4c2e-c242-e308cd6cc527",
        "colab": {
          "base_uri": "https://localhost:8080/",
          "height": 34
        }
      },
      "source": [
        "test_df.tweet.isna().sum()"
      ],
      "execution_count": 13,
      "outputs": [
        {
          "output_type": "execute_result",
          "data": {
            "text/plain": [
              "1"
            ]
          },
          "metadata": {
            "tags": []
          },
          "execution_count": 13
        }
      ]
    },
    {
      "cell_type": "code",
      "metadata": {
        "id": "DtuVeqQwX8_z",
        "colab_type": "code",
        "colab": {}
      },
      "source": [
        "test_df.dropna(inplace=True) # drop nan"
      ],
      "execution_count": 0,
      "outputs": []
    },
    {
      "cell_type": "markdown",
      "metadata": {
        "id": "LiRs45Sm7wzl",
        "colab_type": "text"
      },
      "source": [
        "# Visualize classes proportions"
      ]
    },
    {
      "cell_type": "code",
      "metadata": {
        "id": "Ge7_VEzg7v8j",
        "colab_type": "code",
        "colab": {
          "base_uri": "https://localhost:8080/",
          "height": 71
        },
        "outputId": "8e8c23d9-cf91-4330-a2ff-df0ed9f81e0e"
      },
      "source": [
        "import matplotlib.pyplot as plt\n",
        "import seaborn as sns\n",
        "\n",
        "import warnings\n",
        "warnings.filterwarnings(\"ignore\")\n",
        "\n",
        "%matplotlib inline\n",
        "\n",
        "def plot_classes_proportion(df, title=\"train classes proportion\"):\n",
        "    plot_data = df[\"sentiment\"].value_counts()\n",
        "    x = plot_data.index.values\n",
        "    y = plot_data.values\n",
        "\n",
        "    \n",
        "    plt.figure(figsize=(8,5))\n",
        "    fig = sns.barplot(x=x, y=y, orient=\"v\", palette=\"hls\")\n",
        "\n",
        "    plt.ylabel(\"num_tweets\")\n",
        "    plt.title(title)\n",
        "    plt.tight_layout()\n",
        "    plt.show()"
      ],
      "execution_count": 15,
      "outputs": [
        {
          "output_type": "stream",
          "text": [
            "/usr/local/lib/python3.6/dist-packages/statsmodels/tools/_testing.py:19: FutureWarning: pandas.util.testing is deprecated. Use the functions in the public API at pandas.testing instead.\n",
            "  import pandas.util.testing as tm\n"
          ],
          "name": "stderr"
        }
      ]
    },
    {
      "cell_type": "code",
      "metadata": {
        "id": "jBQK5ZAa-9tr",
        "colab_type": "code",
        "outputId": "a95b0518-17b5-4802-e557-7638c0b4918c",
        "colab": {
          "base_uri": "https://localhost:8080/",
          "height": 369
        }
      },
      "source": [
        "plot_classes_proportion(train_df)"
      ],
      "execution_count": 16,
      "outputs": [
        {
          "output_type": "display_data",
          "data": {
            "image/png": "[encoded data removed]",
            "text/plain": [
              "<Figure size 576x360 with 1 Axes>"
            ]
          },
          "metadata": {
            "tags": [],
            "needs_background": "light"
          }
        }
      ]
    },
    {
      "cell_type": "markdown",
      "metadata": {
        "id": "GRbqlx1xFSVz",
        "colab_type": "text"
      },
      "source": [
        "Our data is not balanced, let's balance"
      ]
    },
    {
      "cell_type": "markdown",
      "metadata": {
        "id": "HvWklxYsFXOh",
        "colab_type": "text"
      },
      "source": [
        "## Balance the dataset"
      ]
    },
    {
      "cell_type": "code",
      "metadata": {
        "id": "Gb6SyvnGFW71",
        "colab_type": "code",
        "colab": {}
      },
      "source": [
        "from sklearn.utils import resample\n",
        "\n",
        "def balance_dataset(df, order):\n",
        "    class_distribution = df[\"sentiment\"].value_counts()\n",
        "    minority_shape = df[df.sentiment == order[0]].shape[0]\n",
        "\n",
        "    df_list = [df[df.sentiment == order[0]]]\n",
        "    for cls in order[1:]:\n",
        "        df_temp = df[df.sentiment == cls]\n",
        "        df_down_sample = resample(df_temp, replace=False, n_samples = minority_shape,\n",
        "                                   random_state=123)\n",
        "        df_list.append(df_down_sample)\n",
        "\n",
        "    df_downsampled = pd.concat(df_list)\n",
        "    # shuffle\n",
        "    df_downsampled = df_downsampled.sample(frac = 1)\n",
        "    df_downsampled.reset_index(drop=True, inplace=True)\n",
        "    return df_downsampled"
      ],
      "execution_count": 0,
      "outputs": []
    },
    {
      "cell_type": "code",
      "metadata": {
        "id": "Whf_UQEQGTRu",
        "colab_type": "code",
        "outputId": "0fd6e26b-a803-432c-d1b6-a66de909ba69",
        "colab": {
          "base_uri": "https://localhost:8080/",
          "height": 369
        }
      },
      "source": [
        "ORDER = [\"NEGATIVE\", \"POSITIVE\", \"NEUTRAL\"]\n",
        "train_df = balance_dataset(train_df, order=ORDER)\n",
        "\n",
        "plot_classes_proportion(train_df)"
      ],
      "execution_count": 18,
      "outputs": [
        {
          "output_type": "display_data",
          "data": {
            "image/png": "[encoded data removed]",
            "text/plain": [
              "<Figure size 576x360 with 1 Axes>"
            ]
          },
          "metadata": {
            "tags": [],
            "needs_background": "light"
          }
        }
      ]
    },
    {
      "cell_type": "code",
      "metadata": {
        "id": "MXOdnoxjSLax",
        "colab_type": "code",
        "outputId": "31fc6bb8-a353-4848-fee7-58424f9f767e",
        "colab": {
          "base_uri": "https://localhost:8080/",
          "height": 204
        }
      },
      "source": [
        "train_df.head()"
      ],
      "execution_count": 19,
      "outputs": [
        {
          "output_type": "execute_result",
          "data": {
            "text/html": [
              "<div>\n",
              "<style scoped>\n",
              "    .dataframe tbody tr th:only-of-type {\n",
              "        vertical-align: middle;\n",
              "    }\n",
              "\n",
              "    .dataframe tbody tr th {\n",
              "        vertical-align: top;\n",
              "    }\n",
              "\n",
              "    .dataframe thead th {\n",
              "        text-align: right;\n",
              "    }\n",
              "</style>\n",
              "<table border=\"1\" class=\"dataframe\">\n",
              "  <thead>\n",
              "    <tr style=\"text-align: right;\">\n",
              "      <th></th>\n",
              "      <th>tweet</th>\n",
              "      <th>sentiment</th>\n",
              "    </tr>\n",
              "  </thead>\n",
              "  <tbody>\n",
              "    <tr>\n",
              "      <th>0</th>\n",
              "      <td>como no amar lo que haces si todos los días re...</td>\n",
              "      <td>POSITIVE</td>\n",
              "    </tr>\n",
              "    <tr>\n",
              "      <th>1</th>\n",
              "      <td>esto es dani hpta</td>\n",
              "      <td>NEGATIVE</td>\n",
              "    </tr>\n",
              "    <tr>\n",
              "      <th>2</th>\n",
              "      <td>en tarima jorge ivan</td>\n",
              "      <td>NEUTRAL</td>\n",
              "    </tr>\n",
              "    <tr>\n",
              "      <th>3</th>\n",
              "      <td>a mi me da un pesar de usted toda patética que...</td>\n",
              "      <td>NEGATIVE</td>\n",
              "    </tr>\n",
              "    <tr>\n",
              "      <th>4</th>\n",
              "      <td>somos olvidados en la vida y recordados en la ...</td>\n",
              "      <td>NEGATIVE</td>\n",
              "    </tr>\n",
              "  </tbody>\n",
              "</table>\n",
              "</div>"
            ],
            "text/plain": [
              "                                               tweet sentiment\n",
              "0  como no amar lo que haces si todos los días re...  POSITIVE\n",
              "1                                  esto es dani hpta  NEGATIVE\n",
              "2                               en tarima jorge ivan   NEUTRAL\n",
              "3  a mi me da un pesar de usted toda patética que...  NEGATIVE\n",
              "4  somos olvidados en la vida y recordados en la ...  NEGATIVE"
            ]
          },
          "metadata": {
            "tags": []
          },
          "execution_count": 19
        }
      ]
    },
    {
      "cell_type": "markdown",
      "metadata": {
        "id": "6PVOy3NvVF--",
        "colab_type": "text"
      },
      "source": [
        "## Preprocess data"
      ]
    },
    {
      "cell_type": "code",
      "metadata": {
        "id": "He-Gnww_Wsbl",
        "colab_type": "code",
        "colab": {}
      },
      "source": [
        "from tqdm import tqdm\n",
        "tqdm.pandas(desc=\"Preprocess data\")"
      ],
      "execution_count": 0,
      "outputs": []
    },
    {
      "cell_type": "code",
      "metadata": {
        "id": "4c8fzN88V_ad",
        "colab_type": "code",
        "colab": {}
      },
      "source": [
        "# Import Spacy:\n",
        "import spacy\n",
        "from spacymoji import Emoji\n",
        "\n",
        "nlp = spacy.load(SPACY_CORE_MODEL)\n",
        "# Add emoji detection\n",
        "emoji = Emoji(nlp, merge_spans=False)\n",
        "nlp.add_pipe(emoji, first=True)\n",
        "\n",
        "def tokenizer_tweet(tweet):\n",
        "    vector = nlp(tweet)\n",
        "    # Remove all punctuation marks\n",
        "    vector = [token for token in vector if not token.is_punct]\n",
        "    # Remove numbers or amount representation\n",
        "    vector = [token for token in vector if not token.like_num]\n",
        "    # Remove emoji\n",
        "    vector = [token for token in vector if not token._.is_emoji]\n",
        "    # Get text and lower\n",
        "    vector = [token.text.lower() for token in vector]\n",
        "    \n",
        "    return vector"
      ],
      "execution_count": 0,
      "outputs": []
    },
    {
      "cell_type": "code",
      "metadata": {
        "id": "P-051VUmV4FY",
        "colab_type": "code",
        "outputId": "25c0f3ba-3687-4ba6-9401-f84669cca3be",
        "colab": {
          "base_uri": "https://localhost:8080/",
          "height": 34
        }
      },
      "source": [
        "train_df[\"tweet_clean\"] = train_df[\"tweet\"].progress_apply(lambda x: tokenizer_tweet(x))"
      ],
      "execution_count": 22,
      "outputs": [
        {
          "output_type": "stream",
          "text": [
            "Preprocess data: 100%|██████████| 36474/36474 [04:39<00:00, 130.34it/s]\n"
          ],
          "name": "stderr"
        }
      ]
    },
    {
      "cell_type": "code",
      "metadata": {
        "id": "IH7za1gSWpeL",
        "colab_type": "code",
        "outputId": "6b9cb3c7-2a70-45e9-fd44-aeb799a55fd3",
        "colab": {
          "base_uri": "https://localhost:8080/",
          "height": 34
        }
      },
      "source": [
        "val_df[\"tweet_clean\"] = val_df[\"tweet\"].progress_apply(lambda x: tokenizer_tweet(x))"
      ],
      "execution_count": 23,
      "outputs": [
        {
          "output_type": "stream",
          "text": [
            "Preprocess data: 100%|██████████| 9397/9397 [01:14<00:00, 125.84it/s]\n"
          ],
          "name": "stderr"
        }
      ]
    },
    {
      "cell_type": "code",
      "metadata": {
        "id": "8yM3qjnccptE",
        "colab_type": "code",
        "outputId": "486a32f6-a8e2-42fc-89a3-64db22eb52d1",
        "colab": {
          "base_uri": "https://localhost:8080/",
          "height": 34
        }
      },
      "source": [
        "test_df[\"tweet_clean\"] = test_df[\"tweet\"].progress_apply(lambda x: tokenizer_tweet(x))"
      ],
      "execution_count": 24,
      "outputs": [
        {
          "output_type": "stream",
          "text": [
            "Preprocess data: 100%|██████████| 2960/2960 [00:26<00:00, 113.58it/s]\n"
          ],
          "name": "stderr"
        }
      ]
    },
    {
      "cell_type": "code",
      "metadata": {
        "id": "q5ahvqeyywKt",
        "colab_type": "code",
        "outputId": "8596c51d-ada8-43cd-cf25-d42971dd2957",
        "colab": {
          "base_uri": "https://localhost:8080/",
          "height": 204
        }
      },
      "source": [
        "train_df.head()"
      ],
      "execution_count": 25,
      "outputs": [
        {
          "output_type": "execute_result",
          "data": {
            "text/html": [
              "<div>\n",
              "<style scoped>\n",
              "    .dataframe tbody tr th:only-of-type {\n",
              "        vertical-align: middle;\n",
              "    }\n",
              "\n",
              "    .dataframe tbody tr th {\n",
              "        vertical-align: top;\n",
              "    }\n",
              "\n",
              "    .dataframe thead th {\n",
              "        text-align: right;\n",
              "    }\n",
              "</style>\n",
              "<table border=\"1\" class=\"dataframe\">\n",
              "  <thead>\n",
              "    <tr style=\"text-align: right;\">\n",
              "      <th></th>\n",
              "      <th>tweet</th>\n",
              "      <th>sentiment</th>\n",
              "      <th>tweet_clean</th>\n",
              "    </tr>\n",
              "  </thead>\n",
              "  <tbody>\n",
              "    <tr>\n",
              "      <th>0</th>\n",
              "      <td>como no amar lo que haces si todos los días re...</td>\n",
              "      <td>POSITIVE</td>\n",
              "      <td>[como, no, amar, lo, que, haces, si, todos, lo...</td>\n",
              "    </tr>\n",
              "    <tr>\n",
              "      <th>1</th>\n",
              "      <td>esto es dani hpta</td>\n",
              "      <td>NEGATIVE</td>\n",
              "      <td>[esto, es, dani, hpta]</td>\n",
              "    </tr>\n",
              "    <tr>\n",
              "      <th>2</th>\n",
              "      <td>en tarima jorge ivan</td>\n",
              "      <td>NEUTRAL</td>\n",
              "      <td>[en, tarima, jorge, ivan]</td>\n",
              "    </tr>\n",
              "    <tr>\n",
              "      <th>3</th>\n",
              "      <td>a mi me da un pesar de usted toda patética que...</td>\n",
              "      <td>NEGATIVE</td>\n",
              "      <td>[a, mi, me, da, un, pesar, de, usted, toda, pa...</td>\n",
              "    </tr>\n",
              "    <tr>\n",
              "      <th>4</th>\n",
              "      <td>somos olvidados en la vida y recordados en la ...</td>\n",
              "      <td>NEGATIVE</td>\n",
              "      <td>[somos, olvidados, en, la, vida, y, recordados...</td>\n",
              "    </tr>\n",
              "  </tbody>\n",
              "</table>\n",
              "</div>"
            ],
            "text/plain": [
              "                                               tweet  ...                                        tweet_clean\n",
              "0  como no amar lo que haces si todos los días re...  ...  [como, no, amar, lo, que, haces, si, todos, lo...\n",
              "1                                  esto es dani hpta  ...                             [esto, es, dani, hpta]\n",
              "2                               en tarima jorge ivan  ...                          [en, tarima, jorge, ivan]\n",
              "3  a mi me da un pesar de usted toda patética que...  ...  [a, mi, me, da, un, pesar, de, usted, toda, pa...\n",
              "4  somos olvidados en la vida y recordados en la ...  ...  [somos, olvidados, en, la, vida, y, recordados...\n",
              "\n",
              "[5 rows x 3 columns]"
            ]
          },
          "metadata": {
            "tags": []
          },
          "execution_count": 25
        }
      ]
    },
    {
      "cell_type": "markdown",
      "metadata": {
        "id": "w98CA2BcijUW",
        "colab_type": "text"
      },
      "source": [
        "# Load w2v embedding and retrained"
      ]
    },
    {
      "cell_type": "code",
      "metadata": {
        "id": "FEW5kWBac49O",
        "colab_type": "code",
        "colab": {}
      },
      "source": [
        "from gensim.models.keyedvectors import KeyedVectors\n",
        "from gensim.models import Word2Vec\n",
        "import logging\n",
        "logging.basicConfig(format=\"%(asctime)s : %(levelname)s : %(message)s\", level=logging.INFO)\n",
        "logger = logging.getLogger()"
      ],
      "execution_count": 0,
      "outputs": []
    },
    {
      "cell_type": "code",
      "metadata": {
        "id": "E3HzHUNmjCjj",
        "colab_type": "code",
        "colab": {}
      },
      "source": [
        "train_data = [tweet_clean for tweet_clean in list(train_df[\"tweet_clean\"].values) \n",
        "                                        + list(val_df[\"tweet_clean\"].values) + list(test_df[\"tweet_clean\"].values)]"
      ],
      "execution_count": 0,
      "outputs": []
    },
    {
      "cell_type": "code",
      "metadata": {
        "id": "DBuw7GNrjLzr",
        "colab_type": "code",
        "outputId": "12f373e2-67a4-4010-9301-3faefe5d1ebf",
        "colab": {
          "base_uri": "https://localhost:8080/",
          "height": 1000
        }
      },
      "source": [
        "# https://github.com/dccuchile/spanish-word-embeddings\n",
        "# Word2Vec embeddings from SBWC\n",
        "w2v_parameters = {\"min_count\": 0, \"size\": 300, \"sg\": 1, \"window\": 5, \"iter\": 25, \"negative\": 20, \"workers\": -1}\n",
        "\n",
        "w2v_model = Word2Vec(**w2v_parameters)\n",
        "w2v_model.build_vocab(train_data, progress_per=10000)\n",
        "w2v_model.intersect_word2vec_format(pretrained_w2v_path, binary=True)\n",
        "w2v_model.train(train_data, total_examples=w2v_model.corpus_count, epochs=w2v_model.epochs)"
      ],
      "execution_count": 28,
      "outputs": [
        {
          "output_type": "stream",
          "text": [
            "2020-05-29 23:56:27,027 : INFO : collecting all words and their counts\n",
            "2020-05-29 23:56:27,028 : INFO : PROGRESS: at sentence #0, processed 0 words, keeping 0 word types\n",
            "2020-05-29 23:56:27,066 : INFO : PROGRESS: at sentence #10000, processed 139784 words, keeping 19929 word types\n",
            "2020-05-29 23:56:27,107 : INFO : PROGRESS: at sentence #20000, processed 278454 words, keeping 30091 word types\n",
            "2020-05-29 23:56:27,139 : INFO : PROGRESS: at sentence #30000, processed 417562 words, keeping 38075 word types\n",
            "2020-05-29 23:56:27,176 : INFO : PROGRESS: at sentence #40000, processed 557810 words, keeping 44549 word types\n",
            "2020-05-29 23:56:27,213 : INFO : collected 51049 word types from a corpus of 717586 raw words and 48831 sentences\n",
            "2020-05-29 23:56:27,215 : INFO : Loading a fresh vocabulary\n",
            "2020-05-29 23:56:27,411 : INFO : effective_min_count=0 retains 51049 unique words (100% of original 51049, drops 0)\n",
            "2020-05-29 23:56:27,412 : INFO : effective_min_count=0 leaves 717586 word corpus (100% of original 717586, drops 0)\n",
            "2020-05-29 23:56:27,546 : INFO : deleting the raw counts dictionary of 51049 items\n",
            "2020-05-29 23:56:27,547 : INFO : sample=0.001 downsamples 35 most-common words\n",
            "2020-05-29 23:56:27,548 : INFO : downsampling leaves estimated 533874 word corpus (74.4% of prior 717586)\n",
            "2020-05-29 23:56:27,647 : INFO : estimated required memory for 51049 words and 300 dimensions: 148042100 bytes\n",
            "2020-05-29 23:56:27,647 : INFO : resetting layer weights\n",
            "2020-05-29 23:56:36,549 : INFO : loading projection weights from /content/gdrive/My Drive/Sentime/data/embeddings/SBW-vectors-300-min5.bin.gz\n",
            "2020-05-29 23:57:02,777 : INFO : merged 36279 vectors into (51049, 300) matrix from /content/gdrive/My Drive/Sentime/data/embeddings/SBW-vectors-300-min5.bin.gz\n",
            "2020-05-29 23:57:02,779 : INFO : training model with -1 workers on 51049 vocabulary and 300 features, using sg=1 hs=0 sample=0.001 negative=20 window=5\n",
            "2020-05-29 23:57:02,790 : INFO : EPOCH - 1 : training on 0 raw words (0 effective words) took 0.0s, 0 effective words/s\n",
            "2020-05-29 23:57:02,796 : WARNING : EPOCH - 1 : supplied example count (0) did not equal expected count (48831)\n",
            "2020-05-29 23:57:02,836 : INFO : EPOCH - 2 : training on 0 raw words (0 effective words) took 0.0s, 0 effective words/s\n",
            "2020-05-29 23:57:02,871 : WARNING : EPOCH - 2 : supplied example count (0) did not equal expected count (48831)\n",
            "2020-05-29 23:57:02,879 : INFO : EPOCH - 3 : training on 0 raw words (0 effective words) took 0.0s, 0 effective words/s\n",
            "2020-05-29 23:57:02,884 : WARNING : EPOCH - 3 : supplied example count (0) did not equal expected count (48831)\n",
            "2020-05-29 23:57:02,900 : INFO : EPOCH - 4 : training on 0 raw words (0 effective words) took 0.0s, 0 effective words/s\n",
            "2020-05-29 23:57:02,932 : WARNING : EPOCH - 4 : supplied example count (0) did not equal expected count (48831)\n",
            "2020-05-29 23:57:02,957 : INFO : EPOCH - 5 : training on 0 raw words (0 effective words) took 0.0s, 0 effective words/s\n",
            "2020-05-29 23:57:02,986 : WARNING : EPOCH - 5 : supplied example count (0) did not equal expected count (48831)\n",
            "2020-05-29 23:57:02,993 : INFO : EPOCH - 6 : training on 0 raw words (0 effective words) took 0.0s, 0 effective words/s\n",
            "2020-05-29 23:57:03,002 : WARNING : EPOCH - 6 : supplied example count (0) did not equal expected count (48831)\n",
            "2020-05-29 23:57:03,020 : INFO : EPOCH - 7 : training on 0 raw words (0 effective words) took 0.0s, 0 effective words/s\n",
            "2020-05-29 23:57:03,061 : WARNING : EPOCH - 7 : supplied example count (0) did not equal expected count (48831)\n",
            "2020-05-29 23:57:03,068 : INFO : EPOCH - 8 : training on 0 raw words (0 effective words) took 0.0s, 0 effective words/s\n",
            "2020-05-29 23:57:03,099 : WARNING : EPOCH - 8 : supplied example count (0) did not equal expected count (48831)\n",
            "2020-05-29 23:57:03,106 : INFO : EPOCH - 9 : training on 0 raw words (0 effective words) took 0.0s, 0 effective words/s\n",
            "2020-05-29 23:57:03,127 : WARNING : EPOCH - 9 : supplied example count (0) did not equal expected count (48831)\n",
            "2020-05-29 23:57:03,146 : INFO : EPOCH - 10 : training on 0 raw words (0 effective words) took 0.0s, 0 effective words/s\n",
            "2020-05-29 23:57:03,177 : WARNING : EPOCH - 10 : supplied example count (0) did not equal expected count (48831)\n",
            "2020-05-29 23:57:03,196 : INFO : EPOCH - 11 : training on 0 raw words (0 effective words) took 0.0s, 0 effective words/s\n",
            "2020-05-29 23:57:03,218 : WARNING : EPOCH - 11 : supplied example count (0) did not equal expected count (48831)\n",
            "2020-05-29 23:57:03,232 : INFO : EPOCH - 12 : training on 0 raw words (0 effective words) took 0.0s, 0 effective words/s\n",
            "2020-05-29 23:57:03,242 : WARNING : EPOCH - 12 : supplied example count (0) did not equal expected count (48831)\n",
            "2020-05-29 23:57:03,262 : INFO : EPOCH - 13 : training on 0 raw words (0 effective words) took 0.0s, 0 effective words/s\n",
            "2020-05-29 23:57:03,298 : WARNING : EPOCH - 13 : supplied example count (0) did not equal expected count (48831)\n",
            "2020-05-29 23:57:03,304 : INFO : EPOCH - 14 : training on 0 raw words (0 effective words) took 0.0s, 0 effective words/s\n",
            "2020-05-29 23:57:03,321 : WARNING : EPOCH - 14 : supplied example count (0) did not equal expected count (48831)\n",
            "2020-05-29 23:57:03,344 : INFO : EPOCH - 15 : training on 0 raw words (0 effective words) took 0.0s, 0 effective words/s\n",
            "2020-05-29 23:57:03,345 : WARNING : EPOCH - 15 : supplied example count (0) did not equal expected count (48831)\n",
            "2020-05-29 23:57:03,383 : INFO : EPOCH - 16 : training on 0 raw words (0 effective words) took 0.0s, 0 effective words/s\n",
            "2020-05-29 23:57:03,414 : WARNING : EPOCH - 16 : supplied example count (0) did not equal expected count (48831)\n",
            "2020-05-29 23:57:03,421 : INFO : EPOCH - 17 : training on 0 raw words (0 effective words) took 0.0s, 0 effective words/s\n",
            "2020-05-29 23:57:03,431 : WARNING : EPOCH - 17 : supplied example count (0) did not equal expected count (48831)\n",
            "2020-05-29 23:57:03,459 : INFO : EPOCH - 18 : training on 0 raw words (0 effective words) took 0.0s, 0 effective words/s\n",
            "2020-05-29 23:57:03,465 : WARNING : EPOCH - 18 : supplied example count (0) did not equal expected count (48831)\n",
            "2020-05-29 23:57:03,486 : INFO : EPOCH - 19 : training on 0 raw words (0 effective words) took 0.0s, 0 effective words/s\n",
            "2020-05-29 23:57:03,497 : WARNING : EPOCH - 19 : supplied example count (0) did not equal expected count (48831)\n",
            "2020-05-29 23:57:03,530 : INFO : EPOCH - 20 : training on 0 raw words (0 effective words) took 0.0s, 0 effective words/s\n",
            "2020-05-29 23:57:03,547 : WARNING : EPOCH - 20 : supplied example count (0) did not equal expected count (48831)\n",
            "2020-05-29 23:57:03,572 : INFO : EPOCH - 21 : training on 0 raw words (0 effective words) took 0.0s, 0 effective words/s\n",
            "2020-05-29 23:57:03,583 : WARNING : EPOCH - 21 : supplied example count (0) did not equal expected count (48831)\n",
            "2020-05-29 23:57:03,609 : INFO : EPOCH - 22 : training on 0 raw words (0 effective words) took 0.0s, 0 effective words/s\n",
            "2020-05-29 23:57:03,624 : WARNING : EPOCH - 22 : supplied example count (0) did not equal expected count (48831)\n",
            "2020-05-29 23:57:03,650 : INFO : EPOCH - 23 : training on 0 raw words (0 effective words) took 0.0s, 0 effective words/s\n",
            "2020-05-29 23:57:03,679 : WARNING : EPOCH - 23 : supplied example count (0) did not equal expected count (48831)\n",
            "2020-05-29 23:57:03,687 : INFO : EPOCH - 24 : training on 0 raw words (0 effective words) took 0.0s, 0 effective words/s\n",
            "2020-05-29 23:57:03,687 : WARNING : EPOCH - 24 : supplied example count (0) did not equal expected count (48831)\n",
            "2020-05-29 23:57:03,706 : INFO : EPOCH - 25 : training on 0 raw words (0 effective words) took 0.0s, 0 effective words/s\n",
            "2020-05-29 23:57:03,753 : WARNING : EPOCH - 25 : supplied example count (0) did not equal expected count (48831)\n",
            "2020-05-29 23:57:03,760 : INFO : training on a 0 raw words (0 effective words) took 1.0s, 0 effective words/s\n"
          ],
          "name": "stderr"
        },
        {
          "output_type": "execute_result",
          "data": {
            "text/plain": [
              "(0, 0)"
            ]
          },
          "metadata": {
            "tags": []
          },
          "execution_count": 28
        }
      ]
    },
    {
      "cell_type": "code",
      "metadata": {
        "id": "HbtIfuvLjmbl",
        "colab_type": "code",
        "colab": {}
      },
      "source": [
        "# Create a fast sentece embedding\n",
        "# https://github.com/oborchers/Fast_Sentence_Embeddings\n",
        "from fse.models import SIF #Import Smooth inverse frequency\n",
        "from fse import IndexedList\n",
        "logging.disable(logging.CRITICAL)"
      ],
      "execution_count": 0,
      "outputs": []
    },
    {
      "cell_type": "code",
      "metadata": {
        "id": "09i9z-OZjr6L",
        "colab_type": "code",
        "outputId": "a3e7a12f-5d1e-4c1a-92dd-50f2b14ddd7b",
        "colab": {
          "base_uri": "https://localhost:8080/",
          "height": 34
        }
      },
      "source": [
        "fse_train_data = IndexedList(train_data)\n",
        "fse_model = SIF(w2v_model, workers=2, lang_freq=\"es\")\n",
        "fse_model.train(fse_train_data)"
      ],
      "execution_count": 30,
      "outputs": [
        {
          "output_type": "execute_result",
          "data": {
            "text/plain": [
              "(48825, 717586)"
            ]
          },
          "metadata": {
            "tags": []
          },
          "execution_count": 30
        }
      ]
    },
    {
      "cell_type": "code",
      "metadata": {
        "id": "J4nXXO6BjtSh",
        "colab_type": "code",
        "outputId": "e8d6c593-269e-4b69-bfd2-f6f739b52b2c",
        "colab": {
          "base_uri": "https://localhost:8080/",
          "height": 187
        }
      },
      "source": [
        "fse_model.wv.most_similar(\"feliz\")"
      ],
      "execution_count": 31,
      "outputs": [
        {
          "output_type": "execute_result",
          "data": {
            "text/plain": [
              "[('contenta', 0.7562954425811768),\n",
              " ('felices', 0.7461493611335754),\n",
              " ('contento', 0.7461210489273071),\n",
              " ('emocionada', 0.6960129141807556),\n",
              " ('emocionado', 0.6868836879730225),\n",
              " ('orgulloso', 0.67653489112854),\n",
              " ('felicidad', 0.6745392084121704),\n",
              " ('orgullosa', 0.6712003946304321),\n",
              " ('alegría', 0.669589102268219),\n",
              " ('agradecida', 0.6607950329780579)]"
            ]
          },
          "metadata": {
            "tags": []
          },
          "execution_count": 31
        }
      ]
    },
    {
      "cell_type": "markdown",
      "metadata": {
        "id": "eFCxxEe8vEvx",
        "colab_type": "text"
      },
      "source": [
        "## Prepare data and embeddings"
      ]
    },
    {
      "cell_type": "code",
      "metadata": {
        "id": "h7ezR488rSqq",
        "colab_type": "code",
        "outputId": "66427dd0-0234-4891-d954-dbc218ecaaf2",
        "colab": {
          "base_uri": "https://localhost:8080/",
          "height": 34
        }
      },
      "source": [
        "from sklearn.preprocessing import LabelEncoder\n",
        "\n",
        "le = LabelEncoder()\n",
        "le.fit(train_df.sentiment.values)\n",
        "\n",
        "le.transform(le.classes_)"
      ],
      "execution_count": 32,
      "outputs": [
        {
          "output_type": "execute_result",
          "data": {
            "text/plain": [
              "array([0, 1, 2])"
            ]
          },
          "metadata": {
            "tags": []
          },
          "execution_count": 32
        }
      ]
    },
    {
      "cell_type": "code",
      "metadata": {
        "id": "SGCKneRFkF0U",
        "colab_type": "code",
        "colab": {}
      },
      "source": [
        "def get_embeddings(df):\n",
        "    X = np.zeros(shape=(df.shape[0], 300))\n",
        "    for i, val in tqdm(enumerate(df.tweet_clean.values)):\n",
        "        X[i] = fse_model.infer([(val, 0)])\n",
        "    y = le.transform(df.sentiment.values)\n",
        "    return X, y"
      ],
      "execution_count": 0,
      "outputs": []
    },
    {
      "cell_type": "code",
      "metadata": {
        "id": "zcuaVHw_laSS",
        "colab_type": "code",
        "outputId": "20957480-c168-483e-f290-26e61ec3274b",
        "colab": {
          "base_uri": "https://localhost:8080/",
          "height": 34
        }
      },
      "source": [
        "X_train, y_train = get_embeddings(train_df)"
      ],
      "execution_count": 34,
      "outputs": [
        {
          "output_type": "stream",
          "text": [
            "36474it [00:11, 3239.42it/s]\n"
          ],
          "name": "stderr"
        }
      ]
    },
    {
      "cell_type": "code",
      "metadata": {
        "id": "pL62AkWalctu",
        "colab_type": "code",
        "outputId": "ceeaf919-c0dc-4e89-f275-9ff080d102e0",
        "colab": {
          "base_uri": "https://localhost:8080/",
          "height": 34
        }
      },
      "source": [
        "X_val, y_val = get_embeddings(val_df)"
      ],
      "execution_count": 35,
      "outputs": [
        {
          "output_type": "stream",
          "text": [
            "9397it [00:02, 3150.27it/s]\n"
          ],
          "name": "stderr"
        }
      ]
    },
    {
      "cell_type": "code",
      "metadata": {
        "id": "9uPtOIY6m-gX",
        "colab_type": "code",
        "outputId": "90bc2ab4-88f2-4b5d-f9da-ee24b72dff50",
        "colab": {
          "base_uri": "https://localhost:8080/",
          "height": 34
        }
      },
      "source": [
        "X_test, y_test = get_embeddings(test_df)"
      ],
      "execution_count": 36,
      "outputs": [
        {
          "output_type": "stream",
          "text": [
            "2960it [00:01, 2941.27it/s]\n"
          ],
          "name": "stderr"
        }
      ]
    },
    {
      "cell_type": "code",
      "metadata": {
        "id": "Ina7Uoq8nAzN",
        "colab_type": "code",
        "outputId": "f5261d46-6ebb-4a1e-b163-fb3bb51eda0a",
        "colab": {
          "base_uri": "https://localhost:8080/",
          "height": 34
        }
      },
      "source": [
        "X_train.shape, X_val.shape, X_test.shape, y_train.shape, y_val.shape, y_test.shape"
      ],
      "execution_count": 37,
      "outputs": [
        {
          "output_type": "execute_result",
          "data": {
            "text/plain": [
              "((36474, 300), (9397, 300), (2960, 300), (36474,), (9397,), (2960,))"
            ]
          },
          "metadata": {
            "tags": []
          },
          "execution_count": 37
        }
      ]
    },
    {
      "cell_type": "markdown",
      "metadata": {
        "id": "3qfcrtd3vHth",
        "colab_type": "text"
      },
      "source": [
        "# Pytorch model"
      ]
    },
    {
      "cell_type": "code",
      "metadata": {
        "id": "qmLVoIGCvLt4",
        "colab_type": "code",
        "colab": {}
      },
      "source": [
        "from torch.utils.data import Dataset, DataLoader"
      ],
      "execution_count": 0,
      "outputs": []
    },
    {
      "cell_type": "code",
      "metadata": {
        "id": "KS0GPcGJvLr6",
        "colab_type": "code",
        "colab": {}
      },
      "source": [
        "class tweets_embedding_dataset(Dataset):\n",
        "    def __init__(self, tweet_embedding, labels):\n",
        "        \"\"\"\n",
        "        Constructor class of our custom pytorch dataset\n",
        "\n",
        "        Args:\n",
        "            tweet_embedding -- matrix tweets x words from tfidf embedding\n",
        "            labels -- numpy array of shape (tweets, ) with values 0 and 2\n",
        "                    0: Negative\n",
        "                    1: Neutral\n",
        "                    2: Positive\n",
        "        \"\"\"\n",
        "        self.data = tweet_embedding\n",
        "        self.labels = labels\n",
        "        self.class_names = ['0 - NEGATIVE', '1 - NEUTRAL', '2 - POSITIVE']\n",
        "\n",
        "    def __len__(self):\n",
        "        \"\"\"\n",
        "        Return size of dataset\n",
        "        \"\"\"\n",
        "        return self.data.shape[0]\n",
        "\n",
        "    def __getitem__(self, idx):\n",
        "        \"\"\"\n",
        "        get item of our dataset\n",
        "        \"\"\"\n",
        "        return self.data[idx], self.labels[idx]       "
      ],
      "execution_count": 0,
      "outputs": []
    },
    {
      "cell_type": "code",
      "metadata": {
        "id": "JyBMpGuUukck",
        "colab_type": "code",
        "colab": {}
      },
      "source": [
        "train_dataset = tweets_embedding_dataset(X_train, y_train)\n",
        "val_dataset = tweets_embedding_dataset(X_val, y_val)\n",
        "\n",
        "train_dataloader = DataLoader(train_dataset, shuffle=True, batch_size=64) # We are going to use full batch for training\n",
        "val_dataloader = DataLoader(val_dataset, shuffle=True, batch_size=64) # We are going to use full batch for training\n",
        "\n",
        "datasets = {\"train\": train_dataset, \"val\": val_dataset}\n",
        "dataloaders = {\"train\": train_dataloader, \"val\": val_dataloader}\n",
        "dataset_sizes = {\"train\": X_train.shape[0], \"val\": X_val.shape[0]}"
      ],
      "execution_count": 0,
      "outputs": []
    },
    {
      "cell_type": "code",
      "metadata": {
        "id": "qHlj61l-vtvA",
        "colab_type": "code",
        "colab": {}
      },
      "source": [
        "import torch\n",
        "import time\n",
        "import copy\n",
        "\n",
        "import torch.nn as nn\n",
        "import torch.optim as optim\n",
        "import torch.nn.functional as F\n",
        "\n",
        "from torch.optim import lr_scheduler\n",
        "from sklearn.metrics import confusion_matrix, ConfusionMatrixDisplay\n",
        "\n",
        "class Net(nn.Module):\n",
        "    \"\"\"Class neural net with the architecture definition\"\"\"\n",
        "    def __init__(self, input_size, hidden_size, output_size, n_layers, \n",
        "                 bidirectional, dropout):\n",
        "        \n",
        "        super(Net, self).__init__()\n",
        "        self.lstm = nn.LSTM(input_size, hidden_size, \n",
        "                            num_layers=n_layers,\n",
        "                            bidirectional=bidirectional,\n",
        "                            dropout=dropout)\n",
        "\n",
        "        self.head_layers = nn.Sequential(\n",
        "            nn.Dropout(dropout),\n",
        "            nn.Linear(2*hidden_size, hidden_size),\n",
        "            nn.Dropout(dropout),\n",
        "            nn.ReLU(),\n",
        "            nn.Linear(hidden_size, output_size),\n",
        "            nn.Dropout(dropout)\n",
        "        )\n",
        "\n",
        "    def forward(self, x):\n",
        "        lstm_out, _ = self.lstm(x.view(len(x), 1, -1))\n",
        "        x = self.head_layers(lstm_out.view(len(x), -1))\n",
        "        return x"
      ],
      "execution_count": 0,
      "outputs": []
    },
    {
      "cell_type": "code",
      "metadata": {
        "id": "d2D485Ydv3IZ",
        "colab_type": "code",
        "colab": {}
      },
      "source": [
        "def train_model(model, criterion, optimizer, num_epochs=25):\n",
        "    \"\"\"\n",
        "    Train the model\n",
        "    Args: \n",
        "      model -- neural net definition\n",
        "      criterion -- Loss criterio\n",
        "      optimizer -- Optimizer algorithm\n",
        "      scheduler -- scheduler tu decay learning rate\n",
        "      num_epochs -- num_epochs to train the conv net\n",
        "    Return:\n",
        "      model -- best_model\n",
        "    \"\"\"\n",
        "    since = time.time()\n",
        "\n",
        "    losses = {\"train\": [], \"val\": []}\n",
        "    accuracies = {\"train\": [], \"val\": []}\n",
        "\n",
        "    best_model_wts = copy.deepcopy(model.state_dict())\n",
        "    best_acc = 0.0\n",
        "    \n",
        "    for epoch in range(num_epochs):\n",
        "\n",
        "        \n",
        "        print(f'Epoch: {epoch+1:02}')\n",
        "\n",
        "        # Each epoch has a training and validation phase\n",
        "        for phase in ['train', 'val']:\n",
        "            if phase == 'train':\n",
        "                model.train()  # Set model to training mode\n",
        "            else:\n",
        "                model.eval()   # Set model to evaluate mode\n",
        "\n",
        "            running_loss = 0.0\n",
        "            running_corrects = 0\n",
        "\n",
        "            # Iterate over data.\n",
        "            for inputs, labels in dataloaders[phase]:\n",
        "                inputs = inputs.cuda().float()\n",
        "                labels = labels.cuda()\n",
        "                # zero the parameter gradients\n",
        "                optimizer.zero_grad()\n",
        "\n",
        "                # forward\n",
        "                # track history if only in train\n",
        "                with torch.set_grad_enabled(phase == 'train'):\n",
        "                    outputs = model(inputs)\n",
        "                    _, preds = torch.max(outputs, 1)\n",
        "                    # Calculate loss\n",
        "                    loss = criterion(outputs, labels)\n",
        "\n",
        "                    # backward + optimize only if in training phase\n",
        "                    if phase == 'train':\n",
        "                        loss.backward()\n",
        "                        optimizer.step()\n",
        "\n",
        "                # statistics\n",
        "                running_loss += loss.item() * inputs.size(0)\n",
        "                running_corrects += torch.sum(preds == labels.data)\n",
        "\n",
        "            epoch_loss = running_loss / dataset_sizes[phase]\n",
        "            losses[phase].append(epoch_loss)\n",
        "            epoch_acc = running_corrects.double() / dataset_sizes[phase]\n",
        "            accuracies[phase].append(epoch_acc)\n",
        "\n",
        "            if phase == 'val':\n",
        "                print(f'\\t Val. Loss: {epoch_loss:.3f} |  Val. Acc: {epoch_acc*100:.3f}%')\n",
        "                \n",
        "            elif phase == 'train':\n",
        "                print(f'\\tTrain Loss: {epoch_loss:.3f} | Train Acc: {epoch_acc*100:.3f}%')\n",
        "\n",
        "            # deep copy the model\n",
        "            if phase == 'val' and epoch_acc > best_acc:\n",
        "                best_acc = epoch_acc\n",
        "                best_model_wts = copy.deepcopy(model.state_dict())\n",
        "\n",
        "    time_elapsed = time.time() - since\n",
        "    print('Training complete in {:.0f}m {:.0f}s'.format(\n",
        "        time_elapsed // 60, time_elapsed % 60))\n",
        "    print('Best val Acc: {:4f}'.format(best_acc))\n",
        "\n",
        "    # load best model weights\n",
        "    model.load_state_dict(best_model_wts)\n",
        "\n",
        "    return model, losses, accuracies, best_acc"
      ],
      "execution_count": 0,
      "outputs": []
    },
    {
      "cell_type": "code",
      "metadata": {
        "id": "FqnzcQsJwf21",
        "colab_type": "code",
        "outputId": "83ebefc4-f779-4a7b-d725-2e8b1bf17b1c",
        "colab": {
          "base_uri": "https://localhost:8080/",
          "height": 1000
        }
      },
      "source": [
        "EMBEDDING_DIM = X_train.shape[1]\n",
        "HIDDEN_DIM = 100\n",
        "OUTPUT_DIM = 3\n",
        "N_LAYERS = 3\n",
        "BIDIRECTIONAL = True\n",
        "DROPOUT = 0.5\n",
        "\n",
        "model = Net(EMBEDDING_DIM, HIDDEN_DIM, OUTPUT_DIM, N_LAYERS, \n",
        "            BIDIRECTIONAL, DROPOUT).cuda()\n",
        "criterion = nn.CrossEntropyLoss().cuda()\n",
        "optimizer = torch.optim.Adam(model.parameters())\n",
        "\n",
        "# Train\n",
        "model, losses, accuracies, best_acc = train_model(model, criterion, optimizer, num_epochs=40)"
      ],
      "execution_count": 44,
      "outputs": [
        {
          "output_type": "stream",
          "text": [
            "Epoch: 01\n",
            "\tTrain Loss: 0.995 | Train Acc: 46.236%\n",
            "\t Val. Loss: 0.800 |  Val. Acc: 66.479%\n",
            "Epoch: 02\n",
            "\tTrain Loss: 0.877 | Train Acc: 57.134%\n",
            "\t Val. Loss: 0.754 |  Val. Acc: 68.692%\n",
            "Epoch: 03\n",
            "\tTrain Loss: 0.862 | Train Acc: 57.973%\n",
            "\t Val. Loss: 0.754 |  Val. Acc: 69.001%\n",
            "Epoch: 04\n",
            "\tTrain Loss: 0.853 | Train Acc: 58.675%\n",
            "\t Val. Loss: 0.733 |  Val. Acc: 69.831%\n",
            "Epoch: 05\n",
            "\tTrain Loss: 0.850 | Train Acc: 58.529%\n",
            "\t Val. Loss: 0.731 |  Val. Acc: 70.161%\n",
            "Epoch: 06\n",
            "\tTrain Loss: 0.841 | Train Acc: 58.850%\n",
            "\t Val. Loss: 0.751 |  Val. Acc: 68.352%\n",
            "Epoch: 07\n",
            "\tTrain Loss: 0.846 | Train Acc: 58.623%\n",
            "\t Val. Loss: 0.734 |  Val. Acc: 69.416%\n",
            "Epoch: 08\n",
            "\tTrain Loss: 0.842 | Train Acc: 58.669%\n",
            "\t Val. Loss: 0.737 |  Val. Acc: 69.522%\n",
            "Epoch: 09\n",
            "\tTrain Loss: 0.838 | Train Acc: 59.124%\n",
            "\t Val. Loss: 0.747 |  Val. Acc: 69.022%\n",
            "Epoch: 10\n",
            "\tTrain Loss: 0.834 | Train Acc: 59.009%\n",
            "\t Val. Loss: 0.734 |  Val. Acc: 68.958%\n",
            "Epoch: 11\n",
            "\tTrain Loss: 0.827 | Train Acc: 59.429%\n",
            "\t Val. Loss: 0.719 |  Val. Acc: 70.310%\n",
            "Epoch: 12\n",
            "\tTrain Loss: 0.824 | Train Acc: 59.730%\n",
            "\t Val. Loss: 0.732 |  Val. Acc: 68.266%\n",
            "Epoch: 13\n",
            "\tTrain Loss: 0.825 | Train Acc: 59.152%\n",
            "\t Val. Loss: 0.729 |  Val. Acc: 69.277%\n",
            "Epoch: 14\n",
            "\tTrain Loss: 0.824 | Train Acc: 59.552%\n",
            "\t Val. Loss: 0.714 |  Val. Acc: 70.352%\n",
            "Epoch: 15\n",
            "\tTrain Loss: 0.821 | Train Acc: 59.514%\n",
            "\t Val. Loss: 0.724 |  Val. Acc: 69.075%\n",
            "Epoch: 16\n",
            "\tTrain Loss: 0.816 | Train Acc: 60.237%\n",
            "\t Val. Loss: 0.710 |  Val. Acc: 70.565%\n",
            "Epoch: 17\n",
            "\tTrain Loss: 0.811 | Train Acc: 60.024%\n",
            "\t Val. Loss: 0.702 |  Val. Acc: 70.320%\n",
            "Epoch: 18\n",
            "\tTrain Loss: 0.813 | Train Acc: 59.999%\n",
            "\t Val. Loss: 0.710 |  Val. Acc: 70.278%\n",
            "Epoch: 19\n",
            "\tTrain Loss: 0.807 | Train Acc: 60.424%\n",
            "\t Val. Loss: 0.701 |  Val. Acc: 70.139%\n",
            "Epoch: 20\n",
            "\tTrain Loss: 0.805 | Train Acc: 60.405%\n",
            "\t Val. Loss: 0.713 |  Val. Acc: 69.384%\n",
            "Epoch: 21\n",
            "\tTrain Loss: 0.805 | Train Acc: 60.479%\n",
            "\t Val. Loss: 0.705 |  Val. Acc: 70.363%\n",
            "Epoch: 22\n",
            "\tTrain Loss: 0.799 | Train Acc: 60.583%\n",
            "\t Val. Loss: 0.703 |  Val. Acc: 70.629%\n",
            "Epoch: 23\n",
            "\tTrain Loss: 0.800 | Train Acc: 60.314%\n",
            "\t Val. Loss: 0.703 |  Val. Acc: 70.608%\n",
            "Epoch: 24\n",
            "\tTrain Loss: 0.797 | Train Acc: 60.588%\n",
            "\t Val. Loss: 0.698 |  Val. Acc: 70.938%\n",
            "Epoch: 25\n",
            "\tTrain Loss: 0.794 | Train Acc: 60.602%\n",
            "\t Val. Loss: 0.710 |  Val. Acc: 70.767%\n",
            "Epoch: 26\n",
            "\tTrain Loss: 0.794 | Train Acc: 60.942%\n",
            "\t Val. Loss: 0.711 |  Val. Acc: 69.927%\n",
            "Epoch: 27\n",
            "\tTrain Loss: 0.792 | Train Acc: 60.690%\n",
            "\t Val. Loss: 0.704 |  Val. Acc: 70.597%\n",
            "Epoch: 28\n",
            "\tTrain Loss: 0.789 | Train Acc: 60.980%\n",
            "\t Val. Loss: 0.712 |  Val. Acc: 69.969%\n",
            "Epoch: 29\n",
            "\tTrain Loss: 0.781 | Train Acc: 61.255%\n",
            "\t Val. Loss: 0.692 |  Val. Acc: 71.800%\n",
            "Epoch: 30\n",
            "\tTrain Loss: 0.783 | Train Acc: 61.274%\n",
            "\t Val. Loss: 0.686 |  Val. Acc: 71.682%\n",
            "Epoch: 31\n",
            "\tTrain Loss: 0.778 | Train Acc: 61.161%\n",
            "\t Val. Loss: 0.697 |  Val. Acc: 70.810%\n",
            "Epoch: 32\n",
            "\tTrain Loss: 0.777 | Train Acc: 61.460%\n",
            "\t Val. Loss: 0.703 |  Val. Acc: 70.427%\n",
            "Epoch: 33\n",
            "\tTrain Loss: 0.773 | Train Acc: 61.287%\n",
            "\t Val. Loss: 0.695 |  Val. Acc: 71.246%\n",
            "Epoch: 34\n",
            "\tTrain Loss: 0.771 | Train Acc: 61.411%\n",
            "\t Val. Loss: 0.694 |  Val. Acc: 71.236%\n",
            "Epoch: 35\n",
            "\tTrain Loss: 0.773 | Train Acc: 61.562%\n",
            "\t Val. Loss: 0.704 |  Val. Acc: 70.661%\n",
            "Epoch: 36\n",
            "\tTrain Loss: 0.770 | Train Acc: 61.685%\n",
            "\t Val. Loss: 0.690 |  Val. Acc: 71.374%\n",
            "Epoch: 37\n",
            "\tTrain Loss: 0.763 | Train Acc: 61.674%\n",
            "\t Val. Loss: 0.697 |  Val. Acc: 71.523%\n",
            "Epoch: 38\n",
            "\tTrain Loss: 0.759 | Train Acc: 62.217%\n",
            "\t Val. Loss: 0.715 |  Val. Acc: 69.905%\n",
            "Epoch: 39\n",
            "\tTrain Loss: 0.757 | Train Acc: 62.349%\n",
            "\t Val. Loss: 0.699 |  Val. Acc: 71.225%\n",
            "Epoch: 40\n",
            "\tTrain Loss: 0.756 | Train Acc: 62.653%\n",
            "\t Val. Loss: 0.701 |  Val. Acc: 71.055%\n",
            "Training complete in 8m 2s\n",
            "Best val Acc: 0.717995\n"
          ],
          "name": "stdout"
        }
      ]
    },
    {
      "cell_type": "code",
      "metadata": {
        "id": "VKLEw5stcOb_",
        "colab_type": "code",
        "outputId": "f32ebdf4-ec1e-4766-fe42-20007f08c618",
        "colab": {
          "base_uri": "https://localhost:8080/",
          "height": 369
        }
      },
      "source": [
        "def plot_losses_accuracies(losses, accuracies, width=13, height=5):\n",
        "    \"\"\"\n",
        "    Plot losses and accuracies in each epoch on train and val set\n",
        "    Args:\n",
        "        losses -- python dictionary\n",
        "                    {\"train\": loss list, \"val\": loss list}\n",
        "        accuracies -- python dictionary\n",
        "                    {\"train\": accuracies list, \"val\": accuracies list}\n",
        "        width -- plot width config\n",
        "        height -- plot height config\n",
        "    \"\"\"         \n",
        "    plt.figure(figsize=(width, height))    \n",
        "    results = {\"loss\": losses, \"accu\": accuracies}\n",
        "\n",
        "    idx_plot = 0\n",
        "    for type_plot, value in results.items():\n",
        "        plt.subplot(1,2, idx_plot+1)\n",
        "        plt.plot(value[\"train\"], label=\"train\")\n",
        "        plt.plot(value[\"val\"], label=\"val\")\n",
        "        plt.title(\"Train and val {0}\".format(type_plot))\n",
        "        plt.ylabel(\"{0}\".format(type_plot).upper())\n",
        "        plt.xlabel(\"epochs\")\n",
        "        plt.legend()\n",
        "\n",
        "        idx_plot += 1\n",
        "    plt.tight_layout()\n",
        "    plt.show()\n",
        "\n",
        "plot_losses_accuracies(losses, accuracies)"
      ],
      "execution_count": 45,
      "outputs": [
        {
          "output_type": "display_data",
          "data": {
            "image/png": "[encoded data removed]",
            "text/plain": [
              "<Figure size 936x360 with 2 Axes>"
            ]
          },
          "metadata": {
            "tags": [],
            "needs_background": "light"
          }
        }
      ]
    },
    {
      "cell_type": "code",
      "metadata": {
        "id": "tcz5wExGcmCT",
        "colab_type": "code",
        "outputId": "75416870-e96e-40fc-82af-144afc086274",
        "colab": {
          "base_uri": "https://localhost:8080/",
          "height": 513
        }
      },
      "source": [
        "from sklearn.metrics import classification_report\n",
        "\n",
        "def plot_confusion_matrix_training_results(datasets, dataset_sizes, model, width=13, height=7):\n",
        "    \"\"\"\n",
        "    Plot confusion matrix for every train, test set, using sklearn functions\n",
        "\n",
        "    Args:\n",
        "        datasets -- python dictionary \n",
        "                        {'train': traindatasets, 'val': valdatasets}\n",
        "        dataset_sizes -- python dictionary\n",
        "                        {'train': trainsize, 'val': valsize}\n",
        "        model -- trained model\n",
        "        width -- plot configuration width figsize\n",
        "        height -- plot configuration height figsize\n",
        "    \"\"\"\n",
        "    # Set model to eval\n",
        "    model.eval()\n",
        "    fig, ax = plt.subplots(nrows=1, ncols=2, figsize=(width, height))\n",
        "    cls_report = {}\n",
        "    for idx_plot, phase in enumerate(['train', 'val']):\n",
        "        predictions = []\n",
        "        real = []\n",
        "        for data, label in datasets[phase]:\n",
        "            entry = torch.Tensor(data).cuda().float().view([1, -1])\n",
        "            with torch.no_grad():\n",
        "                outputs = model(entry)\n",
        "                _, preds = torch.max(outputs, 1)\n",
        "            predictions.append(preds.cpu().numpy())\n",
        "            real.append(label)\n",
        "\n",
        "        conf_matrix = confusion_matrix(real, predictions, [0,1,2])\n",
        "        fig = sns.heatmap(pd.DataFrame(data=conf_matrix, columns=[\"Negative_\", \"Neutral_\", \"Positive_\"], \n",
        "                                       index=[\"Negative\", \"Neutral\", \"Positive\"]), annot=True, fmt='d', ax=ax[idx_plot])\n",
        "        \n",
        "        # save classification report\n",
        "        cls_report[phase] = classification_report(real, predictions, target_names = [\"Negative\", \"Neutral\", \"Positive\"])\n",
        "        ax[idx_plot].set_title(\"{0} confussion matrix\".format(phase))\n",
        "        ax[idx_plot].set_ylabel(\"Real\")\n",
        "        ax[idx_plot].set_xlabel(\"Predicted\")\n",
        "    plt.tight_layout()\n",
        "    plt.show()\n",
        "\n",
        "    return cls_report\n",
        "\n",
        "cls_report = plot_confusion_matrix_training_results(datasets, dataset_sizes, model, width=15)"
      ],
      "execution_count": 46,
      "outputs": [
        {
          "output_type": "display_data",
          "data": {
            "image/png": "[encoded data removed]",
            "text/plain": [
              "<Figure size 1080x504 with 4 Axes>"
            ]
          },
          "metadata": {
            "tags": [],
            "needs_background": "light"
          }
        }
      ]
    },
    {
      "cell_type": "code",
      "metadata": {
        "id": "322Pugznbanl",
        "colab_type": "code",
        "outputId": "4bbd6e1c-84b0-48e8-a439-23000c823cbe",
        "colab": {
          "base_uri": "https://localhost:8080/",
          "height": 187
        }
      },
      "source": [
        "print(cls_report[\"train\"])"
      ],
      "execution_count": 47,
      "outputs": [
        {
          "output_type": "stream",
          "text": [
            "              precision    recall  f1-score   support\n",
            "\n",
            "    Negative       0.77      0.71      0.74     12158\n",
            "     Neutral       0.72      0.74      0.73     12158\n",
            "    Positive       0.76      0.80      0.78     12158\n",
            "\n",
            "    accuracy                           0.75     36474\n",
            "   macro avg       0.75      0.75      0.75     36474\n",
            "weighted avg       0.75      0.75      0.75     36474\n",
            "\n"
          ],
          "name": "stdout"
        }
      ]
    },
    {
      "cell_type": "code",
      "metadata": {
        "id": "HhwgtziObgbt",
        "colab_type": "code",
        "outputId": "911f87bd-c670-404d-cd27-da0548719461",
        "colab": {
          "base_uri": "https://localhost:8080/",
          "height": 187
        }
      },
      "source": [
        "print(cls_report[\"val\"])"
      ],
      "execution_count": 48,
      "outputs": [
        {
          "output_type": "stream",
          "text": [
            "              precision    recall  f1-score   support\n",
            "\n",
            "    Negative       0.67      0.71      0.69      2638\n",
            "     Neutral       0.73      0.68      0.70      3442\n",
            "    Positive       0.74      0.77      0.75      3317\n",
            "\n",
            "    accuracy                           0.72      9397\n",
            "   macro avg       0.72      0.72      0.72      9397\n",
            "weighted avg       0.72      0.72      0.72      9397\n",
            "\n"
          ],
          "name": "stdout"
        }
      ]
    },
    {
      "cell_type": "markdown",
      "metadata": {
        "id": "n1Qpc8qEkjkO",
        "colab_type": "text"
      },
      "source": [
        "#Predictions"
      ]
    },
    {
      "cell_type": "code",
      "metadata": {
        "id": "yNs_uVRZyGpL",
        "colab_type": "code",
        "outputId": "abeb60b4-bfc2-4961-b362-58b54bc2219d",
        "colab": {
          "base_uri": "https://localhost:8080/",
          "height": 34
        }
      },
      "source": [
        "model.eval()\n",
        "with torch.no_grad():\n",
        "    outputs = model(torch.Tensor(X_test).cuda().float())\n",
        "    _, preds = torch.max(outputs, 1)\n",
        "\n",
        "sum(preds.cpu().numpy() == y_test)/len(y_test) * 100"
      ],
      "execution_count": 49,
      "outputs": [
        {
          "output_type": "execute_result",
          "data": {
            "text/plain": [
              "72.63513513513513"
            ]
          },
          "metadata": {
            "tags": []
          },
          "execution_count": 49
        }
      ]
    },
    {
      "cell_type": "code",
      "metadata": {
        "id": "eHxf8RoGdt3U",
        "colab_type": "code",
        "outputId": "64f8b735-2444-498b-be8f-46fe01bf23e0",
        "colab": {
          "base_uri": "https://localhost:8080/",
          "height": 296
        }
      },
      "source": [
        "conf_matrix = confusion_matrix(y_test, preds.cpu().numpy(), [0,1,2])\n",
        "fig = sns.heatmap(pd.DataFrame(data=conf_matrix, columns=[\"Negative_\", \"Neutral_\", \"Positive_\"], index=[\"Negative\", \"Neutral\", \"Positive\"]), annot=True, fmt='d')\n",
        "cls_report[\"test\"] = classification_report(y_test, preds.cpu().numpy(), target_names = [\"Negative\", \"Neutral\", \"Positive\"])\n",
        "fig.plot()\n",
        "plt.xlabel(\"Predicted\")\n",
        "plt.ylabel(\"Real\")\n",
        "plt.title(\"Results test dataset\")\n",
        "plt.show()"
      ],
      "execution_count": 50,
      "outputs": [
        {
          "output_type": "display_data",
          "data": {
            "image/png": "[encoded data removed]",
            "text/plain": [
              "<Figure size 432x288 with 2 Axes>"
            ]
          },
          "metadata": {
            "tags": [],
            "needs_background": "light"
          }
        }
      ]
    },
    {
      "cell_type": "code",
      "metadata": {
        "id": "aYi7_K7Gbun5",
        "colab_type": "code",
        "outputId": "85a12b0f-def1-40c3-d0b6-1857a50a34d5",
        "colab": {
          "base_uri": "https://localhost:8080/",
          "height": 187
        }
      },
      "source": [
        "print(cls_report[\"test\"])"
      ],
      "execution_count": 51,
      "outputs": [
        {
          "output_type": "stream",
          "text": [
            "              precision    recall  f1-score   support\n",
            "\n",
            "    Negative       0.70      0.72      0.71       830\n",
            "     Neutral       0.73      0.76      0.74      1333\n",
            "    Positive       0.75      0.68      0.72       797\n",
            "\n",
            "    accuracy                           0.73      2960\n",
            "   macro avg       0.73      0.72      0.72      2960\n",
            "weighted avg       0.73      0.73      0.73      2960\n",
            "\n"
          ],
          "name": "stdout"
        }
      ]
    },
    {
      "cell_type": "markdown",
      "metadata": {
        "id": "_MYpx4kpmUwr",
        "colab_type": "text"
      },
      "source": [
        "# Save model"
      ]
    },
    {
      "cell_type": "code",
      "metadata": {
        "id": "6YRcTSy4mM0C",
        "colab_type": "code",
        "colab": {}
      },
      "source": [
        "import dill\n",
        "import os\n",
        "\n",
        "embedding_model_path = os.path.join(model_dir, 'embedding_model')\n",
        "model_path = os.path.join(model_dir, 'model')\n",
        "\n",
        "with open(embedding_model_path,'wb') as f:\n",
        "  fse_model.save(f)\n",
        "\n",
        "torch.save(model, model_path)"
      ],
      "execution_count": 0,
      "outputs": []
    },
    {
      "cell_type": "code",
      "metadata": {
        "id": "MTi5DsUNfkzG",
        "colab_type": "code",
        "outputId": "ecb8ce8d-3903-4735-c47c-10f980835ea7",
        "colab": {
          "base_uri": "https://localhost:8080/",
          "height": 204
        }
      },
      "source": [
        "from fse.models import SIF\n",
        "\n",
        "fse_model = SIF.load(embedding_model_path)\n",
        "model = torch.load(model_path)\n",
        "\n",
        "model.eval()"
      ],
      "execution_count": 53,
      "outputs": [
        {
          "output_type": "execute_result",
          "data": {
            "text/plain": [
              "Net(\n",
              "  (lstm): LSTM(300, 100, num_layers=3, dropout=0.5, bidirectional=True)\n",
              "  (head_layers): Sequential(\n",
              "    (0): Dropout(p=0.5, inplace=False)\n",
              "    (1): Linear(in_features=200, out_features=100, bias=True)\n",
              "    (2): Dropout(p=0.5, inplace=False)\n",
              "    (3): ReLU()\n",
              "    (4): Linear(in_features=100, out_features=3, bias=True)\n",
              "    (5): Dropout(p=0.5, inplace=False)\n",
              "  )\n",
              ")"
            ]
          },
          "metadata": {
            "tags": []
          },
          "execution_count": 53
        }
      ]
    },
    {
      "cell_type": "code",
      "metadata": {
        "id": "D9Q4WBFqfn2D",
        "colab_type": "code",
        "colab": {}
      },
      "source": [
        "import spacy\n",
        "from spacymoji import Emoji\n",
        "\n",
        "nlp = spacy.load(SPACY_CORE_MODEL)\n",
        "emoji = Emoji(nlp, merge_spans=False)\n",
        "nlp.add_pipe(emoji, first=True)\n",
        "\n",
        "def preprocess(tweet):\n",
        "    vector = nlp(tweet)\n",
        "    vector = [token for token in vector if not token.is_punct]\n",
        "    vector = [token for token in vector if not token.like_num]\n",
        "    vector = [token for token in vector if not token._.is_emoji]\n",
        "    vector = [token.text.lower() for token in vector]\n",
        "    vector = fse_model.infer([(vector, 0)])\n",
        "    return vector"
      ],
      "execution_count": 0,
      "outputs": []
    },
    {
      "cell_type": "code",
      "metadata": {
        "id": "XpDMcLSDfpvr",
        "colab_type": "code",
        "outputId": "2dba5dd7-f8ae-41c8-cb49-2c37a6715f29",
        "colab": {
          "base_uri": "https://localhost:8080/",
          "height": 34
        }
      },
      "source": [
        "tweets = ['Estoy triste con pumarejo', 'Amo a char con todo mi ❤️', 'Esto del coronavirus me tiene triste, jejeje xd']\n",
        "tweets = [preprocess(tweet) for tweet in tweets]\n",
        "\n",
        "outputs = model(torch.Tensor(tweets).cuda().float())\n",
        "_, preds = torch.max(outputs, 1)\n",
        "\n",
        "with torch.no_grad():\n",
        "  print(preds.cpu().numpy() - 1)"
      ],
      "execution_count": 55,
      "outputs": [
        {
          "output_type": "stream",
          "text": [
            "[-1  1 -1]\n"
          ],
          "name": "stdout"
        }
      ]
    }
  ]
}