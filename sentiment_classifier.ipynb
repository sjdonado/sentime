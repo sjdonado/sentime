{
  "nbformat": 4,
  "nbformat_minor": 0,
  "metadata": {
    "colab": {
      "name": "sentiment_classifier.ipynb",
      "provenance": [],
      "collapsed_sections": []
    },
    "kernelspec": {
      "name": "python3",
      "display_name": "Python 3"
    },
    "accelerator": "GPU"
  },
  "cells": [
    {
      "cell_type": "code",
      "metadata": {
        "id": "qwcU5hxTiWAI",
        "colab_type": "code",
        "outputId": "d890328e-7039-45c3-ee10-afc33889466c",
        "colab": {
          "base_uri": "https://localhost:8080/",
          "height": 86
        }
      },
      "source": [
        "import re\n",
        "import random\n",
        "import pathlib\n",
        "import seaborn as sns\n",
        "import pandas as pd\n",
        "import numpy as np\n",
        "import matplotlib.pyplot as plt\n",
        "\n",
        "import spacy\n",
        "from spacy.compat import pickle\n",
        "\n",
        "!pip install cytoolz\n",
        "\n",
        "import cytoolz\n",
        "\n",
        "SPACY_CORE_MODEL = 'es_core_news_md'\n",
        "spacy.cli.download(SPACY_CORE_MODEL)"
      ],
      "execution_count": 9,
      "outputs": [
        {
          "output_type": "stream",
          "text": [
            "Requirement already satisfied: cytoolz in /usr/local/lib/python3.6/dist-packages (0.10.1)\n",
            "Requirement already satisfied: toolz>=0.8.0 in /usr/local/lib/python3.6/dist-packages (from cytoolz) (0.10.0)\n",
            "\u001b[38;5;2m✔ Download and installation successful\u001b[0m\n",
            "You can now load the model via spacy.load('es_core_news_md')\n"
          ],
          "name": "stdout"
        }
      ]
    },
    {
      "cell_type": "code",
      "metadata": {
        "id": "TtP6wvsMiu9M",
        "colab_type": "code",
        "outputId": "0434660b-db1c-4f7f-8ff6-ad8f43ab59b8",
        "colab": {
          "base_uri": "https://localhost:8080/",
          "height": 52
        }
      },
      "source": [
        "from google.colab import drive\n",
        "drive.mount('/content/gdrive')\n",
        "\n",
        "%cd /content/gdrive/My Drive/Sentime/data"
      ],
      "execution_count": 11,
      "outputs": [
        {
          "output_type": "stream",
          "text": [
            "Drive already mounted at /content/gdrive; to attempt to forcibly remount, call drive.mount(\"/content/gdrive\", force_remount=True).\n",
            "/content/gdrive/My Drive/Sentime/data\n"
          ],
          "name": "stdout"
        }
      ]
    },
    {
      "cell_type": "code",
      "metadata": {
        "id": "CYcYWwD8CzcX",
        "colab_type": "code",
        "colab": {}
      },
      "source": [
        "# Preprocessing\n",
        "from sklearn.preprocessing import LabelEncoder\n",
        "from keras.utils import to_categorical\n",
        "\n",
        "def read_data(data_dir, title, limit=0):\n",
        "    dataset = pd.read_csv(data_dir / 'data.csv')\n",
        "\n",
        "    categories_count = dataset['sentiment'].value_counts()\n",
        "    print(categories_count)\n",
        "\n",
        "    fig = plt.figure(figsize=(10, 10))\n",
        "    sns.barplot(x=categories_count.index, y=categories_count)\n",
        "    plt.title(title)\n",
        "    plt.show()\n",
        "\n",
        "    dataset = dataset[dataset['sentiment'] != 'MIXED']\n",
        "    # dataset = dataset[dataset['sentiment'] != 'NEUTRAL']\n",
        "\n",
        "    tweets = [str(tweet) for tweet in dataset['tweet']]\n",
        "\n",
        "    sentiments = LabelEncoder()\n",
        "    sentiments = sentiments.fit_transform(dataset['sentiment'])\n",
        "    sentiments = to_categorical(sentiments)\n",
        "\n",
        "    examples = zip(tweets, sentiments)\n",
        "    examples = list(examples)\n",
        "\n",
        "    if limit >= 1:\n",
        "      examples = examples[:limit]\n",
        "\n",
        "    return zip(*examples)  # Unzips into two lists\n",
        "\n",
        "def get_labelled_sentences(docs, doc_labels):\n",
        "    labels = []\n",
        "    sentences = []\n",
        "    for doc, y in zip(docs, doc_labels):\n",
        "        for sent in doc.sents:\n",
        "            sentences.append(sent)\n",
        "            labels.append(y)\n",
        "    return sentences, np.asarray(labels, dtype='f')\n",
        "\n",
        "def get_features(docs, max_length):\n",
        "    docs = list(docs)\n",
        "    Xs = np.zeros((len(docs), max_length))\n",
        "    for i, doc in enumerate(docs):\n",
        "        j = 0\n",
        "        for token in doc:\n",
        "            vector_id = token.vocab.vectors.find(key=token.orth)\n",
        "            if vector_id >= 0:\n",
        "                Xs[i, j] = vector_id\n",
        "            else:\n",
        "                Xs[i, j] = 0\n",
        "            j += 1\n",
        "            if j >= max_length:\n",
        "                break\n",
        "    return Xs"
      ],
      "execution_count": 0,
      "outputs": []
    },
    {
      "cell_type": "code",
      "metadata": {
        "id": "X7I-nx4Mi52K",
        "colab_type": "code",
        "colab": {}
      },
      "source": [
        "batch_size=128\n",
        "\n",
        "class SentimentAnalyser():\n",
        "    @staticmethod\n",
        "    def get_embeddings(vocab):\n",
        "      return vocab.vectors.data\n",
        "\n",
        "    @classmethod\n",
        "    def load(cls, nlp, model, lstm_weights, max_length=140):\n",
        "      embeddings = cls.get_embeddings(nlp.vocab)\n",
        "      model.set_weights([embeddings] + lstm_weights)\n",
        "      return cls(model, max_length=max_length)\n",
        "\n",
        "    @classmethod\n",
        "    def predict(cls, nlp, texts):\n",
        "      docs = nlp.pipe(texts, batch_size=batch_size)\n",
        "      return [doc.sentiment for doc in docs]\n",
        "\n",
        "    def __init__(self, model, max_length=140):\n",
        "      self._model = model\n",
        "      self.max_length = max_length\n",
        "\n",
        "    def __call__(self, doc):\n",
        "      X = get_features([doc], self.max_length)\n",
        "      y = self._model.predict(X)\n",
        "      self.set_sentiment(doc, y)\n",
        "\n",
        "    def pipe(self, docs, batch_size=batch_size):\n",
        "      for minibatch in cytoolz.partition_all(batch_size, docs):\n",
        "          minibatch = list(minibatch)\n",
        "          sentences = []\n",
        "          for doc in minibatch:\n",
        "              sentences.extend(doc.sents)\n",
        "          Xs = get_features(sentences, self.max_length)\n",
        "          ys = self._model.predict(Xs)\n",
        "          for sent, label in zip(sentences, ys):\n",
        "              sent.doc.sentiment += np.argmax(label) - 1\n",
        "          for doc in minibatch:\n",
        "              yield doc\n",
        "\n",
        "    def set_sentiment(self, doc, y):\n",
        "      doc.sentiment = y\n",
        "      # Sentiment has a native slot for a single float.\n",
        "      # For arbitrary data storage, there's:\n",
        "      # doc.user_data['my_data'] = y"
      ],
      "execution_count": 0,
      "outputs": []
    },
    {
      "cell_type": "code",
      "metadata": {
        "id": "16EZ5iM1e6Hb",
        "colab_type": "code",
        "outputId": "57f40578-5c3b-4a88-ae57-cff2f90f2105",
        "colab": {
          "base_uri": "https://localhost:8080/",
          "height": 1000
        }
      },
      "source": [
        "model_dir=pathlib.Path('model') # Location of output model directory\n",
        "train_dir=pathlib.Path('train') # Location of training file or directory\n",
        "val_dir=pathlib.Path('validation') # Location of development file or directory\n",
        "\n",
        "print(\"Read data\")\n",
        "train_texts, train_labels = read_data(train_dir, title=\"Train data\")\n",
        "val_texts, val_labels = read_data(val_dir, title=\"Validation data\")\n",
        "\n",
        "train_labels = np.asarray(train_labels, dtype='f')\n",
        "val_labels = np.asarray(val_labels, dtype='f')\n",
        "\n",
        "print(\"Loading spaCy\")\n",
        "nlp = spacy.load(SPACY_CORE_MODEL)\n",
        "nlp.add_pipe(nlp.create_pipe(\"sentencizer\"))"
      ],
      "execution_count": 14,
      "outputs": [
        {
          "output_type": "stream",
          "text": [
            "Read data\n",
            "NEUTRAL     25761\n",
            "POSITIVE    22123\n",
            "NEGATIVE    14459\n",
            "MIXED        4854\n",
            "Name: sentiment, dtype: int64\n"
          ],
          "name": "stdout"
        },
        {
          "output_type": "display_data",
          "data": {
            "image/png": "[encoded data removed]",
            "text/plain": [
              "<Figure size 720x720 with 1 Axes>"
            ]
          },
          "metadata": {
            "tags": [],
            "needs_background": "light"
          }
        },
        {
          "output_type": "stream",
          "text": [
            "NEUTRAL     4313\n",
            "POSITIVE    4242\n",
            "NEGATIVE    3022\n",
            "MIXED       1021\n",
            "Name: sentiment, dtype: int64\n"
          ],
          "name": "stdout"
        },
        {
          "output_type": "display_data",
          "data": {
            "image/png": "[encoded data removed]",
            "text/plain": [
              "<Figure size 720x720 with 1 Axes>"
            ]
          },
          "metadata": {
            "tags": [],
            "needs_background": "light"
          }
        },
        {
          "output_type": "stream",
          "text": [
            "Loading spaCy\n"
          ],
          "name": "stdout"
        }
      ]
    },
    {
      "cell_type": "code",
      "metadata": {
        "id": "exj0jcYI5M9s",
        "colab_type": "code",
        "colab": {}
      },
      "source": [
        "from keras.models import Sequential\n",
        "from keras.layers import LSTM, Dense, Embedding, Bidirectional\n",
        "from keras.layers import Conv1D, Flatten, MaxPooling1D, Dropout\n",
        "from keras.optimizers import Adam\n",
        "\n",
        "shape = {\n",
        "    \"nr_hidden\": 64,\n",
        "    \"conv_filters\": 54,\n",
        "    \"conv_kernel\": 5,\n",
        "    \"pool_size\": 2,\n",
        "    \"max_length\": 140,\n",
        "    \"nr_class\": 3\n",
        "}\n",
        "settings = {\n",
        "    \"dropout\": 0.5,\n",
        "    \"lr\": 0.001,\n",
        "    \"nb_epoch\": 10,\n",
        "    \"batch_size\": batch_size,\n",
        "}\n",
        "embeddings = SentimentAnalyser.get_embeddings(nlp.vocab)\n",
        "\n",
        "model = Sequential()\n",
        "model.add(\n",
        "    Embedding(\n",
        "        embeddings.shape[0],\n",
        "        embeddings.shape[1],\n",
        "        input_length=shape[\"max_length\"],\n",
        "        trainable=True,\n",
        "        weights=[embeddings],\n",
        "        mask_zero=True\n",
        "    )\n",
        ")\n",
        "#model.add(\n",
        "#    Conv1D(\n",
        "#        filters=shape[\"conv_filters\"],\n",
        "#        kernel_size=shape[\"conv_kernel\"],\n",
        "#        activation='relu',\n",
        "#        padding='causal'\n",
        "#    )\n",
        "#)\n",
        "# model.add(MaxPooling1D(pool_size=shape[\"pool_size\"]))\n",
        "model.add(\n",
        "    Bidirectional(\n",
        "        LSTM(\n",
        "            shape[\"nr_hidden\"],\n",
        "            recurrent_dropout=settings[\"dropout\"],\n",
        "            dropout=settings[\"dropout\"],\n",
        "        )\n",
        "    )\n",
        ")\n",
        "model.add(Dense(shape[\"nr_class\"], activation=\"softmax\"))\n",
        "model.compile(\n",
        "    optimizer=Adam(lr=settings[\"lr\"]),\n",
        "    loss=\"categorical_crossentropy\",\n",
        "    metrics=[\"accuracy\"],\n",
        ")"
      ],
      "execution_count": 0,
      "outputs": []
    },
    {
      "cell_type": "code",
      "metadata": {
        "id": "IUeMW3DdOZoU",
        "colab_type": "code",
        "outputId": "dc17c54f-f6bc-4886-b208-2fb00316c254",
        "colab": {
          "base_uri": "https://localhost:8080/",
          "height": 436
        }
      },
      "source": [
        "train_docs = list(nlp.pipe(train_texts))\n",
        "val_docs = list(nlp.pipe(val_texts))\n",
        "\n",
        "train_docs, train_labels = get_labelled_sentences(train_docs, train_labels)\n",
        "val_docs, val_labels = get_labelled_sentences(val_docs, val_labels)\n",
        "\n",
        "train_X = get_features(train_docs, shape[\"max_length\"])\n",
        "val_X = get_features(val_docs, shape[\"max_length\"])\n",
        "\n",
        "history = model.fit(\n",
        "    train_X,\n",
        "    train_labels,\n",
        "    validation_data=(val_X, val_labels),\n",
        "    epochs=settings[\"nb_epoch\"],\n",
        "    batch_size=settings[\"batch_size\"],\n",
        ")"
      ],
      "execution_count": 16,
      "outputs": [
        {
          "output_type": "stream",
          "text": [
            "/usr/local/lib/python3.6/dist-packages/tensorflow/python/framework/indexed_slices.py:434: UserWarning: Converting sparse IndexedSlices to a dense Tensor of unknown shape. This may consume a large amount of memory.\n",
            "  \"Converting sparse IndexedSlices to a dense Tensor of unknown shape. \"\n"
          ],
          "name": "stderr"
        },
        {
          "output_type": "stream",
          "text": [
            "Train on 70189 samples, validate on 13026 samples\n",
            "Epoch 1/10\n",
            "70189/70189 [==============================] - 404s 6ms/step - loss: 0.8600 - accuracy: 0.5989 - val_loss: 0.7332 - val_accuracy: 0.6802\n",
            "Epoch 2/10\n",
            "70189/70189 [==============================] - 399s 6ms/step - loss: 0.7208 - accuracy: 0.6847 - val_loss: 0.6682 - val_accuracy: 0.7124\n",
            "Epoch 3/10\n",
            "70189/70189 [==============================] - 400s 6ms/step - loss: 0.6596 - accuracy: 0.7170 - val_loss: 0.6562 - val_accuracy: 0.7197\n",
            "Epoch 4/10\n",
            "70189/70189 [==============================] - 390s 6ms/step - loss: 0.6222 - accuracy: 0.7358 - val_loss: 0.6474 - val_accuracy: 0.7269\n",
            "Epoch 5/10\n",
            "70189/70189 [==============================] - 398s 6ms/step - loss: 0.5930 - accuracy: 0.7476 - val_loss: 0.6490 - val_accuracy: 0.7253\n",
            "Epoch 6/10\n",
            "70189/70189 [==============================] - 395s 6ms/step - loss: 0.5685 - accuracy: 0.7598 - val_loss: 0.6536 - val_accuracy: 0.7226\n",
            "Epoch 7/10\n",
            "70189/70189 [==============================] - 388s 6ms/step - loss: 0.5497 - accuracy: 0.7679 - val_loss: 0.6561 - val_accuracy: 0.7259\n",
            "Epoch 8/10\n",
            "70189/70189 [==============================] - 391s 6ms/step - loss: 0.5308 - accuracy: 0.7772 - val_loss: 0.6642 - val_accuracy: 0.7272\n",
            "Epoch 9/10\n",
            "70189/70189 [==============================] - 392s 6ms/step - loss: 0.5151 - accuracy: 0.7851 - val_loss: 0.6664 - val_accuracy: 0.7275\n",
            "Epoch 10/10\n",
            "70189/70189 [==============================] - 384s 5ms/step - loss: 0.5017 - accuracy: 0.7894 - val_loss: 0.6814 - val_accuracy: 0.7239\n"
          ],
          "name": "stdout"
        }
      ]
    },
    {
      "cell_type": "code",
      "metadata": {
        "id": "jGb5qX3MWZty",
        "colab_type": "code",
        "outputId": "341ea00c-9de9-47a8-9223-86ad6addec11",
        "colab": {
          "base_uri": "https://localhost:8080/",
          "height": 489
        }
      },
      "source": [
        "plt.figure()\n",
        "plt.plot(history.history['loss'], label='train_loss')\n",
        "plt.plot(history.history['accuracy'], label='train_acc')\n",
        "plt.title('Training Loss and Accuracy vs Epochs')\n",
        "plt.xlabel('Epoch #')\n",
        "plt.ylabel('Loss/Accuracy')\n",
        "plt.legend(loc='best')"
      ],
      "execution_count": 23,
      "outputs": [
        {
          "output_type": "execute_result",
          "data": {
            "text/plain": [
              "<matplotlib.legend.Legend at 0x7f3ae98fb048>"
            ]
          },
          "metadata": {
            "tags": []
          },
          "execution_count": 23
        },
        {
          "output_type": "display_data",
          "data": {
            "image/png": "[encoded data removed]",
            "text/plain": [
              "<Figure size 640x480 with 1 Axes>"
            ]
          },
          "metadata": {
            "tags": []
          }
        }
      ]
    },
    {
      "cell_type": "code",
      "metadata": {
        "id": "NZAGUbqBPTSI",
        "colab_type": "code",
        "colab": {}
      },
      "source": [
        "# Save model\n",
        "weights = model.get_weights()\n",
        "\n",
        "if model_dir is not None:\n",
        "    with (model_dir / \"model\").open(\"wb\") as file_:\n",
        "        pickle.dump(weights[1:], file_)\n",
        "    with (model_dir / \"config.json\").open(\"w\") as file_:\n",
        "        file_.write(model.to_json())"
      ],
      "execution_count": 0,
      "outputs": []
    },
    {
      "cell_type": "code",
      "metadata": {
        "id": "OwZ_j_Wvn9Oy",
        "colab_type": "code",
        "outputId": "e6b11516-b8a1-42fa-fb32-a63fbcd0e5b7",
        "colab": {
          "base_uri": "https://localhost:8080/",
          "height": 957
        }
      },
      "source": [
        "# Evaluate\n",
        "evaluate_nlp = spacy.load(SPACY_CORE_MODEL)\n",
        "evaluate_nlp.add_pipe(evaluate_nlp.create_pipe(\"sentencizer\"))\n",
        "evaluate_nlp.add_pipe(SentimentAnalyser.load(evaluate_nlp, model, weights[1:]))\n",
        "\n",
        "test_texts, test_labels = read_data(pathlib.Path('test'), title=\"Test data\")\n",
        "\n",
        "predictions = SentimentAnalyser.predict(evaluate_nlp, test_texts)\n",
        "correct = 0\n",
        "for i, prediction in enumerate(predictions):\n",
        "    correct += prediction == np.argmax(test_labels[i]) - 1\n",
        "\n",
        "print(\"Test accuracy: {}\".format(float(correct) / i))"
      ],
      "execution_count": 25,
      "outputs": [
        {
          "output_type": "stream",
          "text": [
            "NEUTRAL     1822\n",
            "POSITIVE    1082\n",
            "NEGATIVE    1041\n",
            "MIXED        255\n",
            "Name: sentiment, dtype: int64\n"
          ],
          "name": "stdout"
        },
        {
          "output_type": "display_data",
          "data": {
            "image/png": "[encoded data removed]",
            "text/plain": [
              "<Figure size 1000x1000 with 1 Axes>"
            ]
          },
          "metadata": {
            "tags": []
          }
        },
        {
          "output_type": "stream",
          "text": [
            "Test accuracy: 0.6435091277890467\n"
          ],
          "name": "stdout"
        }
      ]
    }
  ]
}