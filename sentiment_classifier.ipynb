{
  "cells": [
    {
      "cell_type": "code",
      "metadata": {
        "id": "qwcU5hxTiWAI",
        "colab_type": "code",
        "outputId": "1d14f492-fc59-4ef0-e495-fcddeb074905",
        "colab": {
          "base_uri": "https://localhost:8080/",
          "height": 280
        }
      },
      "source": [
        "import re\n",
        "import random\n",
        "import pathlib\n",
        "import pandas as pd\n",
        "import numpy as np\n",
        "import matplotlib.pyplot as plt\n",
        "\n",
        "from keras.models import Sequential, model_from_json\n",
        "from keras.layers import LSTM, Dense, Embedding, Bidirectional\n",
        "from keras.layers import TimeDistributed\n",
        "from keras.optimizers import Adam\n",
        "\n",
        "import spacy\n",
        "from spacy.compat import pickle\n",
        "\n",
        "!pip install cytoolz\n",
        "\n",
        "import cytoolz\n",
        "\n",
        "SPACY_CORE_MODEL = 'es_core_news_md'\n",
        "spacy.cli.download(SPACY_CORE_MODEL)"
      ],
      "execution_count": 1,
      "outputs": [
        {
          "output_type": "stream",
          "text": [
            "Using TensorFlow backend.\n"
          ],
          "name": "stderr"
        },
        {
          "output_type": "stream",
          "text": [
            "Collecting cytoolz\n",
            "\u001b[?25l  Downloading https://files.pythonhosted.org/packages/62/b1/7f16703fe4a497879b1b457adf1e472fad2d4f030477698b16d2febf38bb/cytoolz-0.10.1.tar.gz (475kB)\n",
            "\u001b[K     |████████████████████████████████| 481kB 2.7MB/s \n",
            "\u001b[?25hRequirement already satisfied: toolz>=0.8.0 in /usr/local/lib/python3.6/dist-packages (from cytoolz) (0.10.0)\n",
            "Building wheels for collected packages: cytoolz\n",
            "  Building wheel for cytoolz (setup.py) ... \u001b[?25l\u001b[?25hdone\n",
            "  Created wheel for cytoolz: filename=cytoolz-0.10.1-cp36-cp36m-linux_x86_64.whl size=1257642 sha256=7c73d45f01e649377fa5600252e08aa4c3aabe5f6b9b0a7b34a52908b8c8d170\n",
            "  Stored in directory: /root/.cache/pip/wheels/64/2a/18/d962b614e055577e7d9a3e4813e0742f822ca9c8800cc3783a\n",
            "Successfully built cytoolz\n",
            "Installing collected packages: cytoolz\n",
            "Successfully installed cytoolz-0.10.1\n",
            "\u001b[38;5;2m✔ Download and installation successful\u001b[0m\n",
            "You can now load the model via spacy.load('es_core_news_md')\n"
          ],
          "name": "stdout"
        }
      ]
    },
    {
      "cell_type": "code",
      "metadata": {
        "id": "TtP6wvsMiu9M",
        "colab_type": "code",
        "outputId": "37ab9eb9-e685-468d-fb31-9bc33d11424a",
        "colab": {
          "base_uri": "https://localhost:8080/",
          "height": 141
        }
      },
      "source": [
        "from google.colab import drive\n",
        "drive.mount('/content/gdrive')\n",
        "\n",
        "%cd /content/gdrive/My Drive/Sentime/2020_04_27"
      ],
      "execution_count": 2,
      "outputs": [
        {
          "output_type": "stream",
          "text": [
            "Go to this URL in a browser: https://accounts.google.com/o/oauth2/auth?client_id=947318989803-6bn6qk8qdgf4n4g3pfee6491hc0brc4i.apps.googleusercontent.com&redirect_uri=urn%3aietf%3awg%3aoauth%3a2.0%3aoob&response_type=code&scope=email%20https%3a%2f%2fwww.googleapis.com%2fauth%2fdocs.test%20https%3a%2f%2fwww.googleapis.com%2fauth%2fdrive%20https%3a%2f%2fwww.googleapis.com%2fauth%2fdrive.photos.readonly%20https%3a%2f%2fwww.googleapis.com%2fauth%2fpeopleapi.readonly\n",
            "\n",
            "Enter your authorization code:\n",
            "··········\n",
            "Mounted at /content/gdrive\n",
            "/content/gdrive/My Drive/Sentime/2020_04_27\n"
          ],
          "name": "stdout"
        }
      ]
    },
    {
      "cell_type": "code",
      "metadata": {
        "id": "CYcYWwD8CzcX",
        "colab_type": "code",
        "colab": {}
      },
      "source": [
        "# Preprocessing\n",
        "# from sklearn.preprocessing import LabelEncoder\n",
        "# from keras.utils import to_categorical\n",
        "\n",
        "def read_data(data_dir, limit=0):\n",
        "    dataset = pd.read_csv(data_dir / 'data.csv')\n",
        "    dataset = dataset[dataset['sentiment'] != 'MIXED']\n",
        "    dataset = dataset[dataset['sentiment'] != 'NEUTRAL']\n",
        "\n",
        "    tweets = [str(tweet) for tweet in dataset['tweet']]\n",
        "    sentiments = dataset['sentiment']\n",
        "    sentiments[sentiments == 'POSITIVE'] = 1\n",
        "    sentiments[sentiments == 'NEGATIVE'] = 0\n",
        "\n",
        "    # sentiments = LabelEncoder()\n",
        "    # sentiments = sentiments.fit_transform(dataset['sentiment'])\n",
        "    # sentiments = to_categorical(sentiments)\n",
        "\n",
        "    examples = zip(tweets, sentiments)\n",
        "    examples = list(examples)\n",
        "\n",
        "    if limit >= 1:\n",
        "      examples = examples[:limit]\n",
        "\n",
        "    return zip(*examples)  # Unzips into two lists\n",
        "\n",
        "def get_labelled_sentences(docs, doc_labels):\n",
        "    labels = []\n",
        "    sentences = []\n",
        "    for doc, y in zip(docs, doc_labels):\n",
        "        for sent in doc.sents:\n",
        "            sentences.append(sent)\n",
        "            labels.append(y)\n",
        "    return sentences, np.asarray(labels, dtype=\"int32\")\n",
        "\n",
        "def get_features(docs, max_length):\n",
        "    docs = list(docs)\n",
        "    Xs = np.zeros((len(docs), max_length), dtype=\"int32\")\n",
        "    for i, doc in enumerate(docs):\n",
        "        j = 0\n",
        "        for token in doc:\n",
        "            vector_id = token.vocab.vectors.find(key=token.orth)\n",
        "            if vector_id >= 0:\n",
        "                Xs[i, j] = vector_id\n",
        "            else:\n",
        "                Xs[i, j] = 0\n",
        "            j += 1\n",
        "            if j >= max_length:\n",
        "                break\n",
        "    return Xs"
      ],
      "execution_count": 0,
      "outputs": []
    },
    {
      "cell_type": "code",
      "metadata": {
        "id": "X7I-nx4Mi52K",
        "colab_type": "code",
        "colab": {}
      },
      "source": [
        "class SentimentAnalyser():\n",
        "    @staticmethod\n",
        "    def get_embeddings(vocab):\n",
        "      return vocab.vectors.data\n",
        "\n",
        "    @classmethod\n",
        "    def load(cls, path, nlp, max_length=100):\n",
        "      with (path / \"config.json\").open() as file_:\n",
        "          model = model_from_json(file_.read())\n",
        "      with (path / \"model\").open(\"rb\") as file_:\n",
        "          lstm_weights = pickle.load(file_)\n",
        "      embeddings = cls.get_embeddings(nlp.vocab)\n",
        "      model.set_weights([embeddings] + lstm_weights)\n",
        "\n",
        "      return cls(model, max_length=max_length)\n",
        "\n",
        "    @classmethod\n",
        "    def predict(cls, model_dir, text, max_length=100):\n",
        "      nlp = spacy.load(SPACY_CORE_MODEL)\n",
        "      nlp.add_pipe(nlp.create_pipe(\"sentencizer\"))\n",
        "      nlp.add_pipe(cls.load(model_dir, nlp, max_length))\n",
        "\n",
        "      return nlp.pipe(texts, batch_size=1000)\n",
        "\n",
        "    @classmethod\n",
        "    def evaluate(cls, model_dir, texts, labels, max_length=100):\n",
        "      docs = cls.predict(model_dir, texts, max_length)\n",
        "      correct = 0\n",
        "      i = 0\n",
        "      for doc in docs:\n",
        "          correct += bool(doc.sentiment >= 0.5) == bool(labels[i])\n",
        "          i += 1\n",
        "      return float(correct) / i\n",
        "\n",
        "    def __init__(self, model, max_length=100):\n",
        "      self._model = model\n",
        "      self.max_length = max_length\n",
        "\n",
        "    def __call__(self, doc):\n",
        "      X = get_features([doc], self.max_length)\n",
        "      y = self._model.predict(X)\n",
        "      self.set_sentiment(doc, y)\n",
        "\n",
        "    def pipe(self, docs, batch_size=1000):\n",
        "      for minibatch in cytoolz.partition_all(batch_size, docs):\n",
        "          minibatch = list(minibatch)\n",
        "          sentences = []\n",
        "          for doc in minibatch:\n",
        "              sentences.extend(doc.sents)\n",
        "          Xs = get_features(sentences, self.max_length)\n",
        "          ys = self._model.predict(Xs)\n",
        "          for sent, label in zip(sentences, ys):\n",
        "              sent.doc.sentiment += label - 0.5\n",
        "          for doc in minibatch:\n",
        "              yield doc\n",
        "\n",
        "    def set_sentiment(self, doc, y):\n",
        "      doc.sentiment = float(y[0])\n",
        "      # Sentiment has a native slot for a single float.\n",
        "      # For arbitrary data storage, there's:\n",
        "      # doc.user_data['my_data'] = y"
      ],
      "execution_count": 0,
      "outputs": []
    },
    {
      "cell_type": "code",
      "metadata": {
        "id": "exj0jcYI5M9s",
        "colab_type": "code",
        "colab": {}
      },
      "source": [
        "def compile_lstm(embeddings, shape, settings):\n",
        "    model = Sequential()\n",
        "    model.add(\n",
        "        Embedding(\n",
        "            embeddings.shape[0],\n",
        "            embeddings.shape[1],\n",
        "            input_length=shape[\"max_length\"],\n",
        "            trainable=False,\n",
        "            weights=[embeddings],\n",
        "            mask_zero=True,\n",
        "        )\n",
        "    )\n",
        "    model.add(TimeDistributed(Dense(shape[\"nr_hidden\"], use_bias=False)))\n",
        "    model.add(\n",
        "        Bidirectional(\n",
        "            LSTM(\n",
        "                shape[\"nr_hidden\"],\n",
        "                recurrent_dropout=settings[\"dropout\"],\n",
        "                dropout=settings[\"dropout\"],\n",
        "            )\n",
        "        )\n",
        "    )\n",
        "    model.add(Dense(shape[\"nr_class\"], activation=\"sigmoid\"))\n",
        "    model.compile(\n",
        "        optimizer=Adam(lr=settings[\"lr\"]),\n",
        "        loss=\"binary_crossentropy\",\n",
        "        metrics=[\"accuracy\"],\n",
        "    )\n",
        "    return model"
      ],
      "execution_count": 0,
      "outputs": []
    },
    {
      "cell_type": "code",
      "metadata": {
        "id": "p4l5aT5vAydM",
        "colab_type": "code",
        "outputId": "2b9d1f4d-ced7-4152-9a10-493b3b33895d",
        "colab": {
          "base_uri": "https://localhost:8080/",
          "height": 69
        }
      },
      "source": [
        "model_dir=pathlib.Path('model_lstm') # Location of output model directory\n",
        "train_dir=pathlib.Path('train') # Location of training file or directory\n",
        "dev_dir=pathlib.Path('test') # Location of development file or directory\n",
        "nr_hidden=64 # Number of hidden units\n",
        "max_length=100  # Shape - Maximum sentence length\n",
        "dropout=0.5 # Dropout\n",
        "learn_rate=0.001  # General NN config\n",
        "nb_epoch=5 # Number of training epochs\n",
        "batch_size=256 # Size of minibatches for training LSTM\n",
        "nr_examples=-1 # Limit to N examples\n",
        "lstm_shape = {\"nr_hidden\": nr_hidden, \"max_length\": max_length, \"nr_class\": 1}\n",
        "lstm_settings = {\"dropout\": dropout, \"lr\": learn_rate}\n",
        "\n",
        "print(\"Read data\")\n",
        "train_texts, train_labels = read_data(train_dir, limit=nr_examples)\n",
        "dev_texts, dev_labels = read_data(dev_dir, limit=nr_examples)\n",
        "\n",
        "train_labels = np.asarray(train_labels, dtype=\"int32\")\n",
        "dev_labels = np.asarray(dev_labels, dtype=\"int32\")\n",
        "\n",
        "print(\"Loading spaCy\")\n",
        "nlp = spacy.load(SPACY_CORE_MODEL)\n",
        "nlp.add_pipe(nlp.create_pipe(\"sentencizer\"))\n",
        "embeddings = SentimentAnalyser.get_embeddings(nlp.vocab)\n",
        "model = compile_lstm(embeddings, lstm_shape, lstm_settings)\n",
        "\n",
        "print(\"Parsing texts...\")\n",
        "train_docs = list(nlp.pipe(train_texts))\n",
        "dev_docs = list(nlp.pipe(dev_texts))\n",
        "\n",
        "train_docs, train_labels = get_labelled_sentences(train_docs, train_labels)\n",
        "dev_docs, dev_labels = get_labelled_sentences(dev_docs, dev_labels)\n",
        "\n",
        "train_X = get_features(train_docs, lstm_shape[\"max_length\"])\n",
        "dev_X = get_features(dev_docs, lstm_shape[\"max_length\"])"
      ],
      "execution_count": 8,
      "outputs": [
        {
          "output_type": "stream",
          "text": [
            "Read data\n",
            "Loading spaCy\n",
            "Parsing texts...\n"
          ],
          "name": "stdout"
        }
      ]
    },
    {
      "cell_type": "code",
      "metadata": {
        "id": "IUeMW3DdOZoU",
        "colab_type": "code",
        "outputId": "10a8e44e-783b-44e3-dd20-6908e46aded0",
        "colab": {
          "base_uri": "https://localhost:8080/",
          "height": 208
        }
      },
      "source": [
        "history = model.fit(\n",
        "    train_X,\n",
        "    train_labels,\n",
        "    validation_data=(dev_X, dev_labels),\n",
        "    epochs=nb_epoch,\n",
        "    batch_size=batch_size,\n",
        ")"
      ],
      "execution_count": 9,
      "outputs": [
        {
          "output_type": "stream",
          "text": [
            "Train on 11108 samples, validate on 5025 samples\n",
            "Epoch 1/5\n",
            "11108/11108 [==============================] - 40s 4ms/step - loss: 0.6723 - accuracy: 0.6165 - val_loss: 0.6776 - val_accuracy: 0.5996\n",
            "Epoch 2/5\n",
            "11108/11108 [==============================] - 37s 3ms/step - loss: 0.6631 - accuracy: 0.6259 - val_loss: 0.6770 - val_accuracy: 0.5992\n",
            "Epoch 3/5\n",
            "11108/11108 [==============================] - 36s 3ms/step - loss: 0.6626 - accuracy: 0.6268 - val_loss: 0.6804 - val_accuracy: 0.5996\n",
            "Epoch 4/5\n",
            "11108/11108 [==============================] - 36s 3ms/step - loss: 0.6611 - accuracy: 0.6278 - val_loss: 0.6752 - val_accuracy: 0.5996\n",
            "Epoch 5/5\n",
            "11108/11108 [==============================] - 35s 3ms/step - loss: 0.6620 - accuracy: 0.6269 - val_loss: 0.6785 - val_accuracy: 0.5996\n"
          ],
          "name": "stdout"
        }
      ]
    },
    {
      "cell_type": "code",
      "metadata": {
        "id": "jGb5qX3MWZty",
        "colab_type": "code",
        "outputId": "5e9ebb11-9ef3-43bc-e0e2-08e13400406c",
        "colab": {
          "base_uri": "https://localhost:8080/",
          "height": 316
        }
      },
      "source": [
        "plt.style.use('ggplot')\n",
        "plt.figure()\n",
        "plt.plot(history.history['loss'], label='train_loss')\n",
        "plt.plot(history.history['val_loss'], label='val_loss')\n",
        "plt.plot(history.history['accuracy'], label='train_acc')\n",
        "plt.plot(history.history['val_accuracy'], label='val_acc')\n",
        "plt.title('Training Loss and Accuracy')\n",
        "plt.xlabel('Epoch #')\n",
        "plt.ylabel('Loss/Accuracy')\n",
        "plt.legend(loc='best')"
      ],
      "execution_count": 10,
      "outputs": [
        {
          "output_type": "execute_result",
          "data": {
            "text/plain": [
              "<matplotlib.legend.Legend at 0x7ff824dd06a0>"
            ]
          },
          "metadata": {
            "tags": []
          },
          "execution_count": 10
        },
        {
          "output_type": "display_data",
          "data": {
            "image/png": "[encoded data removed]",
            "text/plain": [
              "<Figure size 432x288 with 1 Axes>"
            ]
          },
          "metadata": {
            "tags": []
          }
        }
      ]
    },
    {
      "cell_type": "code",
      "metadata": {
        "id": "NZAGUbqBPTSI",
        "colab_type": "code",
        "colab": {}
      },
      "source": [
        "# Save model\n",
        "weights = model.get_weights()\n",
        "if model_dir is not None:\n",
        "    with (model_dir / \"model\").open(\"wb\") as file_:\n",
        "        pickle.dump(weights[1:], file_)\n",
        "    with (model_dir / \"config.json\").open(\"w\") as file_:\n",
        "        file_.write(model.to_json())"
      ],
      "execution_count": 0,
      "outputs": []
    },
    {
      "cell_type": "code",
      "metadata": {
        "id": "0CNMqVrr5Sg1",
        "colab_type": "code",
        "outputId": "15aba579-7d70-410a-a57e-8430b7321402",
        "colab": {
          "base_uri": "https://localhost:8080/",
          "height": 34
        }
      },
      "source": [
        "# Evaluate\n",
        "# texts = ['Amo a char', 'Odio a char']\n",
        "# labels = [1.0, 0.0]\n",
        "# SentimentAnalyser.evaluate(pathlib.Path('model_lstm'), texts, labels)"
      ],
      "execution_count": 13,
      "outputs": [
        {
          "output_type": "execute_result",
          "data": {
            "text/plain": [
              "0.75"
            ]
          },
          "metadata": {
            "tags": []
          },
          "execution_count": 13
        }
      ]
    }
  ],
  "metadata": {
    "colab": {
      "name": "sentiment_classifier.ipynb",
      "provenance": [],
      "collapsed_sections": []
    },
    "kernelspec": {
      "name": "python3",
      "display_name": "Python 3"
    },
    "accelerator": "GPU"
  },
  "nbformat": 4,
  "nbformat_minor": 0
}