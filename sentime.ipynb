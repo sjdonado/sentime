{
  "nbformat": 4,
  "nbformat_minor": 0,
  "metadata": {
    "colab": {
      "name": "sentime.ipynb",
      "provenance": [],
      "collapsed_sections": []
    },
    "kernelspec": {
      "name": "python3",
      "display_name": "Python 3"
    },
    "accelerator": "GPU"
  },
  "cells": [
    {
      "cell_type": "code",
      "metadata": {
        "id": "qwcU5hxTiWAI",
        "colab_type": "code",
        "colab": {
          "base_uri": "https://localhost:8080/",
          "height": 68
        },
        "outputId": "a57fa561-3630-4683-d9ef-0c47f3f881c3"
      },
      "source": [
        "import nltk\n",
        "import numpy as np\n",
        "import pandas as pd\n",
        "import matplotlib.pyplot as plt\n",
        "\n",
        "nltk.download('stopwords')"
      ],
      "execution_count": 5,
      "outputs": [
        {
          "output_type": "stream",
          "text": [
            "[nltk_data] Downloading package stopwords to /root/nltk_data...\n",
            "[nltk_data]   Unzipping corpora/stopwords.zip.\n"
          ],
          "name": "stdout"
        },
        {
          "output_type": "execute_result",
          "data": {
            "text/plain": [
              "True"
            ]
          },
          "metadata": {
            "tags": []
          },
          "execution_count": 5
        }
      ]
    },
    {
      "cell_type": "code",
      "metadata": {
        "id": "TtP6wvsMiu9M",
        "colab_type": "code",
        "outputId": "22598f39-10a1-42d2-b683-99dc6efce433",
        "colab": {
          "base_uri": "https://localhost:8080/",
          "height": 139
        }
      },
      "source": [
        "from google.colab import drive\n",
        "drive.mount('/content/gdrive')\n",
        "\n",
        "%cd /content/gdrive/My Drive/Sentime"
      ],
      "execution_count": 2,
      "outputs": [
        {
          "output_type": "stream",
          "text": [
            "Go to this URL in a browser: https://accounts.google.com/o/oauth2/auth?client_id=947318989803-6bn6qk8qdgf4n4g3pfee6491hc0brc4i.apps.googleusercontent.com&redirect_uri=urn%3aietf%3awg%3aoauth%3a2.0%3aoob&response_type=code&scope=email%20https%3a%2f%2fwww.googleapis.com%2fauth%2fdocs.test%20https%3a%2f%2fwww.googleapis.com%2fauth%2fdrive%20https%3a%2f%2fwww.googleapis.com%2fauth%2fdrive.photos.readonly%20https%3a%2f%2fwww.googleapis.com%2fauth%2fpeopleapi.readonly\n",
            "\n",
            "Enter your authorization code:\n",
            "··········\n",
            "Mounted at /content/gdrive\n",
            "/content/gdrive/My Drive/Sentime\n"
          ],
          "name": "stdout"
        }
      ]
    },
    {
      "cell_type": "code",
      "metadata": {
        "id": "X7I-nx4Mi52K",
        "colab_type": "code",
        "colab": {}
      },
      "source": [
        "data = pd.read_csv('2020_04_27_dataset.csv')\n",
        "# test_data = pd.read_csv('2020_04_26_dataset.csv')\n",
        "\n",
        "# data = data[data['sentiment'] != 'MIXED']"
      ],
      "execution_count": 0,
      "outputs": []
    },
    {
      "cell_type": "code",
      "metadata": {
        "id": "0CNMqVrr5Sg1",
        "colab_type": "code",
        "outputId": "725eba8c-d598-478f-8ab6-1338f13876b9",
        "colab": {
          "base_uri": "https://localhost:8080/",
          "height": 102
        }
      },
      "source": [
        "# preprocessing\n",
        "from nltk.corpus import stopwords\n",
        "from sklearn.feature_extraction.text import CountVectorizer\n",
        "from sklearn.preprocessing import LabelEncoder\n",
        "from keras.utils import to_categorical\n",
        "from sklearn.utils import class_weight as cw\n",
        "\n",
        "def clean_text(s):\n",
        "  s = re.sub(r'pic.twitter\\S+', '', s)\n",
        "  s = re.sub(r'https?:\\/\\/.*[\\r\\n]*', '', s)\n",
        "  s = re.sub(r'@[A-Za-z0-9]+', '', s)\n",
        "  s = s.lower()\n",
        "  return \"\".join([c for c in text if c != string.punctuation and c != '\\n' and c != '\\r']).strip()\n",
        "\n",
        "# remove emojis\n",
        "# data['tweet'] = data['tweet'].apply(lambda s: s.encode('ascii', 'ignore').decode('ascii'))\n",
        "# test_data['tweet'] = test_data['tweet'].apply(lambda s: s.encode('ascii', 'ignore').decode('ascii'))\n",
        "\n",
        "# data['tweet'].apply(clean_text)\n",
        "# \"\".join([char for char in text if char != string.punctuation and char != '\\n' and char != '\\r']).strip()\n",
        "\n",
        "stopwords = stopwords.words('spanish')\n",
        "vectorizer = CountVectorizer(stop_words=stopwords)\n",
        "\n",
        "X = vectorizer.fit_transform(data['tweet'])\n",
        "Y = LabelEncoder()\n",
        "Y = Y.fit_transform(data['sentiment'])\n",
        "Y = to_categorical(Y)\n",
        "\n",
        "print(data['sentiment'].value_counts())\n",
        "\n",
        "y = y_train.flatten()\n",
        "class_weight = cw.compute_class_weight('balanced', np.unique(y), y)"
      ],
      "execution_count": 58,
      "outputs": [
        {
          "output_type": "stream",
          "text": [
            "NEUTRAL     12381\n",
            "POSITIVE     9959\n",
            "NEGATIVE     6123\n",
            "MIXED        2170\n",
            "Name: sentiment, dtype: int64\n"
          ],
          "name": "stdout"
        }
      ]
    },
    {
      "cell_type": "code",
      "metadata": {
        "id": "6w5ilyVUzN02",
        "colab_type": "code",
        "outputId": "177a9b9f-2f4b-4e04-eef0-f2c47ef4c5ac",
        "colab": {
          "base_uri": "https://localhost:8080/",
          "height": 51
        }
      },
      "source": [
        "from sklearn.model_selection import train_test_split\n",
        "\n",
        "X_train, X_test, y_train, y_test = train_test_split(data['tweet'], Y, test_size=0.1)\n",
        "\n",
        "max_words = len(set(\" \".join(X_train).split()))\n",
        "max_len = X_train.apply(lambda x: len(x)).max()\n",
        "\n",
        "print(X_train.shape, y_train.shape)\n",
        "print(X_test.shape, y_test.shape)"
      ],
      "execution_count": 59,
      "outputs": [
        {
          "output_type": "stream",
          "text": [
            "(27569,) (27569, 4)\n",
            "(3064,) (3064, 4)\n"
          ],
          "name": "stdout"
        }
      ]
    },
    {
      "cell_type": "code",
      "metadata": {
        "id": "gALc0g9tqr1a",
        "colab_type": "code",
        "colab": {
          "base_uri": "https://localhost:8080/",
          "height": 34
        },
        "outputId": "a28ffe62-9043-41ee-9f57-c7f2fb9a035c"
      },
      "source": [
        "# Tokenize Text\n",
        "\n",
        "from keras.preprocessing.text import Tokenizer\n",
        "from keras.preprocessing.sequence import pad_sequences\n",
        "\n",
        "tokenizer = Tokenizer(num_words=max_words)\n",
        "tokenizer.fit_on_texts(X_train)\n",
        "\n",
        "X_train = tokenizer.texts_to_sequences(X_train)\n",
        "X_train = pad_sequences(X_train, maxlen=max_len)\n",
        "\n",
        "X_test = tokenizer.texts_to_sequences(X_test)\n",
        "X_test = pad_sequences(X_test, maxlen=max_len)\n",
        "\n",
        "print(X_train.shape, X_test.shape)"
      ],
      "execution_count": 60,
      "outputs": [
        {
          "output_type": "stream",
          "text": [
            "(27569, 289) (3064, 289)\n"
          ],
          "name": "stdout"
        }
      ]
    },
    {
      "cell_type": "code",
      "metadata": {
        "id": "fB5DwgItj25y",
        "colab_type": "code",
        "outputId": "0b2a82c5-40da-4c4e-cfa7-fa429750cbd1",
        "colab": {
          "base_uri": "https://localhost:8080/",
          "height": 527
        }
      },
      "source": [
        "from keras.models import Sequential\n",
        "from keras.layers import Embedding, Dropout, BatchNormalization\n",
        "from keras.layers import Conv1D, MaxPooling1D, LSTM\n",
        "from keras.optimizers import Adam\n",
        "\n",
        "# Embedding\n",
        "embed_dim = 100\n",
        "\n",
        "# Convolution\n",
        "filters = 1024\n",
        "kernel_size = 3\n",
        "pool_size = 2\n",
        "\n",
        "# LSTM\n",
        "lstm_output_size = 100\n",
        "dropout = 0.5\n",
        "\n",
        "num_classes = y_train.shape[1]\n",
        "\n",
        "model = Sequential()\n",
        "model.add(Embedding(max_words, embed_dim, input_length=max_len))\n",
        "model.add(Conv1D(filters, kernel_size, padding='valid', activation='relu',\n",
        "                strides=1))\n",
        "model.add(GlobalMaxPooling1D())\n",
        "\n",
        "model.add(Dropout(dropout))\n",
        "model.add(BatchNormalization())\n",
        "model.add(Dropout(dropout))\n",
        "\n",
        "model.add(Dense(2048, activation='relu'))\n",
        "\n",
        "model.add(Dropout(dropout))\n",
        "model.add(BatchNormalization())\n",
        "model.add(Dropout(dropout))\n",
        "\n",
        "model.add(Dense(num_classes, activation='softmax'))\n",
        "\n",
        "#model = Sequential()\n",
        "#model.add(Embedding(max_words, embed_dim, input_length=X_train.shape[1]))\n",
        "#model.add(Conv1D(filters=filters, kernel_size=kernel_size, padding='same', activation='relu'))\n",
        "#model.add(MaxPooling1D(pool_size=pool_size))\n",
        "#model.add(Conv1D(filters=filters, kernel_size=kernel_size, padding='same', activation='relu'))\n",
        "#model.add(MaxPooling1D(pool_size=pool_size))    \n",
        "#model.add(LSTM(lstm_output_size, dropout=dropout, recurrent_dropout=dropout))\n",
        "#model.add(Dense(num_classes, activation='softmax'))\n",
        "\n",
        "learning_rate = 0.001\n",
        "model.compile(loss='categorical_crossentropy', optimizer=Adam(learning_rate), metrics=['accuracy'])\n",
        "\n",
        "model.summary()"
      ],
      "execution_count": 63,
      "outputs": [
        {
          "output_type": "stream",
          "text": [
            "Model: \"sequential_14\"\n",
            "_________________________________________________________________\n",
            "Layer (type)                 Output Shape              Param #   \n",
            "=================================================================\n",
            "embedding_13 (Embedding)     (None, 289, 100)          7049400   \n",
            "_________________________________________________________________\n",
            "conv1d_15 (Conv1D)           (None, 287, 1024)         308224    \n",
            "_________________________________________________________________\n",
            "global_max_pooling1d_10 (Glo (None, 1024)              0         \n",
            "_________________________________________________________________\n",
            "dropout_25 (Dropout)         (None, 1024)              0         \n",
            "_________________________________________________________________\n",
            "batch_normalization_13 (Batc (None, 1024)              4096      \n",
            "_________________________________________________________________\n",
            "dropout_26 (Dropout)         (None, 1024)              0         \n",
            "_________________________________________________________________\n",
            "dense_15 (Dense)             (None, 2048)              2099200   \n",
            "_________________________________________________________________\n",
            "dropout_27 (Dropout)         (None, 2048)              0         \n",
            "_________________________________________________________________\n",
            "batch_normalization_14 (Batc (None, 2048)              8192      \n",
            "_________________________________________________________________\n",
            "dropout_28 (Dropout)         (None, 2048)              0         \n",
            "_________________________________________________________________\n",
            "dense_16 (Dense)             (None, 4)                 8196      \n",
            "=================================================================\n",
            "Total params: 9,477,308\n",
            "Trainable params: 9,471,164\n",
            "Non-trainable params: 6,144\n",
            "_________________________________________________________________\n"
          ],
          "name": "stdout"
        }
      ]
    },
    {
      "cell_type": "code",
      "metadata": {
        "id": "SR7CG_50kglo",
        "colab_type": "code",
        "outputId": "715d555a-fa6b-4f5b-a340-0ee04051218a",
        "colab": {
          "base_uri": "https://localhost:8080/",
          "height": 428
        }
      },
      "source": [
        "# Training\n",
        "epochs = 10\n",
        "batch_size = 128\n",
        "validation_split = 0.2\n",
        "\n",
        "history = model.fit(\n",
        "    X_train,\n",
        "    y_train,\n",
        "    batch_size=batch_size,\n",
        "    epochs=epochs,\n",
        "    validation_split=validation_split,\n",
        "    class_weight=class_weight\n",
        ")"
      ],
      "execution_count": 64,
      "outputs": [
        {
          "output_type": "stream",
          "text": [
            "/usr/local/lib/python3.6/dist-packages/tensorflow/python/framework/indexed_slices.py:434: UserWarning: Converting sparse IndexedSlices to a dense Tensor of unknown shape. This may consume a large amount of memory.\n",
            "  \"Converting sparse IndexedSlices to a dense Tensor of unknown shape. \"\n"
          ],
          "name": "stderr"
        },
        {
          "output_type": "stream",
          "text": [
            "Train on 22055 samples, validate on 5514 samples\n",
            "Epoch 1/10\n",
            "22055/22055 [==============================] - 8s 381us/step - loss: 1.8974 - accuracy: 0.3168 - val_loss: 1.2485 - val_accuracy: 0.4071\n",
            "Epoch 2/10\n",
            "22055/22055 [==============================] - 8s 363us/step - loss: 1.4070 - accuracy: 0.3472 - val_loss: 1.2470 - val_accuracy: 0.3760\n",
            "Epoch 3/10\n",
            "22055/22055 [==============================] - 8s 366us/step - loss: 1.3396 - accuracy: 0.3625 - val_loss: 1.2487 - val_accuracy: 0.3779\n",
            "Epoch 4/10\n",
            "22055/22055 [==============================] - 8s 364us/step - loss: 1.3143 - accuracy: 0.3789 - val_loss: 1.2552 - val_accuracy: 0.3983\n",
            "Epoch 5/10\n",
            "22055/22055 [==============================] - 8s 360us/step - loss: 1.2325 - accuracy: 0.4477 - val_loss: 1.3004 - val_accuracy: 0.3743\n",
            "Epoch 6/10\n",
            "22055/22055 [==============================] - 8s 358us/step - loss: 0.9793 - accuracy: 0.6017 - val_loss: 1.5289 - val_accuracy: 0.3500\n",
            "Epoch 7/10\n",
            "22055/22055 [==============================] - 8s 354us/step - loss: 0.6497 - accuracy: 0.7519 - val_loss: 2.0021 - val_accuracy: 0.3442\n",
            "Epoch 8/10\n",
            "22055/22055 [==============================] - 8s 353us/step - loss: 0.4193 - accuracy: 0.8444 - val_loss: 2.4729 - val_accuracy: 0.3379\n",
            "Epoch 9/10\n",
            "22055/22055 [==============================] - 8s 352us/step - loss: 0.2884 - accuracy: 0.8930 - val_loss: 2.9141 - val_accuracy: 0.3439\n",
            "Epoch 10/10\n",
            "22055/22055 [==============================] - 8s 355us/step - loss: 0.2204 - accuracy: 0.9194 - val_loss: 3.2176 - val_accuracy: 0.3279\n"
          ],
          "name": "stdout"
        }
      ]
    },
    {
      "cell_type": "code",
      "metadata": {
        "id": "K6jvq7NwlBHa",
        "colab_type": "code",
        "outputId": "bb766bce-1354-4302-a178-6fbe10e24c04",
        "colab": {
          "base_uri": "https://localhost:8080/",
          "height": 316
        }
      },
      "source": [
        "plt.style.use('ggplot')\n",
        "plt.figure()\n",
        "plt.plot(history.history['loss'], label='train_loss')\n",
        "plt.plot(history.history['val_loss'], label='val_loss')\n",
        "plt.plot(history.history['accuracy'], label='train_acc')\n",
        "plt.plot(history.history['val_accuracy'], label='val_acc')\n",
        "plt.title('Training Loss and Accuracy')\n",
        "plt.xlabel('Epoch #')\n",
        "plt.ylabel('Loss/Accuracy')\n",
        "plt.legend(loc='best')"
      ],
      "execution_count": 65,
      "outputs": [
        {
          "output_type": "execute_result",
          "data": {
            "text/plain": [
              "<matplotlib.legend.Legend at 0x7f0c51ff6400>"
            ]
          },
          "metadata": {
            "tags": []
          },
          "execution_count": 65
        },
        {
          "output_type": "display_data",
          "data": {
            "image/png": "[encoded data removed]",
            "text/plain": [
              "<Figure size 432x288 with 1 Axes>"
            ]
          },
          "metadata": {
            "tags": []
          }
        }
      ]
    },
    {
      "cell_type": "code",
      "metadata": {
        "id": "2qQjdTrcktXu",
        "colab_type": "code",
        "outputId": "b670b240-de2d-4e3c-e3f9-902df389ac3e",
        "colab": {
          "base_uri": "https://localhost:8080/",
          "height": 68
        }
      },
      "source": [
        "score, acc = model.evaluate(X_test, y_test, batch_size=batch_size)\n",
        "print('Test score:', score)\n",
        "print('Test accuracy:', acc)"
      ],
      "execution_count": 66,
      "outputs": [
        {
          "output_type": "stream",
          "text": [
            "3064/3064 [==============================] - 0s 128us/step\n",
            "Test score: 3.2592303360722394\n",
            "Test accuracy: 0.3283289670944214\n"
          ],
          "name": "stdout"
        }
      ]
    },
    {
      "cell_type": "code",
      "metadata": {
        "id": "uiQwql4-jgaZ",
        "colab_type": "code",
        "colab": {
          "base_uri": "https://localhost:8080/",
          "height": 34
        },
        "outputId": "38a083a4-86a2-479b-cf0b-6c131b6dd7e2"
      },
      "source": [
        "# serialize model to JSON\n",
        "model_json = model.to_json()\n",
        "with open(\"model.json\", \"w\") as json_file:\n",
        "    json_file.write(model_json)\n",
        "# serialize weights to HDF5\n",
        "model.save_weights(\"model.h5\")\n",
        "\n",
        "print(\"Saved model to disk\")"
      ],
      "execution_count": 67,
      "outputs": [
        {
          "output_type": "stream",
          "text": [
            "Saved model to disk\n"
          ],
          "name": "stdout"
        }
      ]
    }
  ]
}