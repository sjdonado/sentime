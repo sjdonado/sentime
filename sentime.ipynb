{
  "nbformat": 4,
  "nbformat_minor": 0,
  "metadata": {
    "colab": {
      "name": "sentime.ipynb",
      "provenance": []
    },
    "kernelspec": {
      "name": "python3",
      "display_name": "Python 3"
    },
    "accelerator": "GPU"
  },
  "cells": [
    {
      "cell_type": "code",
      "metadata": {
        "id": "qwcU5hxTiWAI",
        "colab_type": "code",
        "colab": {}
      },
      "source": [
        "import numpy as np\n",
        "import pandas as pd\n",
        "import matplotlib.pyplot as plt"
      ],
      "execution_count": 0,
      "outputs": []
    },
    {
      "cell_type": "code",
      "metadata": {
        "id": "TtP6wvsMiu9M",
        "colab_type": "code",
        "outputId": "870df112-7cd6-4df7-c230-556b7186141f",
        "colab": {
          "base_uri": "https://localhost:8080/",
          "height": 139
        }
      },
      "source": [
        "from google.colab import drive\n",
        "drive.mount('/content/gdrive')\n",
        "\n",
        "%cd /content/gdrive/My Drive/Sentime"
      ],
      "execution_count": 2,
      "outputs": [
        {
          "output_type": "stream",
          "text": [
            "Go to this URL in a browser: https://accounts.google.com/o/oauth2/auth?client_id=947318989803-6bn6qk8qdgf4n4g3pfee6491hc0brc4i.apps.googleusercontent.com&redirect_uri=urn%3aietf%3awg%3aoauth%3a2.0%3aoob&response_type=code&scope=email%20https%3a%2f%2fwww.googleapis.com%2fauth%2fdocs.test%20https%3a%2f%2fwww.googleapis.com%2fauth%2fdrive%20https%3a%2f%2fwww.googleapis.com%2fauth%2fdrive.photos.readonly%20https%3a%2f%2fwww.googleapis.com%2fauth%2fpeopleapi.readonly\n",
            "\n",
            "Enter your authorization code:\n",
            "··········\n",
            "Mounted at /content/gdrive\n",
            "/content/gdrive/My Drive/Sentime\n"
          ],
          "name": "stdout"
        }
      ]
    },
    {
      "cell_type": "code",
      "metadata": {
        "id": "X7I-nx4Mi52K",
        "colab_type": "code",
        "outputId": "65df86ed-6229-45aa-ed64-3bdeb798f156",
        "colab": {
          "base_uri": "https://localhost:8080/",
          "height": 119
        }
      },
      "source": [
        "data = pd.read_csv('2020_04_27_dataset.csv')\n",
        "test_data = pd.read_csv('2020_04_26_dataset.csv')\n",
        "\n",
        "data = data[data['sentiment'] != 'NEUTRAL']\n",
        "data = data[data['sentiment'] != 'MIXED']\n",
        "\n",
        "test_data = test_data[test_data['sentiment'] != 'NEUTRAL']\n",
        "test_data = test_data[test_data['sentiment'] != 'MIXED']\n",
        "\n",
        "# remove emojis\n",
        "data['tweet'] = data['tweet'].apply(lambda s: s.encode('ascii', 'ignore').decode('ascii'))\n",
        "test_data['tweet'] = test_data['tweet'].apply(lambda s: s.encode('ascii', 'ignore').decode('ascii'))\n",
        "\n",
        "# data['tweet'] = data['tweet'].apply(lambda x: re.sub(r'pic.twitter\\S+', '', x))\n",
        "# data['tweet'] = data['tweet'].apply(lambda x:re.sub(r'https?:\\/\\/.*[\\r\\n]*', '', x))\n",
        "# data['tweet'] = data['tweet'].apply(lambda x:re.sub(r'@[A-Za-z0-9]+', '', x))\n",
        "# data['tweet'] = data['tweet'].apply(lambda x: x.lower())\n",
        "# \"\".join([char for char in text if char != string.punctuation and char != '\\n' and char != '\\r']).strip()\n",
        "\n",
        "print(data['sentiment'].value_counts())\n",
        "print(test_data['sentiment'].value_counts())"
      ],
      "execution_count": 50,
      "outputs": [
        {
          "output_type": "stream",
          "text": [
            "POSITIVE    9959\n",
            "NEGATIVE    6123\n",
            "Name: sentiment, dtype: int64\n",
            "POSITIVE    167\n",
            "NEGATIVE    119\n",
            "Name: sentiment, dtype: int64\n"
          ],
          "name": "stdout"
        }
      ]
    },
    {
      "cell_type": "code",
      "metadata": {
        "id": "8rfzuwRFjOpi",
        "colab_type": "code",
        "colab": {}
      },
      "source": [
        "from keras.preprocessing.text import Tokenizer\n",
        "from keras.preprocessing.sequence import pad_sequences\n",
        "\n",
        "# Embedding\n",
        "max_features = 20000\n",
        "maxlen = 140\n",
        "embedding_size = 128\n",
        "\n",
        "tokenizer = Tokenizer(num_words=max_features, split=' ')\n",
        "\n",
        "tokenizer.fit_on_texts(data['tweet'].values)\n",
        "X = tokenizer.texts_to_sequences(data['tweet'].values)\n",
        "X = pad_sequences(X, maxlen=maxlen)\n",
        "\n",
        "tokenizer.fit_on_texts(test_data['tweet'].values)\n",
        "X_test = tokenizer.texts_to_sequences(test_data['tweet'].values)\n",
        "X_test = pad_sequences(X_test, maxlen=maxlen)\n",
        "\n",
        "Y = np.zeros(data['sentiment'].shape[0])\n",
        "Y[data['sentiment'] == 'POSITIVE'] = 1\n",
        "\n",
        "y_test = np.zeros(test_data['sentiment'].shape[0])\n",
        "y_test[test_data['sentiment'] == 'POSITIVE'] = 1\n",
        "\n",
        "# from sklearn.preprocessing import LabelBinarizer\n",
        "# from keras.utils import to_categorical\n",
        "\n",
        "# lb = LabelBinarizer()\n",
        "# Y = lb.fit_transform(data['sentiment'])\n",
        "# Y = to_categorical(Y)"
      ],
      "execution_count": 0,
      "outputs": []
    },
    {
      "cell_type": "code",
      "metadata": {
        "id": "6w5ilyVUzN02",
        "colab_type": "code",
        "outputId": "51e6e4dd-a28b-4d4c-bb37-e027f9012a58",
        "colab": {
          "base_uri": "https://localhost:8080/",
          "height": 51
        }
      },
      "source": [
        "from sklearn.model_selection import train_test_split\n",
        "\n",
        "X_train, X_val, y_train, y_val = train_test_split(X, Y, test_size=0.1, random_state=42)\n",
        "\n",
        "print(X_train.shape, y_train.shape)\n",
        "print(X_test.shape, y_test.shape)"
      ],
      "execution_count": 42,
      "outputs": [
        {
          "output_type": "stream",
          "text": [
            "(14473, 140) (14473,)\n",
            "(286, 140) (286,)\n"
          ],
          "name": "stdout"
        }
      ]
    },
    {
      "cell_type": "code",
      "metadata": {
        "id": "fB5DwgItj25y",
        "colab_type": "code",
        "outputId": "6a4ef3b0-ba52-4074-8dcf-dad8bbb21af0",
        "colab": {
          "base_uri": "https://localhost:8080/",
          "height": 408
        }
      },
      "source": [
        "from keras.models import Sequential\n",
        "from keras.layers import Dense, Dropout, Activation\n",
        "from keras.layers import Embedding\n",
        "from keras.layers import LSTM\n",
        "from keras.layers import Conv1D, MaxPooling1D\n",
        "\n",
        "# Convolution\n",
        "kernel_size = 5\n",
        "filters = 64\n",
        "pool_size = 4\n",
        "\n",
        "# LSTM\n",
        "lstm_output_size = 70\n",
        "\n",
        "model = Sequential()\n",
        "model.add(Embedding(max_features, embedding_size, input_length=maxlen))\n",
        "model.add(Dropout(0.25))\n",
        "model.add(Conv1D(filters,\n",
        "                 kernel_size,\n",
        "                 padding='valid',\n",
        "                 activation='relu',\n",
        "                 strides=1))\n",
        "model.add(MaxPooling1D(pool_size=pool_size))\n",
        "model.add(LSTM(lstm_output_size))\n",
        "model.add(Dense(1))\n",
        "model.add(Activation('sigmoid'))\n",
        "\n",
        "print(model.summary())"
      ],
      "execution_count": 43,
      "outputs": [
        {
          "output_type": "stream",
          "text": [
            "Model: \"sequential_6\"\n",
            "_________________________________________________________________\n",
            "Layer (type)                 Output Shape              Param #   \n",
            "=================================================================\n",
            "embedding_6 (Embedding)      (None, 140, 128)          2560000   \n",
            "_________________________________________________________________\n",
            "dropout_6 (Dropout)          (None, 140, 128)          0         \n",
            "_________________________________________________________________\n",
            "conv1d_6 (Conv1D)            (None, 136, 64)           41024     \n",
            "_________________________________________________________________\n",
            "max_pooling1d_6 (MaxPooling1 (None, 34, 64)            0         \n",
            "_________________________________________________________________\n",
            "lstm_6 (LSTM)                (None, 70)                37800     \n",
            "_________________________________________________________________\n",
            "dense_6 (Dense)              (None, 1)                 71        \n",
            "_________________________________________________________________\n",
            "activation_6 (Activation)    (None, 1)                 0         \n",
            "=================================================================\n",
            "Total params: 2,638,895\n",
            "Trainable params: 2,638,895\n",
            "Non-trainable params: 0\n",
            "_________________________________________________________________\n",
            "None\n"
          ],
          "name": "stdout"
        }
      ]
    },
    {
      "cell_type": "code",
      "metadata": {
        "id": "gKJFplCLnRqn",
        "colab_type": "code",
        "colab": {}
      },
      "source": [
        "model.compile(loss='binary_crossentropy',\n",
        "              optimizer='adam',\n",
        "              metrics=['accuracy'])"
      ],
      "execution_count": 0,
      "outputs": []
    },
    {
      "cell_type": "code",
      "metadata": {
        "id": "SR7CG_50kglo",
        "colab_type": "code",
        "outputId": "f7ca0eee-5486-4046-dcf1-07693f755a17",
        "colab": {
          "base_uri": "https://localhost:8080/",
          "height": 190
        }
      },
      "source": [
        "# Training\n",
        "batch_size = 30\n",
        "epochs = 3\n",
        "\n",
        "history = model.fit(X_train, y_train,\n",
        "          batch_size=batch_size,\n",
        "          epochs=epochs,\n",
        "          validation_data=(X_val, y_val))"
      ],
      "execution_count": 37,
      "outputs": [
        {
          "output_type": "stream",
          "text": [
            "/usr/local/lib/python3.6/dist-packages/tensorflow/python/framework/indexed_slices.py:434: UserWarning: Converting sparse IndexedSlices to a dense Tensor of unknown shape. This may consume a large amount of memory.\n",
            "  \"Converting sparse IndexedSlices to a dense Tensor of unknown shape. \"\n"
          ],
          "name": "stderr"
        },
        {
          "output_type": "stream",
          "text": [
            "Train on 12865 samples, validate on 3217 samples\n",
            "Epoch 1/3\n",
            "12865/12865 [==============================] - 45s 4ms/step - loss: 0.6656 - accuracy: 0.6192 - val_loss: 0.6655 - val_accuracy: 0.6173\n",
            "Epoch 2/3\n",
            "12865/12865 [==============================] - 44s 3ms/step - loss: 0.6073 - accuracy: 0.6656 - val_loss: 0.7040 - val_accuracy: 0.5950\n",
            "Epoch 3/3\n",
            "12865/12865 [==============================] - 44s 3ms/step - loss: 0.3237 - accuracy: 0.8524 - val_loss: 0.9699 - val_accuracy: 0.5490\n"
          ],
          "name": "stdout"
        }
      ]
    },
    {
      "cell_type": "code",
      "metadata": {
        "id": "K6jvq7NwlBHa",
        "colab_type": "code",
        "outputId": "41bdf170-eb37-4833-b159-dfc7af23255e",
        "colab": {
          "base_uri": "https://localhost:8080/",
          "height": 316
        }
      },
      "source": [
        "plt.style.use('ggplot')\n",
        "plt.figure()\n",
        "plt.plot(history.history['loss'], label='train_loss')\n",
        "plt.plot(history.history['val_loss'], label='val_loss')\n",
        "plt.plot(history.history['accuracy'], label='train_acc')\n",
        "plt.plot(history.history['val_accuracy'], label='val_acc')\n",
        "plt.title('Training Loss and Accuracy')\n",
        "plt.xlabel('Epoch #')\n",
        "plt.ylabel('Loss/Accuracy')\n",
        "plt.legend(loc='best')"
      ],
      "execution_count": 38,
      "outputs": [
        {
          "output_type": "execute_result",
          "data": {
            "text/plain": [
              "<matplotlib.legend.Legend at 0x7fd9289f7470>"
            ]
          },
          "metadata": {
            "tags": []
          },
          "execution_count": 38
        },
        {
          "output_type": "display_data",
          "data": {
            "image/png": "[encoded data removed]",
            "text/plain": [
              "<Figure size 432x288 with 1 Axes>"
            ]
          },
          "metadata": {
            "tags": []
          }
        }
      ]
    },
    {
      "cell_type": "code",
      "metadata": {
        "id": "2qQjdTrcktXu",
        "colab_type": "code",
        "outputId": "73b7d1cc-8018-43aa-9df0-0c4c16c088db",
        "colab": {
          "base_uri": "https://localhost:8080/",
          "height": 68
        }
      },
      "source": [
        "score, acc = model.evaluate(X_test, y_test, batch_size=batch_size)\n",
        "print('Test score:', score)\n",
        "print('Test accuracy:', acc)"
      ],
      "execution_count": 39,
      "outputs": [
        {
          "output_type": "stream",
          "text": [
            "286/286 [==============================] - 0s 337us/step\n",
            "Test score: 0.9764041504659853\n",
            "Test accuracy: 0.5279720425605774\n"
          ],
          "name": "stdout"
        }
      ]
    },
    {
      "cell_type": "code",
      "metadata": {
        "id": "uiQwql4-jgaZ",
        "colab_type": "code",
        "colab": {}
      },
      "source": [
        "%rm keras.h5\n",
        "model.save('keras.h5')"
      ],
      "execution_count": 0,
      "outputs": []
    }
  ]
}