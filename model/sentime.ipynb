{
  "nbformat": 4,
  "nbformat_minor": 0,
  "metadata": {
    "colab": {
      "name": "sentime.ipynb",
      "provenance": []
    },
    "kernelspec": {
      "name": "python3",
      "display_name": "Python 3"
    },
    "accelerator": "GPU"
  },
  "cells": [
    {
      "cell_type": "code",
      "metadata": {
        "id": "qwcU5hxTiWAI",
        "colab_type": "code",
        "colab": {}
      },
      "source": [
        "import numpy as np\n",
        "import pandas as pd\n",
        "import matplotlib.pyplot as plt"
      ],
      "execution_count": 0,
      "outputs": []
    },
    {
      "cell_type": "code",
      "metadata": {
        "id": "TtP6wvsMiu9M",
        "colab_type": "code",
        "colab": {
          "base_uri": "https://localhost:8080/",
          "height": 51
        },
        "outputId": "9a3d3280-3c9e-478d-f75c-62dc47847f96"
      },
      "source": [
        "from google.colab import drive\n",
        "drive.mount('/content/gdrive')\n",
        "\n",
        "%cd /content/gdrive/My Drive/Sentime"
      ],
      "execution_count": 19,
      "outputs": [
        {
          "output_type": "stream",
          "text": [
            "Drive already mounted at /content/gdrive; to attempt to forcibly remount, call drive.mount(\"/content/gdrive\", force_remount=True).\n",
            "/content/gdrive/My Drive/Sentime\n"
          ],
          "name": "stdout"
        }
      ]
    },
    {
      "cell_type": "code",
      "metadata": {
        "id": "X7I-nx4Mi52K",
        "colab_type": "code",
        "colab": {
          "base_uri": "https://localhost:8080/",
          "height": 51
        },
        "outputId": "6c7893a1-975a-4d88-dad8-5cec71435fd6"
      },
      "source": [
        "data = pd.read_csv(\"2020_04_26_dataset.csv\")\n",
        "data = data[data['sentiment'] != 'NEUTRAL']\n",
        "data = data[data['sentiment'] != 'MIXED']\n",
        "\n",
        "# Preprocess\n",
        "# data['tweet'] = data['tweet'].apply(lambda x: re.sub(r'pic.twitter\\S+', '', x))\n",
        "# data['tweet'] = data['tweet'].apply(lambda x:re.sub(r'https?:\\/\\/.*[\\r\\n]*', '', x))\n",
        "# data['tweet'] = data['tweet'].apply(lambda x:re.sub(r'@[A-Za-z0-9]+', '', x))\n",
        "# data['tweet'] = data['tweet'].apply(lambda x: x.lower())\n",
        "# data['tweet'] = data['tweet'].apply((lambda x: re.sub(r'[^a-zA-z0-9\\s]', '', x)))\n",
        "\n",
        "print(data[ data['sentiment'] == 'POSITIVE'].size)\n",
        "print(data[ data['sentiment'] == 'NEGATIVE'].size)"
      ],
      "execution_count": 20,
      "outputs": [
        {
          "output_type": "stream",
          "text": [
            "334\n",
            "238\n"
          ],
          "name": "stdout"
        }
      ]
    },
    {
      "cell_type": "code",
      "metadata": {
        "id": "8rfzuwRFjOpi",
        "colab_type": "code",
        "colab": {
          "base_uri": "https://localhost:8080/",
          "height": 51
        },
        "outputId": "1b277760-9b5d-4bfe-979e-853dfaa3a86e"
      },
      "source": [
        "from keras.preprocessing.text import Tokenizer\n",
        "from sklearn.model_selection import train_test_split\n",
        "from keras.preprocessing.sequence import pad_sequences\n",
        "\n",
        "max_features = 2000\n",
        "tokenizer = Tokenizer(num_words=max_features, split=' ')\n",
        "tokenizer.fit_on_texts(data['tweet'].values)\n",
        "X = tokenizer.texts_to_sequences(data['tweet'].values)\n",
        "X = pad_sequences(X)\n",
        "\n",
        "Y = pd.get_dummies(data['sentiment']).values\n",
        "X_train, X_test, y_train, y_test = train_test_split(X, Y, test_size = 0.2, random_state = 42)\n",
        "print(X_train.shape,Y_train.shape)\n",
        "print(X_test.shape,Y_test.shape)"
      ],
      "execution_count": 21,
      "outputs": [
        {
          "output_type": "stream",
          "text": [
            "(228, 57) (228, 2)\n",
            "(58, 57) (58, 2)\n"
          ],
          "name": "stdout"
        }
      ]
    },
    {
      "cell_type": "code",
      "metadata": {
        "id": "fB5DwgItj25y",
        "colab_type": "code",
        "colab": {
          "base_uri": "https://localhost:8080/",
          "height": 306
        },
        "outputId": "943572c9-42e8-462f-ca32-29f053b6fdb3"
      },
      "source": [
        "from keras.models import Sequential\n",
        "from keras.layers import Dense, Embedding, LSTM, SpatialDropout1D\n",
        "\n",
        "embed_dim = 128\n",
        "lstm_out = 196\n",
        "\n",
        "model = Sequential()\n",
        "model.add(Embedding(max_features, embed_dim,input_length = X.shape[1]))\n",
        "model.add(SpatialDropout1D(0.4))\n",
        "model.add(LSTM(lstm_out, dropout=0.2, recurrent_dropout=0.2))\n",
        "model.add(Dense(2,activation='softmax'))\n",
        "model.compile(loss = 'categorical_crossentropy', optimizer='adam',metrics = ['accuracy'])\n",
        "\n",
        "print(model.summary())"
      ],
      "execution_count": 22,
      "outputs": [
        {
          "output_type": "stream",
          "text": [
            "Model: \"sequential_3\"\n",
            "_________________________________________________________________\n",
            "Layer (type)                 Output Shape              Param #   \n",
            "=================================================================\n",
            "embedding_2 (Embedding)      (None, 57, 128)           256000    \n",
            "_________________________________________________________________\n",
            "spatial_dropout1d_2 (Spatial (None, 57, 128)           0         \n",
            "_________________________________________________________________\n",
            "lstm_2 (LSTM)                (None, 196)               254800    \n",
            "_________________________________________________________________\n",
            "dense_2 (Dense)              (None, 2)                 394       \n",
            "=================================================================\n",
            "Total params: 511,194\n",
            "Trainable params: 511,194\n",
            "Non-trainable params: 0\n",
            "_________________________________________________________________\n",
            "None\n"
          ],
          "name": "stdout"
        }
      ]
    },
    {
      "cell_type": "code",
      "metadata": {
        "id": "SR7CG_50kglo",
        "colab_type": "code",
        "colab": {
          "base_uri": "https://localhost:8080/",
          "height": 272
        },
        "outputId": "3a050216-0e55-462d-a75f-4656f6b06092"
      },
      "source": [
        "batch_size = 32\n",
        "epochs = 7\n",
        "history = model.fit(X_train, y_train,\n",
        "          batch_size=batch_size,\n",
        "          epochs=epochs,\n",
        "          validation_data=(X_test, y_test))"
      ],
      "execution_count": 25,
      "outputs": [
        {
          "output_type": "stream",
          "text": [
            "Train on 228 samples, validate on 58 samples\n",
            "Epoch 1/7\n",
            "228/228 [==============================] - 1s 5ms/step - loss: 0.2483 - accuracy: 0.9342 - val_loss: 0.6508 - val_accuracy: 0.6034\n",
            "Epoch 2/7\n",
            "228/228 [==============================] - 1s 4ms/step - loss: 0.1949 - accuracy: 0.9868 - val_loss: 0.6405 - val_accuracy: 0.6724\n",
            "Epoch 3/7\n",
            "228/228 [==============================] - 1s 4ms/step - loss: 0.1092 - accuracy: 0.9912 - val_loss: 0.7120 - val_accuracy: 0.6552\n",
            "Epoch 4/7\n",
            "228/228 [==============================] - 1s 5ms/step - loss: 0.0668 - accuracy: 0.9912 - val_loss: 0.7060 - val_accuracy: 0.6552\n",
            "Epoch 5/7\n",
            "228/228 [==============================] - 1s 4ms/step - loss: 0.0432 - accuracy: 0.9956 - val_loss: 0.8156 - val_accuracy: 0.6379\n",
            "Epoch 6/7\n",
            "228/228 [==============================] - 1s 4ms/step - loss: 0.0272 - accuracy: 1.0000 - val_loss: 0.8506 - val_accuracy: 0.6379\n",
            "Epoch 7/7\n",
            "228/228 [==============================] - 1s 4ms/step - loss: 0.0172 - accuracy: 1.0000 - val_loss: 0.8937 - val_accuracy: 0.6379\n"
          ],
          "name": "stdout"
        }
      ]
    },
    {
      "cell_type": "code",
      "metadata": {
        "id": "K6jvq7NwlBHa",
        "colab_type": "code",
        "colab": {
          "base_uri": "https://localhost:8080/",
          "height": 316
        },
        "outputId": "e23639e7-4826-4ec8-de73-285db12f0de1"
      },
      "source": [
        "plt.style.use(\"ggplot\")\n",
        "plt.figure()\n",
        "plt.plot(history.history[\"loss\"], label=\"train_loss\")\n",
        "plt.plot(history.history[\"val_loss\"], label=\"val_loss\")\n",
        "plt.plot(history.history[\"accuracy\"], label=\"train_acc\")\n",
        "plt.plot(history.history[\"val_accuracy\"], label=\"val_acc\")\n",
        "plt.title(\"Training Loss and Accuracy on COVID-19 Dataset\")\n",
        "plt.xlabel(\"Epoch #\")\n",
        "plt.ylabel(\"Loss/Accuracy\")\n",
        "plt.legend(loc=\"lower left\")"
      ],
      "execution_count": 26,
      "outputs": [
        {
          "output_type": "execute_result",
          "data": {
            "text/plain": [
              "<matplotlib.legend.Legend at 0x7f475f2f5128>"
            ]
          },
          "metadata": {
            "tags": []
          },
          "execution_count": 26
        },
        {
          "output_type": "display_data",
          "data": {
            "image/png": "[encoded data removed]",
            "text/plain": [
              "<Figure size 432x288 with 1 Axes>"
            ]
          },
          "metadata": {
            "tags": []
          }
        }
      ]
    },
    {
      "cell_type": "code",
      "metadata": {
        "id": "2qQjdTrcktXu",
        "colab_type": "code",
        "colab": {
          "base_uri": "https://localhost:8080/",
          "height": 68
        },
        "outputId": "430fe8b1-9864-41a1-ed38-80ce77fd2f35"
      },
      "source": [
        "score, acc = model.evaluate(X_test, y_test, batch_size=batch_size)\n",
        "print('Test score:', score)\n",
        "print('Test accuracy:', acc)"
      ],
      "execution_count": 27,
      "outputs": [
        {
          "output_type": "stream",
          "text": [
            "58/58 [==============================] - 0s 394us/step\n",
            "Test score: 0.8936653013887077\n",
            "Test accuracy: 0.6379310488700867\n"
          ],
          "name": "stdout"
        }
      ]
    }
  ]
}