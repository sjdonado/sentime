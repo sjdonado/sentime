{
  "nbformat": 4,
  "nbformat_minor": 0,
  "metadata": {
    "colab": {
      "name": "sentiment_classifier.ipynb",
      "provenance": [],
      "collapsed_sections": []
    },
    "kernelspec": {
      "name": "python3",
      "display_name": "Python 3"
    },
    "accelerator": "GPU"
  },
  "cells": [
    {
      "cell_type": "code",
      "metadata": {
        "id": "qwcU5hxTiWAI",
        "colab_type": "code",
        "outputId": "43f93cd7-f6e0-4503-9fe3-06f0f42315b3",
        "colab": {
          "base_uri": "https://localhost:8080/",
          "height": 86
        }
      },
      "source": [
        "import re\n",
        "import random\n",
        "import pathlib\n",
        "import seaborn as sns\n",
        "import pandas as pd\n",
        "import numpy as np\n",
        "import matplotlib.pyplot as plt\n",
        "\n",
        "import spacy\n",
        "from spacy.compat import pickle\n",
        "\n",
        "!pip install cytoolz\n",
        "\n",
        "import cytoolz\n",
        "\n",
        "SPACY_CORE_MODEL = 'es_core_news_md'\n",
        "spacy.cli.download(SPACY_CORE_MODEL)"
      ],
      "execution_count": 25,
      "outputs": [
        {
          "output_type": "stream",
          "text": [
            "Requirement already satisfied: cytoolz in /usr/local/lib/python3.6/dist-packages (0.10.1)\n",
            "Requirement already satisfied: toolz>=0.8.0 in /usr/local/lib/python3.6/dist-packages (from cytoolz) (0.10.0)\n",
            "\u001b[38;5;2m✔ Download and installation successful\u001b[0m\n",
            "You can now load the model via spacy.load('es_core_news_md')\n"
          ],
          "name": "stdout"
        }
      ]
    },
    {
      "cell_type": "code",
      "metadata": {
        "id": "TtP6wvsMiu9M",
        "colab_type": "code",
        "outputId": "0f23f944-f947-4cf8-8a2e-66bcd22570aa",
        "colab": {
          "base_uri": "https://localhost:8080/",
          "height": 52
        }
      },
      "source": [
        "from google.colab import drive\n",
        "drive.mount('/content/gdrive')\n",
        "\n",
        "%cd /content/gdrive/My Drive/Sentime/data"
      ],
      "execution_count": 26,
      "outputs": [
        {
          "output_type": "stream",
          "text": [
            "Drive already mounted at /content/gdrive; to attempt to forcibly remount, call drive.mount(\"/content/gdrive\", force_remount=True).\n",
            "/content/gdrive/My Drive/Sentime/data\n"
          ],
          "name": "stdout"
        }
      ]
    },
    {
      "cell_type": "code",
      "metadata": {
        "id": "CYcYWwD8CzcX",
        "colab_type": "code",
        "colab": {}
      },
      "source": [
        "# Preprocessing\n",
        "from sklearn.preprocessing import LabelEncoder\n",
        "from keras.utils import to_categorical\n",
        "\n",
        "def read_data(data_dir, title, limit=0):\n",
        "    dataset = pd.read_csv(data_dir / 'data.csv')\n",
        "\n",
        "    categories_count = dataset['sentiment'].value_counts()\n",
        "    print(categories_count)\n",
        "\n",
        "    fig = plt.figure(figsize=(10, 10))\n",
        "    sns.barplot(x=categories_count.index, y=categories_count)\n",
        "    plt.title(title)\n",
        "    plt.show()\n",
        "\n",
        "    dataset = dataset[dataset['sentiment'] != 'MIXED']\n",
        "    # dataset = dataset[dataset['sentiment'] != 'NEUTRAL']\n",
        "\n",
        "    tweets = [str(tweet) for tweet in dataset['tweet']]\n",
        "\n",
        "    sentiments = LabelEncoder()\n",
        "    sentiments = sentiments.fit_transform(dataset['sentiment'])\n",
        "    sentiments = to_categorical(sentiments)\n",
        "\n",
        "    examples = zip(tweets, sentiments)\n",
        "    examples = list(examples)\n",
        "\n",
        "    if limit >= 1:\n",
        "      examples = examples[:limit]\n",
        "\n",
        "    return zip(*examples)  # Unzips into two lists\n",
        "\n",
        "def get_labelled_sentences(docs, doc_labels):\n",
        "    labels = []\n",
        "    sentences = []\n",
        "    for doc, y in zip(docs, doc_labels):\n",
        "        for sent in doc.sents:\n",
        "            sentences.append(sent)\n",
        "            labels.append(y)\n",
        "    return sentences, np.asarray(labels, dtype='f')\n",
        "\n",
        "def get_features(docs, max_length):\n",
        "    docs = list(docs)\n",
        "    Xs = np.zeros((len(docs), max_length))\n",
        "    for i, doc in enumerate(docs):\n",
        "        j = 0\n",
        "        for token in doc:\n",
        "            vector_id = token.vocab.vectors.find(key=token.orth)\n",
        "            if vector_id >= 0:\n",
        "                Xs[i, j] = vector_id\n",
        "            else:\n",
        "                Xs[i, j] = 0\n",
        "            j += 1\n",
        "            if j >= max_length:\n",
        "                break\n",
        "    return Xs"
      ],
      "execution_count": 0,
      "outputs": []
    },
    {
      "cell_type": "code",
      "metadata": {
        "id": "X7I-nx4Mi52K",
        "colab_type": "code",
        "colab": {}
      },
      "source": [
        "batch_size=128\n",
        "\n",
        "class SentimentAnalyser():\n",
        "    @staticmethod\n",
        "    def get_embeddings(vocab):\n",
        "      return vocab.vectors.data\n",
        "\n",
        "    @classmethod\n",
        "    def load(cls, nlp, model, lstm_weights, max_length=140):\n",
        "      embeddings = cls.get_embeddings(nlp.vocab)\n",
        "      model.set_weights([embeddings] + lstm_weights)\n",
        "      return cls(model, max_length=max_length)\n",
        "\n",
        "    @classmethod\n",
        "    def predict(cls, nlp, texts):\n",
        "      docs = nlp.pipe(texts, batch_size=batch_size)\n",
        "      return [doc.sentiment for doc in docs]\n",
        "\n",
        "    def __init__(self, model, max_length=140):\n",
        "      self._model = model\n",
        "      self.max_length = max_length\n",
        "\n",
        "    def __call__(self, doc):\n",
        "      X = get_features([doc], self.max_length)\n",
        "      y = self._model.predict(X)\n",
        "      self.set_sentiment(doc, y)\n",
        "\n",
        "    def pipe(self, docs, batch_size=batch_size):\n",
        "      for minibatch in cytoolz.partition_all(batch_size, docs):\n",
        "          minibatch = list(minibatch)\n",
        "          sentences = []\n",
        "          for doc in minibatch:\n",
        "              sentences.extend(doc.sents)\n",
        "          Xs = get_features(sentences, self.max_length)\n",
        "          ys = self._model.predict(Xs)\n",
        "          for sent, label in zip(sentences, ys):\n",
        "              sent.doc.sentiment += np.argmax(label) - 1\n",
        "          for doc in minibatch:\n",
        "              yield doc\n",
        "\n",
        "    def set_sentiment(self, doc, y):\n",
        "      doc.sentiment = y\n",
        "      # Sentiment has a native slot for a single float.\n",
        "      # For arbitrary data storage, there's:\n",
        "      # doc.user_data['my_data'] = y"
      ],
      "execution_count": 0,
      "outputs": []
    },
    {
      "cell_type": "code",
      "metadata": {
        "id": "16EZ5iM1e6Hb",
        "colab_type": "code",
        "outputId": "75f53e9a-e2ed-486e-d379-606b169eff3b",
        "colab": {
          "base_uri": "https://localhost:8080/",
          "height": 1000
        }
      },
      "source": [
        "model_dir=pathlib.Path('model') # Location of output model directory\n",
        "train_dir=pathlib.Path('train') # Location of training file or directory\n",
        "val_dir=pathlib.Path('validation') # Location of development file or directory\n",
        "\n",
        "print(\"Read data\")\n",
        "train_texts, train_labels = read_data(train_dir, title=\"Train data\")\n",
        "val_texts, val_labels = read_data(val_dir, title=\"Validation data\")\n",
        "\n",
        "train_labels = np.asarray(train_labels, dtype='f')\n",
        "val_labels = np.asarray(val_labels, dtype='f')\n",
        "\n",
        "print(\"Loading spaCy\")\n",
        "nlp = spacy.load(SPACY_CORE_MODEL)\n",
        "nlp.add_pipe(nlp.create_pipe(\"sentencizer\"))"
      ],
      "execution_count": 29,
      "outputs": [
        {
          "output_type": "stream",
          "text": [
            "Read data\n",
            "NEUTRAL     25761\n",
            "POSITIVE    22123\n",
            "NEGATIVE    14459\n",
            "MIXED        4854\n",
            "Name: sentiment, dtype: int64\n"
          ],
          "name": "stdout"
        },
        {
          "output_type": "display_data",
          "data": {
            "image/png": "[encoded data removed]",
            "text/plain": [
              "<Figure size 720x720 with 1 Axes>"
            ]
          },
          "metadata": {
            "tags": [],
            "needs_background": "light"
          }
        },
        {
          "output_type": "stream",
          "text": [
            "NEUTRAL     4313\n",
            "POSITIVE    4242\n",
            "NEGATIVE    3022\n",
            "MIXED       1021\n",
            "Name: sentiment, dtype: int64\n"
          ],
          "name": "stdout"
        },
        {
          "output_type": "display_data",
          "data": {
            "image/png": "[encoded data removed]",
            "text/plain": [
              "<Figure size 720x720 with 1 Axes>"
            ]
          },
          "metadata": {
            "tags": [],
            "needs_background": "light"
          }
        },
        {
          "output_type": "stream",
          "text": [
            "Loading spaCy\n"
          ],
          "name": "stdout"
        }
      ]
    },
    {
      "cell_type": "code",
      "metadata": {
        "id": "exj0jcYI5M9s",
        "colab_type": "code",
        "colab": {}
      },
      "source": [
        "from keras.models import Sequential\n",
        "from keras.layers import LSTM, Dense, Embedding, Bidirectional\n",
        "from keras.layers import TimeDistributed, Dropout\n",
        "from keras.optimizers import Adam\n",
        "\n",
        "shape = {\n",
        "    \"nr_hidden\": 64,\n",
        "    \"max_length\": 140,\n",
        "    \"nr_class\": 3\n",
        "}\n",
        "settings = {\n",
        "    \"dropout\": 0.5,\n",
        "    \"lr\": 0.001,\n",
        "    \"nb_epoch\": 10,\n",
        "    \"batch_size\": batch_size,\n",
        "}\n",
        "embeddings = SentimentAnalyser.get_embeddings(nlp.vocab)\n",
        "\n",
        "model = Sequential()\n",
        "model.add(\n",
        "    Embedding(\n",
        "        embeddings.shape[0],\n",
        "        embeddings.shape[1],\n",
        "        input_length=shape[\"max_length\"],\n",
        "        trainable=True,\n",
        "        weights=[embeddings],\n",
        "        mask_zero=True\n",
        "    )\n",
        ")\n",
        "model.add(TimeDistributed(Dense(shape[\"nr_hidden\"], use_bias=False)))\n",
        "model.add(\n",
        "    Bidirectional(\n",
        "        LSTM(\n",
        "            shape[\"nr_hidden\"],\n",
        "            recurrent_dropout=settings[\"dropout\"],\n",
        "            dropout=settings[\"dropout\"],\n",
        "        )\n",
        "    )\n",
        ")\n",
        "model.add(Dense(shape[\"nr_class\"], activation=\"softmax\"))\n",
        "model.compile(\n",
        "    optimizer=Adam(lr=settings[\"lr\"]),\n",
        "    loss=\"categorical_crossentropy\",\n",
        "    metrics=[\"accuracy\"],\n",
        ")"
      ],
      "execution_count": 0,
      "outputs": []
    },
    {
      "cell_type": "code",
      "metadata": {
        "id": "Y2yUJnCyHpSC",
        "colab_type": "code",
        "colab": {}
      },
      "source": [
        "train_docs = list(nlp.pipe(train_texts))\n",
        "val_docs = list(nlp.pipe(val_texts))\n",
        "\n",
        "train_docs, train_labels = get_labelled_sentences(train_docs, train_labels)\n",
        "val_docs, val_labels = get_labelled_sentences(val_docs, val_labels)\n",
        "\n",
        "train_X = get_features(train_docs, shape[\"max_length\"])\n",
        "val_X = get_features(val_docs, shape[\"max_length\"])"
      ],
      "execution_count": 0,
      "outputs": []
    },
    {
      "cell_type": "code",
      "metadata": {
        "id": "p6qhqn4hHqTF",
        "colab_type": "code",
        "outputId": "50217b9b-247a-4003-95c2-a1bc81b77e2e",
        "colab": {
          "base_uri": "https://localhost:8080/",
          "height": 436
        }
      },
      "source": [
        "history = model.fit(\n",
        "    train_X,\n",
        "    train_labels,\n",
        "    validation_data=(val_X, val_labels),\n",
        "    epochs=settings[\"nb_epoch\"],\n",
        "    batch_size=settings[\"batch_size\"],\n",
        ")"
      ],
      "execution_count": 32,
      "outputs": [
        {
          "output_type": "stream",
          "text": [
            "/usr/local/lib/python3.6/dist-packages/tensorflow/python/framework/indexed_slices.py:434: UserWarning: Converting sparse IndexedSlices to a dense Tensor of unknown shape. This may consume a large amount of memory.\n",
            "  \"Converting sparse IndexedSlices to a dense Tensor of unknown shape. \"\n"
          ],
          "name": "stderr"
        },
        {
          "output_type": "stream",
          "text": [
            "Train on 70189 samples, validate on 13026 samples\n",
            "Epoch 1/10\n",
            "70189/70189 [==============================] - 381s 5ms/step - loss: 0.7850 - accuracy: 0.6431 - val_loss: 0.6871 - val_accuracy: 0.7042\n",
            "Epoch 2/10\n",
            "70189/70189 [==============================] - 376s 5ms/step - loss: 0.6343 - accuracy: 0.7302 - val_loss: 0.6661 - val_accuracy: 0.7163\n",
            "Epoch 3/10\n",
            "70189/70189 [==============================] - 374s 5ms/step - loss: 0.5788 - accuracy: 0.7583 - val_loss: 0.6543 - val_accuracy: 0.7262\n",
            "Epoch 4/10\n",
            "70189/70189 [==============================] - 376s 5ms/step - loss: 0.5352 - accuracy: 0.7766 - val_loss: 0.6744 - val_accuracy: 0.7227\n",
            "Epoch 5/10\n",
            "70189/70189 [==============================] - 382s 5ms/step - loss: 0.5022 - accuracy: 0.7918 - val_loss: 0.6877 - val_accuracy: 0.7203\n",
            "Epoch 6/10\n",
            "70189/70189 [==============================] - 376s 5ms/step - loss: 0.4732 - accuracy: 0.8043 - val_loss: 0.7009 - val_accuracy: 0.7189\n",
            "Epoch 7/10\n",
            "70189/70189 [==============================] - 373s 5ms/step - loss: 0.4508 - accuracy: 0.8147 - val_loss: 0.7424 - val_accuracy: 0.7136\n",
            "Epoch 8/10\n",
            "70189/70189 [==============================] - 372s 5ms/step - loss: 0.4313 - accuracy: 0.8238 - val_loss: 0.7571 - val_accuracy: 0.7138\n",
            "Epoch 9/10\n",
            "70189/70189 [==============================] - 373s 5ms/step - loss: 0.4132 - accuracy: 0.8330 - val_loss: 0.7893 - val_accuracy: 0.7103\n",
            "Epoch 10/10\n",
            "70189/70189 [==============================] - 378s 5ms/step - loss: 0.3997 - accuracy: 0.8379 - val_loss: 0.8151 - val_accuracy: 0.7073\n"
          ],
          "name": "stdout"
        }
      ]
    },
    {
      "cell_type": "code",
      "metadata": {
        "id": "jGb5qX3MWZty",
        "colab_type": "code",
        "outputId": "ae777534-8038-4996-fdcd-e8a5814b9814",
        "colab": {
          "base_uri": "https://localhost:8080/",
          "height": 312
        }
      },
      "source": [
        "plt.figure()\n",
        "plt.plot(history.history['loss'], label='train_loss')\n",
        "plt.plot(history.history['accuracy'], label='train_acc')\n",
        "plt.title('Training Loss and Accuracy vs Epochs')\n",
        "plt.xlabel('Epoch #')\n",
        "plt.ylabel('Loss/Accuracy')\n",
        "plt.legend(loc='best')"
      ],
      "execution_count": 33,
      "outputs": [
        {
          "output_type": "execute_result",
          "data": {
            "text/plain": [
              "<matplotlib.legend.Legend at 0x7f352de094e0>"
            ]
          },
          "metadata": {
            "tags": []
          },
          "execution_count": 33
        },
        {
          "output_type": "display_data",
          "data": {
            "image/png": "[encoded data removed]",
            "text/plain": [
              "<Figure size 432x288 with 1 Axes>"
            ]
          },
          "metadata": {
            "tags": [],
            "needs_background": "light"
          }
        }
      ]
    },
    {
      "cell_type": "code",
      "metadata": {
        "id": "NZAGUbqBPTSI",
        "colab_type": "code",
        "colab": {}
      },
      "source": [
        "# Save model\n",
        "weights = model.get_weights()\n",
        "\n",
        "if model_dir is not None:\n",
        "    with (model_dir / \"model\").open(\"wb\") as file_:\n",
        "        pickle.dump(weights[1:], file_)\n",
        "    with (model_dir / \"config.json\").open(\"w\") as file_:\n",
        "        file_.write(model.to_json())"
      ],
      "execution_count": 0,
      "outputs": []
    },
    {
      "cell_type": "code",
      "metadata": {
        "id": "OwZ_j_Wvn9Oy",
        "colab_type": "code",
        "outputId": "d1e335c2-d312-43be-a88a-8b0b31cc9332",
        "colab": {
          "base_uri": "https://localhost:8080/",
          "height": 711
        }
      },
      "source": [
        "# Evaluate\n",
        "evaluate_nlp = spacy.load(SPACY_CORE_MODEL)\n",
        "evaluate_nlp.add_pipe(evaluate_nlp.create_pipe(\"sentencizer\"))\n",
        "evaluate_nlp.add_pipe(SentimentAnalyser.load(evaluate_nlp, model, weights[1:]))\n",
        "\n",
        "test_texts, test_labels = read_data(pathlib.Path('test'), title=\"Test data\")\n",
        "\n",
        "predictions = SentimentAnalyser.predict(evaluate_nlp, test_texts)\n",
        "correct = 0\n",
        "for i, prediction in enumerate(predictions):\n",
        "    correct += prediction == np.argmax(test_labels[i]) - 1\n",
        "\n",
        "print(\"Test accuracy: {}\".format(float(correct) / i))"
      ],
      "execution_count": 35,
      "outputs": [
        {
          "output_type": "stream",
          "text": [
            "NEUTRAL     1822\n",
            "POSITIVE    1082\n",
            "NEGATIVE    1041\n",
            "MIXED        255\n",
            "Name: sentiment, dtype: int64\n"
          ],
          "name": "stdout"
        },
        {
          "output_type": "display_data",
          "data": {
            "image/png": "[encoded data removed]",
            "text/plain": [
              "<Figure size 720x720 with 1 Axes>"
            ]
          },
          "metadata": {
            "tags": [],
            "needs_background": "light"
          }
        },
        {
          "output_type": "stream",
          "text": [
            "Test accuracy: 0.6227180527383367\n"
          ],
          "name": "stdout"
        }
      ]
    }
  ]
}