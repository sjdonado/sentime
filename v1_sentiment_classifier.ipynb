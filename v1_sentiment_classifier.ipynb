{
  "nbformat": 4,
  "nbformat_minor": 0,
  "metadata": {
    "colab": {
      "name": "v1_sentiment_classifier.ipynb",
      "provenance": [],
      "collapsed_sections": []
    },
    "kernelspec": {
      "name": "python3",
      "display_name": "Python 3"
    },
    "accelerator": "GPU"
  },
  "cells": [
    {
      "cell_type": "code",
      "metadata": {
        "id": "qwcU5hxTiWAI",
        "colab_type": "code",
        "colab": {
          "base_uri": "https://localhost:8080/",
          "height": 51
        },
        "outputId": "dbd49a19-1250-48d9-f46a-f1501d1a3b66"
      },
      "source": [
        "import re\n",
        "import random\n",
        "import pathlib\n",
        "import seaborn as sns\n",
        "import pandas as pd\n",
        "import numpy as np\n",
        "import matplotlib.pyplot as plt\n",
        "\n",
        "!pip install -q -U cytoolz\n",
        "!pip install -q -U spacymoji\n",
        "\n",
        "import spacy\n",
        "import cytoolz\n",
        "from spacymoji import Emoji\n",
        "from spacy.compat import pickle\n",
        "\n",
        "SPACY_CORE_MODEL = 'es_core_news_md'\n",
        "spacy.cli.download(SPACY_CORE_MODEL)"
      ],
      "execution_count": 19,
      "outputs": [
        {
          "output_type": "stream",
          "text": [
            "\u001b[38;5;2m✔ Download and installation successful\u001b[0m\n",
            "You can now load the model via spacy.load('es_core_news_md')\n"
          ],
          "name": "stdout"
        }
      ]
    },
    {
      "cell_type": "code",
      "metadata": {
        "id": "TtP6wvsMiu9M",
        "colab_type": "code",
        "outputId": "ceb6bb81-2ed2-40cc-ff46-e86c74d8485e",
        "colab": {
          "base_uri": "https://localhost:8080/",
          "height": 51
        }
      },
      "source": [
        "from google.colab import drive\n",
        "drive.mount('/content/gdrive')\n",
        "\n",
        "%cd /content/gdrive/My Drive/Sentime/data"
      ],
      "execution_count": 20,
      "outputs": [
        {
          "output_type": "stream",
          "text": [
            "Drive already mounted at /content/gdrive; to attempt to forcibly remount, call drive.mount(\"/content/gdrive\", force_remount=True).\n",
            "/content/gdrive/My Drive/Sentime/data\n"
          ],
          "name": "stdout"
        }
      ]
    },
    {
      "cell_type": "code",
      "metadata": {
        "id": "CYcYWwD8CzcX",
        "colab_type": "code",
        "colab": {}
      },
      "source": [
        "# Preprocessing\n",
        "from sklearn.preprocessing import LabelEncoder\n",
        "from keras.utils import to_categorical\n",
        "from sklearn.utils import resample\n",
        "\n",
        "def balance_dataset(df, order):\n",
        "    class_distribution = df['sentiment'].value_counts()\n",
        "    minority_shape = df[df.sentiment == order[0]].shape[0]\n",
        "\n",
        "    df_list = [df[df.sentiment == order[0]]]\n",
        "    for cls in order[1:]:\n",
        "        df_temp = df[df.sentiment == cls]\n",
        "        df_down_sample = resample(df_temp, replace=False, n_samples = minority_shape,\n",
        "                                   random_state=123)\n",
        "        df_list.append(df_down_sample)\n",
        "\n",
        "    df_downsampled = pd.concat(df_list)\n",
        "    # shuffle\n",
        "    df_downsampled = df_downsampled.sample(frac = 1)\n",
        "    df_downsampled.reset_index(drop=True, inplace=True)\n",
        "    return df_downsampled\n",
        "\n",
        "def plot_classes_proportion(df, title=\"train classes proportion\"):\n",
        "    plot_data = df['sentiment'].value_counts()\n",
        "    x = plot_data.index.values\n",
        "    y = plot_data.values\n",
        "\n",
        "    plt.figure(figsize=(8,5))\n",
        "    fig = sns.barplot(x=x, y=y, orient=\"v\", palette=\"hls\")\n",
        "\n",
        "    plt.ylabel('Number of tweets')\n",
        "    plt.title(title)\n",
        "    plt.tight_layout()\n",
        "    plt.show()\n",
        "\n",
        "def read_data(data_dir, title, balance=False, limit=0):\n",
        "    dataset = pd.read_csv(data_dir / 'data.csv')\n",
        "\n",
        "    plot_classes_proportion(dataset, title)\n",
        "    dataset = dataset[dataset['sentiment'] != 'MIXED']\n",
        "\n",
        "    if balance:\n",
        "      ORDER = [\"NEGATIVE\", \"POSITIVE\", \"NEUTRAL\"]\n",
        "      dataset = balance_dataset(dataset, order=ORDER)\n",
        "      plot_classes_proportion(dataset, \"Balanced train classes proportion\")\n",
        "\n",
        "    tweets = [str(tweet) for tweet in dataset['tweet']]\n",
        "\n",
        "    sentiments = LabelEncoder()\n",
        "    sentiments = sentiments.fit_transform(dataset['sentiment'])\n",
        "    sentiments = to_categorical(sentiments)\n",
        "\n",
        "    examples = zip(tweets, sentiments)\n",
        "    examples = list(examples)\n",
        "\n",
        "    if limit >= 1:\n",
        "      examples = examples[:limit]\n",
        "\n",
        "    return zip(*examples)  # Unzips into two lists\n",
        "\n",
        "def get_labelled_sentences(docs, doc_labels):\n",
        "    labels = []\n",
        "    sentences = []\n",
        "    for doc, y in zip(docs, doc_labels):\n",
        "        for sent in doc.sents:\n",
        "            sentences.append(sent)\n",
        "            labels.append(y)\n",
        "    return sentences, np.asarray(labels, dtype='f')\n",
        "\n",
        "def get_features(docs, max_length):\n",
        "    docs = list(docs)\n",
        "    Xs = np.zeros((len(docs), max_length))\n",
        "    for i, doc in enumerate(docs):\n",
        "        j = 0\n",
        "        for token in doc:\n",
        "            vector_id = token.vocab.vectors.find(key=token.orth)\n",
        "            if vector_id >= 0:\n",
        "                Xs[i, j] = vector_id\n",
        "            else:\n",
        "                Xs[i, j] = 0\n",
        "            j += 1\n",
        "            if j >= max_length:\n",
        "                break\n",
        "    return Xs"
      ],
      "execution_count": 0,
      "outputs": []
    },
    {
      "cell_type": "code",
      "metadata": {
        "id": "X7I-nx4Mi52K",
        "colab_type": "code",
        "colab": {}
      },
      "source": [
        "batch_size=128\n",
        "\n",
        "class SentimentAnalyser():\n",
        "    @staticmethod\n",
        "    def get_embeddings(vocab):\n",
        "      return vocab.vectors.data\n",
        "\n",
        "    @classmethod\n",
        "    def load(cls, nlp, model, lstm_weights, max_length=140):\n",
        "      embeddings = cls.get_embeddings(nlp.vocab)\n",
        "      model.set_weights([embeddings] + lstm_weights)\n",
        "      return cls(model, max_length=max_length)\n",
        "\n",
        "    @classmethod\n",
        "    def predict(cls, nlp, texts):\n",
        "      docs = nlp.pipe(texts, batch_size=batch_size)\n",
        "      return [doc.sentiment for doc in docs]\n",
        "\n",
        "    def __init__(self, model, max_length=140):\n",
        "      self._model = model\n",
        "      self.max_length = max_length\n",
        "\n",
        "    def __call__(self, doc):\n",
        "      X = get_features([doc], self.max_length)\n",
        "      y = self._model.predict(X)\n",
        "      self.set_sentiment(doc, y)\n",
        "\n",
        "    def pipe(self, docs, batch_size=batch_size):\n",
        "      for minibatch in cytoolz.partition_all(batch_size, docs):\n",
        "          minibatch = list(minibatch)\n",
        "          sentences = []\n",
        "          for doc in minibatch:\n",
        "              sentences.extend(doc.sents)\n",
        "          Xs = get_features(sentences, self.max_length)\n",
        "          ys = self._model.predict(Xs)\n",
        "          for sent, label in zip(sentences, ys):\n",
        "              sent.doc.sentiment += np.argmax(label) - 1\n",
        "          for doc in minibatch:\n",
        "              yield doc\n",
        "\n",
        "    def set_sentiment(self, doc, y):\n",
        "      doc.sentiment = y"
      ],
      "execution_count": 0,
      "outputs": []
    },
    {
      "cell_type": "code",
      "metadata": {
        "id": "16EZ5iM1e6Hb",
        "colab_type": "code",
        "outputId": "09c15bc6-3c15-43f2-9307-90e48fba4e47",
        "colab": {
          "base_uri": "https://localhost:8080/",
          "height": 1000
        }
      },
      "source": [
        "model_dir=pathlib.Path('model') # Location of output model directory\n",
        "train_dir=pathlib.Path('train') # Location of training file or directory\n",
        "val_dir=pathlib.Path('validation') # Location of development file or directory\n",
        "\n",
        "print(\"Reading data...\")\n",
        "train_texts, train_labels = read_data(train_dir, title=\"Train data classes proportion\", balance=True)\n",
        "val_texts, val_labels = read_data(val_dir, title=\"Validation data classes proportion\")\n",
        "\n",
        "train_labels = np.asarray(train_labels, dtype='f')\n",
        "val_labels = np.asarray(val_labels, dtype='f')\n",
        "\n",
        "print(\"Loading Spacy..\")\n",
        "nlp = spacy.load(SPACY_CORE_MODEL)\n",
        "\n",
        "# Add emoji detection\n",
        "emoji = Emoji(nlp, merge_spans = False)\n",
        "nlp.add_pipe(emoji, first = True)\n",
        "\n",
        "# Add tokenizer\n",
        "nlp.add_pipe(nlp.create_pipe(\"sentencizer\"))"
      ],
      "execution_count": 23,
      "outputs": [
        {
          "output_type": "stream",
          "text": [
            "Reading data...\n"
          ],
          "name": "stdout"
        },
        {
          "output_type": "display_data",
          "data": {
            "image/png": "[encoded data removed]",
            "text/plain": [
              "<Figure size 576x360 with 1 Axes>"
            ]
          },
          "metadata": {
            "tags": [],
            "needs_background": "light"
          }
        },
        {
          "output_type": "display_data",
          "data": {
            "image/png": "[encoded data removed]",
            "text/plain": [
              "<Figure size 576x360 with 1 Axes>"
            ]
          },
          "metadata": {
            "tags": [],
            "needs_background": "light"
          }
        },
        {
          "output_type": "display_data",
          "data": {
            "image/png": "[encoded data removed]",
            "text/plain": [
              "<Figure size 576x360 with 1 Axes>"
            ]
          },
          "metadata": {
            "tags": [],
            "needs_background": "light"
          }
        },
        {
          "output_type": "stream",
          "text": [
            "Loading Spacy..\n"
          ],
          "name": "stdout"
        }
      ]
    },
    {
      "cell_type": "code",
      "metadata": {
        "id": "exj0jcYI5M9s",
        "colab_type": "code",
        "colab": {}
      },
      "source": [
        "from keras.models import Sequential\n",
        "from keras.layers import LSTM, Dense, Embedding, Bidirectional, Dropout\n",
        "from keras.optimizers import Adam\n",
        "\n",
        "shape = {\n",
        "    \"nr_hidden\": 64,\n",
        "    \"max_length\": 140,\n",
        "    \"nr_class\": 3\n",
        "}\n",
        "settings = {\n",
        "    \"dropout\": 0.5,\n",
        "    \"lr\": 0.001,\n",
        "    \"nb_epoch\": 10,\n",
        "    \"batch_size\": batch_size,\n",
        "}\n",
        "embeddings = SentimentAnalyser.get_embeddings(nlp.vocab)\n",
        "\n",
        "model = Sequential()\n",
        "model.add(\n",
        "    Embedding(\n",
        "        embeddings.shape[0],\n",
        "        embeddings.shape[1],\n",
        "        input_length=shape[\"max_length\"],\n",
        "        trainable=True,\n",
        "        weights=[embeddings],\n",
        "        mask_zero=True\n",
        "    )\n",
        ")\n",
        "model.add(\n",
        "    Bidirectional(\n",
        "        LSTM(\n",
        "            shape[\"nr_hidden\"],\n",
        "            recurrent_dropout=settings[\"dropout\"],\n",
        "            dropout=settings[\"dropout\"],\n",
        "        )\n",
        "    )\n",
        ")\n",
        "model.add(Dense(shape[\"nr_class\"], activation=\"softmax\"))\n",
        "model.compile(\n",
        "    optimizer=Adam(lr=settings[\"lr\"]),\n",
        "    loss=\"categorical_crossentropy\",\n",
        "    metrics=[\"accuracy\"],\n",
        ")"
      ],
      "execution_count": 0,
      "outputs": []
    },
    {
      "cell_type": "code",
      "metadata": {
        "id": "Y2yUJnCyHpSC",
        "colab_type": "code",
        "colab": {}
      },
      "source": [
        "train_docs = list(nlp.pipe(train_texts))\n",
        "val_docs = list(nlp.pipe(val_texts))\n",
        "\n",
        "train_docs, train_labels = get_labelled_sentences(train_docs, train_labels)\n",
        "val_docs, val_labels = get_labelled_sentences(val_docs, val_labels)\n",
        "\n",
        "train_X = get_features(train_docs, shape[\"max_length\"])\n",
        "val_X = get_features(val_docs, shape[\"max_length\"])"
      ],
      "execution_count": 0,
      "outputs": []
    },
    {
      "cell_type": "code",
      "metadata": {
        "id": "p6qhqn4hHqTF",
        "colab_type": "code",
        "outputId": "4d938c59-863a-4d55-8bcc-d98bf6a294d7",
        "colab": {
          "base_uri": "https://localhost:8080/",
          "height": 428
        }
      },
      "source": [
        "history = model.fit(\n",
        "    train_X,\n",
        "    train_labels,\n",
        "    validation_data=(val_X, val_labels),\n",
        "    epochs=settings[\"nb_epoch\"],\n",
        "    batch_size=settings[\"batch_size\"],\n",
        ")"
      ],
      "execution_count": 26,
      "outputs": [
        {
          "output_type": "stream",
          "text": [
            "/usr/local/lib/python3.6/dist-packages/tensorflow/python/framework/indexed_slices.py:434: UserWarning: Converting sparse IndexedSlices to a dense Tensor of unknown shape. This may consume a large amount of memory.\n",
            "  \"Converting sparse IndexedSlices to a dense Tensor of unknown shape. \"\n"
          ],
          "name": "stderr"
        },
        {
          "output_type": "stream",
          "text": [
            "Train on 40161 samples, validate on 10390 samples\n",
            "Epoch 1/10\n",
            "40161/40161 [==============================] - 227s 6ms/step - loss: 0.9304 - accuracy: 0.5540 - val_loss: 0.7896 - val_accuracy: 0.6571\n",
            "Epoch 2/10\n",
            "40161/40161 [==============================] - 222s 6ms/step - loss: 0.7969 - accuracy: 0.6440 - val_loss: 0.7187 - val_accuracy: 0.6936\n",
            "Epoch 3/10\n",
            "40161/40161 [==============================] - 220s 5ms/step - loss: 0.7233 - accuracy: 0.6864 - val_loss: 0.6786 - val_accuracy: 0.7141\n",
            "Epoch 4/10\n",
            "40161/40161 [==============================] - 219s 5ms/step - loss: 0.6754 - accuracy: 0.7135 - val_loss: 0.6699 - val_accuracy: 0.7204\n",
            "Epoch 5/10\n",
            "40161/40161 [==============================] - 219s 5ms/step - loss: 0.6458 - accuracy: 0.7268 - val_loss: 0.6670 - val_accuracy: 0.7228\n",
            "Epoch 6/10\n",
            "40161/40161 [==============================] - 217s 5ms/step - loss: 0.6172 - accuracy: 0.7419 - val_loss: 0.6749 - val_accuracy: 0.7227\n",
            "Epoch 7/10\n",
            "40161/40161 [==============================] - 218s 5ms/step - loss: 0.5920 - accuracy: 0.7515 - val_loss: 0.6630 - val_accuracy: 0.7285\n",
            "Epoch 8/10\n",
            "40161/40161 [==============================] - 219s 5ms/step - loss: 0.5739 - accuracy: 0.7603 - val_loss: 0.6644 - val_accuracy: 0.7260\n",
            "Epoch 9/10\n",
            "40161/40161 [==============================] - 221s 5ms/step - loss: 0.5541 - accuracy: 0.7710 - val_loss: 0.6760 - val_accuracy: 0.7254\n",
            "Epoch 10/10\n",
            "40161/40161 [==============================] - 219s 5ms/step - loss: 0.5389 - accuracy: 0.7776 - val_loss: 0.6840 - val_accuracy: 0.7266\n"
          ],
          "name": "stdout"
        }
      ]
    },
    {
      "cell_type": "code",
      "metadata": {
        "id": "jGb5qX3MWZty",
        "colab_type": "code",
        "outputId": "44d317a6-9242-4427-e935-67e0c088133f",
        "colab": {
          "base_uri": "https://localhost:8080/",
          "height": 312
        }
      },
      "source": [
        "plt.figure()\n",
        "plt.plot(history.history['loss'], label='train_loss')\n",
        "plt.plot(history.history['accuracy'], label='train_acc')\n",
        "plt.title('Training Loss and Accuracy vs Epochs')\n",
        "plt.xlabel('Epoch #')\n",
        "plt.ylabel('Loss/Accuracy')\n",
        "plt.legend(loc='best')"
      ],
      "execution_count": 27,
      "outputs": [
        {
          "output_type": "execute_result",
          "data": {
            "text/plain": [
              "<matplotlib.legend.Legend at 0x7fa5bdb2c3c8>"
            ]
          },
          "metadata": {
            "tags": []
          },
          "execution_count": 27
        },
        {
          "output_type": "display_data",
          "data": {
            "image/png": "[encoded data removed]",
            "text/plain": [
              "<Figure size 432x288 with 1 Axes>"
            ]
          },
          "metadata": {
            "tags": [],
            "needs_background": "light"
          }
        }
      ]
    },
    {
      "cell_type": "code",
      "metadata": {
        "id": "NZAGUbqBPTSI",
        "colab_type": "code",
        "colab": {}
      },
      "source": [
        "# Save model\n",
        "weights = model.get_weights()\n",
        "\n",
        "if model_dir is not None:\n",
        "    with (model_dir / \"model\").open(\"wb\") as file_:\n",
        "        pickle.dump(weights[1:], file_)\n",
        "    with (model_dir / \"config.json\").open(\"w\") as file_:\n",
        "        file_.write(model.to_json())"
      ],
      "execution_count": 0,
      "outputs": []
    },
    {
      "cell_type": "code",
      "metadata": {
        "id": "OwZ_j_Wvn9Oy",
        "colab_type": "code",
        "outputId": "769e6db8-171d-4b08-ec1b-487acf6fa2c8",
        "colab": {
          "base_uri": "https://localhost:8080/",
          "height": 386
        }
      },
      "source": [
        "# Evaluate\n",
        "evaluate_nlp = spacy.load(SPACY_CORE_MODEL)\n",
        "emoji = Emoji(evaluate_nlp, merge_spans = False)\n",
        "evaluate_nlp.add_pipe(emoji, first = True)\n",
        "evaluate_nlp.add_pipe(evaluate_nlp.create_pipe(\"sentencizer\"))\n",
        "evaluate_nlp.add_pipe(SentimentAnalyser.load(evaluate_nlp, model, weights[1:]))\n",
        "\n",
        "test_texts, test_labels = read_data(pathlib.Path('test'), title=\"Test data\")\n",
        "\n",
        "predictions = SentimentAnalyser.predict(evaluate_nlp, test_texts)\n",
        "correct = 0\n",
        "for i, prediction in enumerate(predictions):\n",
        "    correct += prediction == np.argmax(test_labels[i]) - 1\n",
        "\n",
        "print(\"Test accuracy: {}\".format(float(correct) / i))"
      ],
      "execution_count": 31,
      "outputs": [
        {
          "output_type": "display_data",
          "data": {
            "image/png": "[encoded data removed]",
            "text/plain": [
              "<Figure size 576x360 with 1 Axes>"
            ]
          },
          "metadata": {
            "tags": [],
            "needs_background": "light"
          }
        },
        {
          "output_type": "stream",
          "text": [
            "Test accuracy: 0.6503378378378378\n"
          ],
          "name": "stdout"
        }
      ]
    }
  ]
}